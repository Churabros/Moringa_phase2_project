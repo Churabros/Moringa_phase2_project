{
  "nbformat": 4,
  "nbformat_minor": 0,
  "metadata": {
    "colab": {
      "provenance": [],
      "include_colab_link": true
    },
    "kernelspec": {
      "name": "python3",
      "display_name": "Python 3"
    },
    "language_info": {
      "name": "python"
    }
  },
  "cells": [
    {
      "cell_type": "markdown",
      "metadata": {
        "id": "view-in-github",
        "colab_type": "text"
      },
      "source": [
        "<a href=\"https://colab.research.google.com/github/Churabros/Moringa_phase2_project/blob/main/Phase_2_Project.ipynb\" target=\"_parent\"><img src=\"https://colab.research.google.com/assets/colab-badge.svg\" alt=\"Open In Colab\"/></a>"
      ]
    },
    {
      "cell_type": "markdown",
      "source": [
        "# Phase 3 Project\n",
        "##Group Members\n",
        "\n",
        "\n",
        "1.   Yusuf Ali\n",
        "2.   Winny Chepkoech\n",
        "3.   Festus Muchemi\n",
        "4.   Krop Leonard\n",
        "\n"
      ],
      "metadata": {
        "id": "SJULmS0tbVpf"
      }
    },
    {
      "cell_type": "markdown",
      "source": [
        "\n",
        "\n",
        "![pandas](https://img.freepik.com/free-vector/online-cinema-banner-with-open-clapper-board-film-strip_1419-2242.jpg)"
      ],
      "metadata": {
        "id": "kRWM50b-81nN"
      }
    },
    {
      "cell_type": "markdown",
      "source": [
        "#Overview"
      ],
      "metadata": {
        "id": "SRpPkM9EGj41"
      }
    },
    {
      "cell_type": "markdown",
      "source": [
        "In the evolving landscape of the entertainment industry, major companies are increasingly investing in original video content to capture audience attention and secure market share. Following this trend, our company has decided to venture into the movie production business by establishing a new movie studio. However, given our lack of experience in this domain, it is crucial to understand the current dynamics of the box office to make informed decisions about the types of films to produce. This analysis will help our company’s new movie studio to strategically plan and create films that are more likely to perform well at the box office, thereby ensuring a competitive edge in the market.\n",
        "\n"
      ],
      "metadata": {
        "id": "4riEZYZ6qUXG"
      }
    },
    {
      "cell_type": "markdown",
      "source": [
        "# Business understanding"
      ],
      "metadata": {
        "id": "rbOWoT5QGrZM"
      }
    },
    {
      "cell_type": "markdown",
      "source": [
        "The film industry is a highly competitive and dynamic sector, where the success of a movie depends on various factors, including genre, budget, runtime,  and release timing. By analyzing these factors, we can gain insights into what makes a movie successful and use this knowledge to guide our production choices. Understanding the preferences and behaviors of moviegoers, as well as the strategies employed by successful films, will be critical in shaping our studio's content creation strategy.\n",
        "\n"
      ],
      "metadata": {
        "id": "j5Srx_OjsAsg"
      }
    },
    {
      "cell_type": "markdown",
      "source": [
        "#Objectives"
      ],
      "metadata": {
        "id": "OEfvvDOQGvAc"
      }
    },
    {
      "cell_type": "markdown",
      "source": [
        "1. Identify leading movie genres in terms of gross sales to determine which consistently produce high-performing films.\n",
        "2. Compare production costs to revenue to identify optimal investment strategies for maximizing return on investment.\n",
        "3. Analyze movie ratings and audience preferences to understand what elements contribute to higher viewer satisfaction.\n",
        "4.\tPredict the best movie genres that return highest profit to the firm.\n"
      ],
      "metadata": {
        "id": "IAS9l-f5ECKZ"
      }
    },
    {
      "cell_type": "markdown",
      "source": [
        "#Data Understanding\n",
        "The Data that was used for this analysis will be pulled from Three Diffrent sources\n",
        "\n",
        "`tn.movie_budgets.csv`\n",
        "\n",
        "* **Source**: The dataset can be found in  [The Numbers database](https://www.the-numbers.com/)\n",
        "\n",
        "* **Format**: The data is stored in a csv (comma separated value ) file\n",
        "\n",
        "`tmdb.movies.csv`\n",
        "\n",
        "* **Source**: The dataset can be found in  [Movies DB database](https://www.themoviedb.org/)\n",
        "\n",
        "* **Format**: The data is stored in a csv (comma separated value ) file\n",
        "\n",
        "`rt.movie_info.tsv`\n",
        "\n",
        "* **Source**: The dataset can be found in  [Rotten tomatos database](https://www.rottentomatoes.com/)\n",
        "\n",
        "* **Format**: The data is stored in a csv (comma separated value ) file\n",
        "\n",
        "`im.db`\n",
        "\n",
        "* **Source**: The dataset can be found in  [IMDB database](https://www.imdb.com/)\n",
        "\n",
        "* **Format**: The data is stored in a db(database) file\n",
        "\n",
        "The Specific rows used in the data set are\n",
        "\n",
        "* `budget_release_date` - The date the movie was released\n",
        "* `title` - The title of the Movie\n",
        "* `domestic_gross` - The money the movie made in the country it was made\n",
        "* `worldwide_gross` - The money the movie made around the world\n",
        "* `region` - the country the movie was made\n",
        "* `runtime_minutes` - The duration of the movie in minutes  \n",
        "* `genre` - The genre of the movie"
      ],
      "metadata": {
        "id": "Uv0M1IXTsnd2"
      }
    },
    {
      "cell_type": "markdown",
      "source": [
        "**Inserting Relevant Libraries to help in analysing the data**"
      ],
      "metadata": {
        "id": "NUHDnvKlt4eq"
      }
    },
    {
      "cell_type": "markdown",
      "source": [
        "We begin by importing the necessary libraries for data manipulation, analysis, and visualization."
      ],
      "metadata": {
        "id": "jm2txXh5KKG8"
      }
    },
    {
      "cell_type": "code",
      "execution_count": null,
      "metadata": {
        "id": "LW9ZXG3JGSSL"
      },
      "outputs": [],
      "source": [
        "import pandas as pd\n",
        "import numpy as np\n",
        "import matplotlib.pyplot as plt\n",
        "from math import sqrt\n",
        "import seaborn as sns\n",
        "import sqlite3\n",
        "import statsmodels.api as sm\n",
        "import warnings\n",
        "import scipy.stats as stats\n",
        "\n",
        "warnings.filterwarnings('ignore')"
      ]
    },
    {
      "cell_type": "markdown",
      "source": [
        "**Import Relevant Libraries That will be used in the analysis**"
      ],
      "metadata": {
        "id": "h0Yk00yuuA_T"
      }
    },
    {
      "cell_type": "markdown",
      "source": [
        "In this step, we are importing the datasets required for our analysis. These datasets include movie budgets, movie details from TMDB, box office gross revenues, Rotten Tomatoes reviews, and movie information. We will also establish a connection to an SQLite database where some of our data may be stored.\n",
        "\n",
        "The datasets are:\n",
        "- `df_budget`: Contains movie budget information.\n",
        "- `df_tmdf`: Contains movie details from TMDB.\n",
        "- `df_gross`: Contains box office gross revenue information.\n",
        "- `df_rev`: Contains Rotten Tomatoes reviews.\n",
        "- `df_info`: Contains movie information from Rotten Tomatoes.\n"
      ],
      "metadata": {
        "id": "8gDQMwaJLCWC"
      }
    },
    {
      "cell_type": "code",
      "source": [
        "#Imported Datasets\n",
        "df_budget = pd.read_csv('/content/tn.movie_budgets.csv.gz')\n",
        "df_tmdf = pd.read_csv('/content/tmdb.movies.csv.gz')\n",
        "df_gross = pd.read_csv('/content/bom.movie_gross.csv.gz')\n",
        "df_rev = pd.read_csv('/content/rt.reviews.tsv.gz', sep='\\t', encoding='latin1') # Try using 'latin1' encoding\n",
        "df_info = pd.read_csv('/content/rt.movie_info.tsv.gz', sep='\\t')\n",
        "path = '/content/im.db'\n",
        "conn = sqlite3.connect(path)"
      ],
      "metadata": {
        "id": "XyRtGfK6TuAq"
      },
      "execution_count": null,
      "outputs": []
    },
    {
      "cell_type": "markdown",
      "source": [
        "We will use these datasets to perform our analysis and gain insights into the factors that contribute to a movie's success."
      ],
      "metadata": {
        "id": "8WG_ToejLdq0"
      }
    },
    {
      "cell_type": "markdown",
      "source": [
        "#Data Exploration"
      ],
      "metadata": {
        "id": "aAcKurCTsKKk"
      }
    },
    {
      "cell_type": "markdown",
      "source": [
        "We begin our data exploration by examining the first few rows of the `df_info` dataset, which contains movie information from Rotten Tomatoes. This step helps us understand the structure of the dataset and the type of information it holds. By inspecting the initial rows, we can identify the columns available and check for any potential issues with the data."
      ],
      "metadata": {
        "id": "do_iYRgNL9UU"
      }
    },
    {
      "cell_type": "code",
      "source": [
        "df_info.head()"
      ],
      "metadata": {
        "id": "R2wNgjOF5ZQH",
        "colab": {
          "base_uri": "https://localhost:8080/",
          "height": 293
        },
        "outputId": "efd422e3-d2c3-4fb2-9034-07b5dfc27d6c"
      },
      "execution_count": null,
      "outputs": [
        {
          "output_type": "execute_result",
          "data": {
            "text/plain": [
              "   id                                           synopsis rating  \\\n",
              "0   1  This gritty, fast-paced, and innovative police...      R   \n",
              "1   3  New York City, not-too-distant-future: Eric Pa...      R   \n",
              "2   5  Illeana Douglas delivers a superb performance ...      R   \n",
              "3   6  Michael Douglas runs afoul of a treacherous su...      R   \n",
              "4   7                                                NaN     NR   \n",
              "\n",
              "                                 genre          director  \\\n",
              "0  Action and Adventure|Classics|Drama  William Friedkin   \n",
              "1    Drama|Science Fiction and Fantasy  David Cronenberg   \n",
              "2    Drama|Musical and Performing Arts    Allison Anders   \n",
              "3           Drama|Mystery and Suspense    Barry Levinson   \n",
              "4                        Drama|Romance    Rodney Bennett   \n",
              "\n",
              "                            writer  theater_date      dvd_date currency  \\\n",
              "0                   Ernest Tidyman   Oct 9, 1971  Sep 25, 2001      NaN   \n",
              "1     David Cronenberg|Don DeLillo  Aug 17, 2012   Jan 1, 2013        $   \n",
              "2                   Allison Anders  Sep 13, 1996  Apr 18, 2000      NaN   \n",
              "3  Paul Attanasio|Michael Crichton   Dec 9, 1994  Aug 27, 1997      NaN   \n",
              "4                     Giles Cooper           NaN           NaN      NaN   \n",
              "\n",
              "  box_office      runtime             studio  \n",
              "0        NaN  104 minutes                NaN  \n",
              "1    600,000  108 minutes  Entertainment One  \n",
              "2        NaN  116 minutes                NaN  \n",
              "3        NaN  128 minutes                NaN  \n",
              "4        NaN  200 minutes                NaN  "
            ],
            "text/html": [
              "\n",
              "  <div id=\"df-0a81294e-f697-4169-bf1c-9e325d54efeb\" class=\"colab-df-container\">\n",
              "    <div>\n",
              "<style scoped>\n",
              "    .dataframe tbody tr th:only-of-type {\n",
              "        vertical-align: middle;\n",
              "    }\n",
              "\n",
              "    .dataframe tbody tr th {\n",
              "        vertical-align: top;\n",
              "    }\n",
              "\n",
              "    .dataframe thead th {\n",
              "        text-align: right;\n",
              "    }\n",
              "</style>\n",
              "<table border=\"1\" class=\"dataframe\">\n",
              "  <thead>\n",
              "    <tr style=\"text-align: right;\">\n",
              "      <th></th>\n",
              "      <th>id</th>\n",
              "      <th>synopsis</th>\n",
              "      <th>rating</th>\n",
              "      <th>genre</th>\n",
              "      <th>director</th>\n",
              "      <th>writer</th>\n",
              "      <th>theater_date</th>\n",
              "      <th>dvd_date</th>\n",
              "      <th>currency</th>\n",
              "      <th>box_office</th>\n",
              "      <th>runtime</th>\n",
              "      <th>studio</th>\n",
              "    </tr>\n",
              "  </thead>\n",
              "  <tbody>\n",
              "    <tr>\n",
              "      <th>0</th>\n",
              "      <td>1</td>\n",
              "      <td>This gritty, fast-paced, and innovative police...</td>\n",
              "      <td>R</td>\n",
              "      <td>Action and Adventure|Classics|Drama</td>\n",
              "      <td>William Friedkin</td>\n",
              "      <td>Ernest Tidyman</td>\n",
              "      <td>Oct 9, 1971</td>\n",
              "      <td>Sep 25, 2001</td>\n",
              "      <td>NaN</td>\n",
              "      <td>NaN</td>\n",
              "      <td>104 minutes</td>\n",
              "      <td>NaN</td>\n",
              "    </tr>\n",
              "    <tr>\n",
              "      <th>1</th>\n",
              "      <td>3</td>\n",
              "      <td>New York City, not-too-distant-future: Eric Pa...</td>\n",
              "      <td>R</td>\n",
              "      <td>Drama|Science Fiction and Fantasy</td>\n",
              "      <td>David Cronenberg</td>\n",
              "      <td>David Cronenberg|Don DeLillo</td>\n",
              "      <td>Aug 17, 2012</td>\n",
              "      <td>Jan 1, 2013</td>\n",
              "      <td>$</td>\n",
              "      <td>600,000</td>\n",
              "      <td>108 minutes</td>\n",
              "      <td>Entertainment One</td>\n",
              "    </tr>\n",
              "    <tr>\n",
              "      <th>2</th>\n",
              "      <td>5</td>\n",
              "      <td>Illeana Douglas delivers a superb performance ...</td>\n",
              "      <td>R</td>\n",
              "      <td>Drama|Musical and Performing Arts</td>\n",
              "      <td>Allison Anders</td>\n",
              "      <td>Allison Anders</td>\n",
              "      <td>Sep 13, 1996</td>\n",
              "      <td>Apr 18, 2000</td>\n",
              "      <td>NaN</td>\n",
              "      <td>NaN</td>\n",
              "      <td>116 minutes</td>\n",
              "      <td>NaN</td>\n",
              "    </tr>\n",
              "    <tr>\n",
              "      <th>3</th>\n",
              "      <td>6</td>\n",
              "      <td>Michael Douglas runs afoul of a treacherous su...</td>\n",
              "      <td>R</td>\n",
              "      <td>Drama|Mystery and Suspense</td>\n",
              "      <td>Barry Levinson</td>\n",
              "      <td>Paul Attanasio|Michael Crichton</td>\n",
              "      <td>Dec 9, 1994</td>\n",
              "      <td>Aug 27, 1997</td>\n",
              "      <td>NaN</td>\n",
              "      <td>NaN</td>\n",
              "      <td>128 minutes</td>\n",
              "      <td>NaN</td>\n",
              "    </tr>\n",
              "    <tr>\n",
              "      <th>4</th>\n",
              "      <td>7</td>\n",
              "      <td>NaN</td>\n",
              "      <td>NR</td>\n",
              "      <td>Drama|Romance</td>\n",
              "      <td>Rodney Bennett</td>\n",
              "      <td>Giles Cooper</td>\n",
              "      <td>NaN</td>\n",
              "      <td>NaN</td>\n",
              "      <td>NaN</td>\n",
              "      <td>NaN</td>\n",
              "      <td>200 minutes</td>\n",
              "      <td>NaN</td>\n",
              "    </tr>\n",
              "  </tbody>\n",
              "</table>\n",
              "</div>\n",
              "    <div class=\"colab-df-buttons\">\n",
              "\n",
              "  <div class=\"colab-df-container\">\n",
              "    <button class=\"colab-df-convert\" onclick=\"convertToInteractive('df-0a81294e-f697-4169-bf1c-9e325d54efeb')\"\n",
              "            title=\"Convert this dataframe to an interactive table.\"\n",
              "            style=\"display:none;\">\n",
              "\n",
              "  <svg xmlns=\"http://www.w3.org/2000/svg\" height=\"24px\" viewBox=\"0 -960 960 960\">\n",
              "    <path d=\"M120-120v-720h720v720H120Zm60-500h600v-160H180v160Zm220 220h160v-160H400v160Zm0 220h160v-160H400v160ZM180-400h160v-160H180v160Zm440 0h160v-160H620v160ZM180-180h160v-160H180v160Zm440 0h160v-160H620v160Z\"/>\n",
              "  </svg>\n",
              "    </button>\n",
              "\n",
              "  <style>\n",
              "    .colab-df-container {\n",
              "      display:flex;\n",
              "      gap: 12px;\n",
              "    }\n",
              "\n",
              "    .colab-df-convert {\n",
              "      background-color: #E8F0FE;\n",
              "      border: none;\n",
              "      border-radius: 50%;\n",
              "      cursor: pointer;\n",
              "      display: none;\n",
              "      fill: #1967D2;\n",
              "      height: 32px;\n",
              "      padding: 0 0 0 0;\n",
              "      width: 32px;\n",
              "    }\n",
              "\n",
              "    .colab-df-convert:hover {\n",
              "      background-color: #E2EBFA;\n",
              "      box-shadow: 0px 1px 2px rgba(60, 64, 67, 0.3), 0px 1px 3px 1px rgba(60, 64, 67, 0.15);\n",
              "      fill: #174EA6;\n",
              "    }\n",
              "\n",
              "    .colab-df-buttons div {\n",
              "      margin-bottom: 4px;\n",
              "    }\n",
              "\n",
              "    [theme=dark] .colab-df-convert {\n",
              "      background-color: #3B4455;\n",
              "      fill: #D2E3FC;\n",
              "    }\n",
              "\n",
              "    [theme=dark] .colab-df-convert:hover {\n",
              "      background-color: #434B5C;\n",
              "      box-shadow: 0px 1px 3px 1px rgba(0, 0, 0, 0.15);\n",
              "      filter: drop-shadow(0px 1px 2px rgba(0, 0, 0, 0.3));\n",
              "      fill: #FFFFFF;\n",
              "    }\n",
              "  </style>\n",
              "\n",
              "    <script>\n",
              "      const buttonEl =\n",
              "        document.querySelector('#df-0a81294e-f697-4169-bf1c-9e325d54efeb button.colab-df-convert');\n",
              "      buttonEl.style.display =\n",
              "        google.colab.kernel.accessAllowed ? 'block' : 'none';\n",
              "\n",
              "      async function convertToInteractive(key) {\n",
              "        const element = document.querySelector('#df-0a81294e-f697-4169-bf1c-9e325d54efeb');\n",
              "        const dataTable =\n",
              "          await google.colab.kernel.invokeFunction('convertToInteractive',\n",
              "                                                    [key], {});\n",
              "        if (!dataTable) return;\n",
              "\n",
              "        const docLinkHtml = 'Like what you see? Visit the ' +\n",
              "          '<a target=\"_blank\" href=https://colab.research.google.com/notebooks/data_table.ipynb>data table notebook</a>'\n",
              "          + ' to learn more about interactive tables.';\n",
              "        element.innerHTML = '';\n",
              "        dataTable['output_type'] = 'display_data';\n",
              "        await google.colab.output.renderOutput(dataTable, element);\n",
              "        const docLink = document.createElement('div');\n",
              "        docLink.innerHTML = docLinkHtml;\n",
              "        element.appendChild(docLink);\n",
              "      }\n",
              "    </script>\n",
              "  </div>\n",
              "\n",
              "\n",
              "<div id=\"df-90ef6883-c981-4039-9d7e-694f60ab1043\">\n",
              "  <button class=\"colab-df-quickchart\" onclick=\"quickchart('df-90ef6883-c981-4039-9d7e-694f60ab1043')\"\n",
              "            title=\"Suggest charts\"\n",
              "            style=\"display:none;\">\n",
              "\n",
              "<svg xmlns=\"http://www.w3.org/2000/svg\" height=\"24px\"viewBox=\"0 0 24 24\"\n",
              "     width=\"24px\">\n",
              "    <g>\n",
              "        <path d=\"M19 3H5c-1.1 0-2 .9-2 2v14c0 1.1.9 2 2 2h14c1.1 0 2-.9 2-2V5c0-1.1-.9-2-2-2zM9 17H7v-7h2v7zm4 0h-2V7h2v10zm4 0h-2v-4h2v4z\"/>\n",
              "    </g>\n",
              "</svg>\n",
              "  </button>\n",
              "\n",
              "<style>\n",
              "  .colab-df-quickchart {\n",
              "      --bg-color: #E8F0FE;\n",
              "      --fill-color: #1967D2;\n",
              "      --hover-bg-color: #E2EBFA;\n",
              "      --hover-fill-color: #174EA6;\n",
              "      --disabled-fill-color: #AAA;\n",
              "      --disabled-bg-color: #DDD;\n",
              "  }\n",
              "\n",
              "  [theme=dark] .colab-df-quickchart {\n",
              "      --bg-color: #3B4455;\n",
              "      --fill-color: #D2E3FC;\n",
              "      --hover-bg-color: #434B5C;\n",
              "      --hover-fill-color: #FFFFFF;\n",
              "      --disabled-bg-color: #3B4455;\n",
              "      --disabled-fill-color: #666;\n",
              "  }\n",
              "\n",
              "  .colab-df-quickchart {\n",
              "    background-color: var(--bg-color);\n",
              "    border: none;\n",
              "    border-radius: 50%;\n",
              "    cursor: pointer;\n",
              "    display: none;\n",
              "    fill: var(--fill-color);\n",
              "    height: 32px;\n",
              "    padding: 0;\n",
              "    width: 32px;\n",
              "  }\n",
              "\n",
              "  .colab-df-quickchart:hover {\n",
              "    background-color: var(--hover-bg-color);\n",
              "    box-shadow: 0 1px 2px rgba(60, 64, 67, 0.3), 0 1px 3px 1px rgba(60, 64, 67, 0.15);\n",
              "    fill: var(--button-hover-fill-color);\n",
              "  }\n",
              "\n",
              "  .colab-df-quickchart-complete:disabled,\n",
              "  .colab-df-quickchart-complete:disabled:hover {\n",
              "    background-color: var(--disabled-bg-color);\n",
              "    fill: var(--disabled-fill-color);\n",
              "    box-shadow: none;\n",
              "  }\n",
              "\n",
              "  .colab-df-spinner {\n",
              "    border: 2px solid var(--fill-color);\n",
              "    border-color: transparent;\n",
              "    border-bottom-color: var(--fill-color);\n",
              "    animation:\n",
              "      spin 1s steps(1) infinite;\n",
              "  }\n",
              "\n",
              "  @keyframes spin {\n",
              "    0% {\n",
              "      border-color: transparent;\n",
              "      border-bottom-color: var(--fill-color);\n",
              "      border-left-color: var(--fill-color);\n",
              "    }\n",
              "    20% {\n",
              "      border-color: transparent;\n",
              "      border-left-color: var(--fill-color);\n",
              "      border-top-color: var(--fill-color);\n",
              "    }\n",
              "    30% {\n",
              "      border-color: transparent;\n",
              "      border-left-color: var(--fill-color);\n",
              "      border-top-color: var(--fill-color);\n",
              "      border-right-color: var(--fill-color);\n",
              "    }\n",
              "    40% {\n",
              "      border-color: transparent;\n",
              "      border-right-color: var(--fill-color);\n",
              "      border-top-color: var(--fill-color);\n",
              "    }\n",
              "    60% {\n",
              "      border-color: transparent;\n",
              "      border-right-color: var(--fill-color);\n",
              "    }\n",
              "    80% {\n",
              "      border-color: transparent;\n",
              "      border-right-color: var(--fill-color);\n",
              "      border-bottom-color: var(--fill-color);\n",
              "    }\n",
              "    90% {\n",
              "      border-color: transparent;\n",
              "      border-bottom-color: var(--fill-color);\n",
              "    }\n",
              "  }\n",
              "</style>\n",
              "\n",
              "  <script>\n",
              "    async function quickchart(key) {\n",
              "      const quickchartButtonEl =\n",
              "        document.querySelector('#' + key + ' button');\n",
              "      quickchartButtonEl.disabled = true;  // To prevent multiple clicks.\n",
              "      quickchartButtonEl.classList.add('colab-df-spinner');\n",
              "      try {\n",
              "        const charts = await google.colab.kernel.invokeFunction(\n",
              "            'suggestCharts', [key], {});\n",
              "      } catch (error) {\n",
              "        console.error('Error during call to suggestCharts:', error);\n",
              "      }\n",
              "      quickchartButtonEl.classList.remove('colab-df-spinner');\n",
              "      quickchartButtonEl.classList.add('colab-df-quickchart-complete');\n",
              "    }\n",
              "    (() => {\n",
              "      let quickchartButtonEl =\n",
              "        document.querySelector('#df-90ef6883-c981-4039-9d7e-694f60ab1043 button');\n",
              "      quickchartButtonEl.style.display =\n",
              "        google.colab.kernel.accessAllowed ? 'block' : 'none';\n",
              "    })();\n",
              "  </script>\n",
              "</div>\n",
              "\n",
              "    </div>\n",
              "  </div>\n"
            ],
            "application/vnd.google.colaboratory.intrinsic+json": {
              "type": "dataframe",
              "variable_name": "df_info",
              "summary": "{\n  \"name\": \"df_info\",\n  \"rows\": 1560,\n  \"fields\": [\n    {\n      \"column\": \"id\",\n      \"properties\": {\n        \"dtype\": \"number\",\n        \"std\": 579,\n        \"min\": 1,\n        \"max\": 2000,\n        \"num_unique_values\": 1560,\n        \"samples\": [\n          1961,\n          1329,\n          461\n        ],\n        \"semantic_type\": \"\",\n        \"description\": \"\"\n      }\n    },\n    {\n      \"column\": \"synopsis\",\n      \"properties\": {\n        \"dtype\": \"string\",\n        \"num_unique_values\": 1497,\n        \"samples\": [\n          \"From Ron Shelton, writer/director of Tin Cup and Bull Durham, comes the new comedy, Just Getting Started. Morgan Freeman stars as DUKE DIVER, the freewheeling manager of the luxury Palm Springs resort, the Villa Capri. DIVER may have a mysterious past, but he's a pro at making sure that life for the high-spirited residents is one big, non-stop party. But the status quo is challenged when ex-military charmer LEO (Tommy Lee Jones) checks in, triggering a competition between Duke and Leo for the top spot of Alpha male, as well as for the affections of the newly-arrived SUZIE (Rene Russo). When Duke's past suddenly catches up with him, the rivals put aside their differences and the two men reluctantly team up to stop whoever is trying to kill Duke, and also save the Villa Capri.\",\n          \"Basketball superstar Michael Jordan and cartoon favorite Bugs Bunny team up with other basketball greats and Looney Tunes characters in this combination animated/live-action feature. Jordan must help the Looney Tunes gang with a basketball game against a group of outer space creatures whose plan, if they win, is to kidnap the Looney Tunes and take them to a failing intergalactic amusement park as the latest attraction. Also starring Academy Award-nominee Bill Murray (\\\"Lost in Translation,\\\" \\\"Charlie's Angels\\\") and Wayne Knight (TV's \\\"Seinfeld,\\\" \\\"Rat Race\\\"). Gene Shalit says this movie is \\\"for adults, kids, teenagers, women, men, boys, girls, old folks, young folks, Jordan fans, Bill Murray fans, Wayne Knight fans and every Looney Tunes lover who wants to revel in Bugs Bunny and his pals at their looney tuniest.\\\"\",\n          \"Filmed in panoramic Cinerama, this star-studded, epic Western adventure is a true cinematic classic. Three legendary directors (Henry Hathaway, John Ford and George Marshall) combine their skills to tell the story of three families and their travels from the Erie Canal to California between 1839 and 1889. Spencer Tracy narrates the film, which cost an estimated\"\n        ],\n        \"semantic_type\": \"\",\n        \"description\": \"\"\n      }\n    },\n    {\n      \"column\": \"rating\",\n      \"properties\": {\n        \"dtype\": \"category\",\n        \"num_unique_values\": 6,\n        \"samples\": [\n          \"R\",\n          \"NR\",\n          \"NC17\"\n        ],\n        \"semantic_type\": \"\",\n        \"description\": \"\"\n      }\n    },\n    {\n      \"column\": \"genre\",\n      \"properties\": {\n        \"dtype\": \"category\",\n        \"num_unique_values\": 299,\n        \"samples\": [\n          \"Drama|Horror|Science Fiction and Fantasy\",\n          \"Drama|Musical and Performing Arts|Faith and Spirituality\",\n          \"Special Interest\"\n        ],\n        \"semantic_type\": \"\",\n        \"description\": \"\"\n      }\n    },\n    {\n      \"column\": \"director\",\n      \"properties\": {\n        \"dtype\": \"string\",\n        \"num_unique_values\": 1125,\n        \"samples\": [\n          \"Peter Greenaway\",\n          \"Ava DuVernay\",\n          \"Henri Xhonneux\"\n        ],\n        \"semantic_type\": \"\",\n        \"description\": \"\"\n      }\n    },\n    {\n      \"column\": \"writer\",\n      \"properties\": {\n        \"dtype\": \"string\",\n        \"num_unique_values\": 1069,\n        \"samples\": [\n          \"Tudor Gates\",\n          \"William Aldridge\",\n          \"Frank Gruber\"\n        ],\n        \"semantic_type\": \"\",\n        \"description\": \"\"\n      }\n    },\n    {\n      \"column\": \"theater_date\",\n      \"properties\": {\n        \"dtype\": \"object\",\n        \"num_unique_values\": 1025,\n        \"samples\": [\n          \"May 1, 1941\",\n          \"Apr 26, 2002\",\n          \"Jan 1, 1990\"\n        ],\n        \"semantic_type\": \"\",\n        \"description\": \"\"\n      }\n    },\n    {\n      \"column\": \"dvd_date\",\n      \"properties\": {\n        \"dtype\": \"object\",\n        \"num_unique_values\": 717,\n        \"samples\": [\n          \"Mar 23, 1999\",\n          \"Oct 23, 2001\",\n          \"Jul 9, 2013\"\n        ],\n        \"semantic_type\": \"\",\n        \"description\": \"\"\n      }\n    },\n    {\n      \"column\": \"currency\",\n      \"properties\": {\n        \"dtype\": \"category\",\n        \"num_unique_values\": 1,\n        \"samples\": [\n          \"$\"\n        ],\n        \"semantic_type\": \"\",\n        \"description\": \"\"\n      }\n    },\n    {\n      \"column\": \"box_office\",\n      \"properties\": {\n        \"dtype\": \"category\",\n        \"num_unique_values\": 336,\n        \"samples\": [\n          \"55,400,000\"\n        ],\n        \"semantic_type\": \"\",\n        \"description\": \"\"\n      }\n    },\n    {\n      \"column\": \"runtime\",\n      \"properties\": {\n        \"dtype\": \"category\",\n        \"num_unique_values\": 142,\n        \"samples\": [\n          \"139 minutes\"\n        ],\n        \"semantic_type\": \"\",\n        \"description\": \"\"\n      }\n    },\n    {\n      \"column\": \"studio\",\n      \"properties\": {\n        \"dtype\": \"category\",\n        \"num_unique_values\": 200,\n        \"samples\": [\n          \"Lionsgate Films/After Dark Films\"\n        ],\n        \"semantic_type\": \"\",\n        \"description\": \"\"\n      }\n    }\n  ]\n}"
            }
          },
          "metadata": {},
          "execution_count": 3
        }
      ]
    },
    {
      "cell_type": "markdown",
      "source": [
        "Next, we explore the `df_budget` dataset. This dataset contains information about the budgets of various movies. By examining these initial rows, we can gain insight into the types of budget-related data it contains, and begin to assess the quality and completeness of the data."
      ],
      "metadata": {
        "id": "QP4tgzxsMNhP"
      }
    },
    {
      "cell_type": "code",
      "source": [
        "# Yusuf Ali\n",
        "df_budget.head()"
      ],
      "metadata": {
        "id": "MVHcdbzuaVrV",
        "colab": {
          "base_uri": "https://localhost:8080/",
          "height": 206
        },
        "outputId": "37979674-16eb-433a-ee22-d085551cc206"
      },
      "execution_count": null,
      "outputs": [
        {
          "output_type": "execute_result",
          "data": {
            "text/plain": [
              "   id  release_date                                        movie  \\\n",
              "0   1  Dec 18, 2009                                       Avatar   \n",
              "1   2  May 20, 2011  Pirates of the Caribbean: On Stranger Tides   \n",
              "2   3   Jun 7, 2019                                 Dark Phoenix   \n",
              "3   4   May 1, 2015                      Avengers: Age of Ultron   \n",
              "4   5  Dec 15, 2017            Star Wars Ep. VIII: The Last Jedi   \n",
              "\n",
              "  production_budget domestic_gross worldwide_gross  \n",
              "0      $425,000,000   $760,507,625  $2,776,345,279  \n",
              "1      $410,600,000   $241,063,875  $1,045,663,875  \n",
              "2      $350,000,000    $42,762,350    $149,762,350  \n",
              "3      $330,600,000   $459,005,868  $1,403,013,963  \n",
              "4      $317,000,000   $620,181,382  $1,316,721,747  "
            ],
            "text/html": [
              "\n",
              "  <div id=\"df-9d6c1b5a-f093-4427-8fff-88ef71cc56eb\" class=\"colab-df-container\">\n",
              "    <div>\n",
              "<style scoped>\n",
              "    .dataframe tbody tr th:only-of-type {\n",
              "        vertical-align: middle;\n",
              "    }\n",
              "\n",
              "    .dataframe tbody tr th {\n",
              "        vertical-align: top;\n",
              "    }\n",
              "\n",
              "    .dataframe thead th {\n",
              "        text-align: right;\n",
              "    }\n",
              "</style>\n",
              "<table border=\"1\" class=\"dataframe\">\n",
              "  <thead>\n",
              "    <tr style=\"text-align: right;\">\n",
              "      <th></th>\n",
              "      <th>id</th>\n",
              "      <th>release_date</th>\n",
              "      <th>movie</th>\n",
              "      <th>production_budget</th>\n",
              "      <th>domestic_gross</th>\n",
              "      <th>worldwide_gross</th>\n",
              "    </tr>\n",
              "  </thead>\n",
              "  <tbody>\n",
              "    <tr>\n",
              "      <th>0</th>\n",
              "      <td>1</td>\n",
              "      <td>Dec 18, 2009</td>\n",
              "      <td>Avatar</td>\n",
              "      <td>$425,000,000</td>\n",
              "      <td>$760,507,625</td>\n",
              "      <td>$2,776,345,279</td>\n",
              "    </tr>\n",
              "    <tr>\n",
              "      <th>1</th>\n",
              "      <td>2</td>\n",
              "      <td>May 20, 2011</td>\n",
              "      <td>Pirates of the Caribbean: On Stranger Tides</td>\n",
              "      <td>$410,600,000</td>\n",
              "      <td>$241,063,875</td>\n",
              "      <td>$1,045,663,875</td>\n",
              "    </tr>\n",
              "    <tr>\n",
              "      <th>2</th>\n",
              "      <td>3</td>\n",
              "      <td>Jun 7, 2019</td>\n",
              "      <td>Dark Phoenix</td>\n",
              "      <td>$350,000,000</td>\n",
              "      <td>$42,762,350</td>\n",
              "      <td>$149,762,350</td>\n",
              "    </tr>\n",
              "    <tr>\n",
              "      <th>3</th>\n",
              "      <td>4</td>\n",
              "      <td>May 1, 2015</td>\n",
              "      <td>Avengers: Age of Ultron</td>\n",
              "      <td>$330,600,000</td>\n",
              "      <td>$459,005,868</td>\n",
              "      <td>$1,403,013,963</td>\n",
              "    </tr>\n",
              "    <tr>\n",
              "      <th>4</th>\n",
              "      <td>5</td>\n",
              "      <td>Dec 15, 2017</td>\n",
              "      <td>Star Wars Ep. VIII: The Last Jedi</td>\n",
              "      <td>$317,000,000</td>\n",
              "      <td>$620,181,382</td>\n",
              "      <td>$1,316,721,747</td>\n",
              "    </tr>\n",
              "  </tbody>\n",
              "</table>\n",
              "</div>\n",
              "    <div class=\"colab-df-buttons\">\n",
              "\n",
              "  <div class=\"colab-df-container\">\n",
              "    <button class=\"colab-df-convert\" onclick=\"convertToInteractive('df-9d6c1b5a-f093-4427-8fff-88ef71cc56eb')\"\n",
              "            title=\"Convert this dataframe to an interactive table.\"\n",
              "            style=\"display:none;\">\n",
              "\n",
              "  <svg xmlns=\"http://www.w3.org/2000/svg\" height=\"24px\" viewBox=\"0 -960 960 960\">\n",
              "    <path d=\"M120-120v-720h720v720H120Zm60-500h600v-160H180v160Zm220 220h160v-160H400v160Zm0 220h160v-160H400v160ZM180-400h160v-160H180v160Zm440 0h160v-160H620v160ZM180-180h160v-160H180v160Zm440 0h160v-160H620v160Z\"/>\n",
              "  </svg>\n",
              "    </button>\n",
              "\n",
              "  <style>\n",
              "    .colab-df-container {\n",
              "      display:flex;\n",
              "      gap: 12px;\n",
              "    }\n",
              "\n",
              "    .colab-df-convert {\n",
              "      background-color: #E8F0FE;\n",
              "      border: none;\n",
              "      border-radius: 50%;\n",
              "      cursor: pointer;\n",
              "      display: none;\n",
              "      fill: #1967D2;\n",
              "      height: 32px;\n",
              "      padding: 0 0 0 0;\n",
              "      width: 32px;\n",
              "    }\n",
              "\n",
              "    .colab-df-convert:hover {\n",
              "      background-color: #E2EBFA;\n",
              "      box-shadow: 0px 1px 2px rgba(60, 64, 67, 0.3), 0px 1px 3px 1px rgba(60, 64, 67, 0.15);\n",
              "      fill: #174EA6;\n",
              "    }\n",
              "\n",
              "    .colab-df-buttons div {\n",
              "      margin-bottom: 4px;\n",
              "    }\n",
              "\n",
              "    [theme=dark] .colab-df-convert {\n",
              "      background-color: #3B4455;\n",
              "      fill: #D2E3FC;\n",
              "    }\n",
              "\n",
              "    [theme=dark] .colab-df-convert:hover {\n",
              "      background-color: #434B5C;\n",
              "      box-shadow: 0px 1px 3px 1px rgba(0, 0, 0, 0.15);\n",
              "      filter: drop-shadow(0px 1px 2px rgba(0, 0, 0, 0.3));\n",
              "      fill: #FFFFFF;\n",
              "    }\n",
              "  </style>\n",
              "\n",
              "    <script>\n",
              "      const buttonEl =\n",
              "        document.querySelector('#df-9d6c1b5a-f093-4427-8fff-88ef71cc56eb button.colab-df-convert');\n",
              "      buttonEl.style.display =\n",
              "        google.colab.kernel.accessAllowed ? 'block' : 'none';\n",
              "\n",
              "      async function convertToInteractive(key) {\n",
              "        const element = document.querySelector('#df-9d6c1b5a-f093-4427-8fff-88ef71cc56eb');\n",
              "        const dataTable =\n",
              "          await google.colab.kernel.invokeFunction('convertToInteractive',\n",
              "                                                    [key], {});\n",
              "        if (!dataTable) return;\n",
              "\n",
              "        const docLinkHtml = 'Like what you see? Visit the ' +\n",
              "          '<a target=\"_blank\" href=https://colab.research.google.com/notebooks/data_table.ipynb>data table notebook</a>'\n",
              "          + ' to learn more about interactive tables.';\n",
              "        element.innerHTML = '';\n",
              "        dataTable['output_type'] = 'display_data';\n",
              "        await google.colab.output.renderOutput(dataTable, element);\n",
              "        const docLink = document.createElement('div');\n",
              "        docLink.innerHTML = docLinkHtml;\n",
              "        element.appendChild(docLink);\n",
              "      }\n",
              "    </script>\n",
              "  </div>\n",
              "\n",
              "\n",
              "<div id=\"df-0efe44e4-a5ad-4f7b-9ca0-f9613219d498\">\n",
              "  <button class=\"colab-df-quickchart\" onclick=\"quickchart('df-0efe44e4-a5ad-4f7b-9ca0-f9613219d498')\"\n",
              "            title=\"Suggest charts\"\n",
              "            style=\"display:none;\">\n",
              "\n",
              "<svg xmlns=\"http://www.w3.org/2000/svg\" height=\"24px\"viewBox=\"0 0 24 24\"\n",
              "     width=\"24px\">\n",
              "    <g>\n",
              "        <path d=\"M19 3H5c-1.1 0-2 .9-2 2v14c0 1.1.9 2 2 2h14c1.1 0 2-.9 2-2V5c0-1.1-.9-2-2-2zM9 17H7v-7h2v7zm4 0h-2V7h2v10zm4 0h-2v-4h2v4z\"/>\n",
              "    </g>\n",
              "</svg>\n",
              "  </button>\n",
              "\n",
              "<style>\n",
              "  .colab-df-quickchart {\n",
              "      --bg-color: #E8F0FE;\n",
              "      --fill-color: #1967D2;\n",
              "      --hover-bg-color: #E2EBFA;\n",
              "      --hover-fill-color: #174EA6;\n",
              "      --disabled-fill-color: #AAA;\n",
              "      --disabled-bg-color: #DDD;\n",
              "  }\n",
              "\n",
              "  [theme=dark] .colab-df-quickchart {\n",
              "      --bg-color: #3B4455;\n",
              "      --fill-color: #D2E3FC;\n",
              "      --hover-bg-color: #434B5C;\n",
              "      --hover-fill-color: #FFFFFF;\n",
              "      --disabled-bg-color: #3B4455;\n",
              "      --disabled-fill-color: #666;\n",
              "  }\n",
              "\n",
              "  .colab-df-quickchart {\n",
              "    background-color: var(--bg-color);\n",
              "    border: none;\n",
              "    border-radius: 50%;\n",
              "    cursor: pointer;\n",
              "    display: none;\n",
              "    fill: var(--fill-color);\n",
              "    height: 32px;\n",
              "    padding: 0;\n",
              "    width: 32px;\n",
              "  }\n",
              "\n",
              "  .colab-df-quickchart:hover {\n",
              "    background-color: var(--hover-bg-color);\n",
              "    box-shadow: 0 1px 2px rgba(60, 64, 67, 0.3), 0 1px 3px 1px rgba(60, 64, 67, 0.15);\n",
              "    fill: var(--button-hover-fill-color);\n",
              "  }\n",
              "\n",
              "  .colab-df-quickchart-complete:disabled,\n",
              "  .colab-df-quickchart-complete:disabled:hover {\n",
              "    background-color: var(--disabled-bg-color);\n",
              "    fill: var(--disabled-fill-color);\n",
              "    box-shadow: none;\n",
              "  }\n",
              "\n",
              "  .colab-df-spinner {\n",
              "    border: 2px solid var(--fill-color);\n",
              "    border-color: transparent;\n",
              "    border-bottom-color: var(--fill-color);\n",
              "    animation:\n",
              "      spin 1s steps(1) infinite;\n",
              "  }\n",
              "\n",
              "  @keyframes spin {\n",
              "    0% {\n",
              "      border-color: transparent;\n",
              "      border-bottom-color: var(--fill-color);\n",
              "      border-left-color: var(--fill-color);\n",
              "    }\n",
              "    20% {\n",
              "      border-color: transparent;\n",
              "      border-left-color: var(--fill-color);\n",
              "      border-top-color: var(--fill-color);\n",
              "    }\n",
              "    30% {\n",
              "      border-color: transparent;\n",
              "      border-left-color: var(--fill-color);\n",
              "      border-top-color: var(--fill-color);\n",
              "      border-right-color: var(--fill-color);\n",
              "    }\n",
              "    40% {\n",
              "      border-color: transparent;\n",
              "      border-right-color: var(--fill-color);\n",
              "      border-top-color: var(--fill-color);\n",
              "    }\n",
              "    60% {\n",
              "      border-color: transparent;\n",
              "      border-right-color: var(--fill-color);\n",
              "    }\n",
              "    80% {\n",
              "      border-color: transparent;\n",
              "      border-right-color: var(--fill-color);\n",
              "      border-bottom-color: var(--fill-color);\n",
              "    }\n",
              "    90% {\n",
              "      border-color: transparent;\n",
              "      border-bottom-color: var(--fill-color);\n",
              "    }\n",
              "  }\n",
              "</style>\n",
              "\n",
              "  <script>\n",
              "    async function quickchart(key) {\n",
              "      const quickchartButtonEl =\n",
              "        document.querySelector('#' + key + ' button');\n",
              "      quickchartButtonEl.disabled = true;  // To prevent multiple clicks.\n",
              "      quickchartButtonEl.classList.add('colab-df-spinner');\n",
              "      try {\n",
              "        const charts = await google.colab.kernel.invokeFunction(\n",
              "            'suggestCharts', [key], {});\n",
              "      } catch (error) {\n",
              "        console.error('Error during call to suggestCharts:', error);\n",
              "      }\n",
              "      quickchartButtonEl.classList.remove('colab-df-spinner');\n",
              "      quickchartButtonEl.classList.add('colab-df-quickchart-complete');\n",
              "    }\n",
              "    (() => {\n",
              "      let quickchartButtonEl =\n",
              "        document.querySelector('#df-0efe44e4-a5ad-4f7b-9ca0-f9613219d498 button');\n",
              "      quickchartButtonEl.style.display =\n",
              "        google.colab.kernel.accessAllowed ? 'block' : 'none';\n",
              "    })();\n",
              "  </script>\n",
              "</div>\n",
              "\n",
              "    </div>\n",
              "  </div>\n"
            ],
            "application/vnd.google.colaboratory.intrinsic+json": {
              "type": "dataframe",
              "variable_name": "df_budget",
              "summary": "{\n  \"name\": \"df_budget\",\n  \"rows\": 5782,\n  \"fields\": [\n    {\n      \"column\": \"id\",\n      \"properties\": {\n        \"dtype\": \"number\",\n        \"std\": 28,\n        \"min\": 1,\n        \"max\": 100,\n        \"num_unique_values\": 100,\n        \"samples\": [\n          84,\n          54,\n          71\n        ],\n        \"semantic_type\": \"\",\n        \"description\": \"\"\n      }\n    },\n    {\n      \"column\": \"release_date\",\n      \"properties\": {\n        \"dtype\": \"object\",\n        \"num_unique_values\": 2418,\n        \"samples\": [\n          \"Jun 19, 1998\",\n          \"Apr 8, 2005\",\n          \"Sep 30, 1983\"\n        ],\n        \"semantic_type\": \"\",\n        \"description\": \"\"\n      }\n    },\n    {\n      \"column\": \"movie\",\n      \"properties\": {\n        \"dtype\": \"string\",\n        \"num_unique_values\": 5698,\n        \"samples\": [\n          \"Medicine Man\",\n          \"The Sum of All Fears\",\n          \"A Christmas Story\"\n        ],\n        \"semantic_type\": \"\",\n        \"description\": \"\"\n      }\n    },\n    {\n      \"column\": \"production_budget\",\n      \"properties\": {\n        \"dtype\": \"category\",\n        \"num_unique_values\": 509,\n        \"samples\": [\n          \"$98,000,000\",\n          \"$5,000,000\",\n          \"$60,000\"\n        ],\n        \"semantic_type\": \"\",\n        \"description\": \"\"\n      }\n    },\n    {\n      \"column\": \"domestic_gross\",\n      \"properties\": {\n        \"dtype\": \"string\",\n        \"num_unique_values\": 5164,\n        \"samples\": [\n          \"$16,816\",\n          \"$28,687,835\",\n          \"$2,122,085\"\n        ],\n        \"semantic_type\": \"\",\n        \"description\": \"\"\n      }\n    },\n    {\n      \"column\": \"worldwide_gross\",\n      \"properties\": {\n        \"dtype\": \"string\",\n        \"num_unique_values\": 5356,\n        \"samples\": [\n          \"$428,535\",\n          \"$58,405,313\",\n          \"$103,039,258\"\n        ],\n        \"semantic_type\": \"\",\n        \"description\": \"\"\n      }\n    }\n  ]\n}"
            }
          },
          "metadata": {},
          "execution_count": 4
        }
      ]
    },
    {
      "cell_type": "markdown",
      "source": [
        "We now examine the `df_budget` dataset's structure and data types using the `.info()` method. This method provides a concise summary of the DataFrame, including the number of non-null entries, column names, and data types. This information is essential for understanding the dataset's composition and identifying any potential data cleaning needs."
      ],
      "metadata": {
        "id": "6088CJLvMq15"
      }
    },
    {
      "cell_type": "code",
      "source": [
        "df_budget.info()"
      ],
      "metadata": {
        "id": "NDpM1sIob3B8",
        "colab": {
          "base_uri": "https://localhost:8080/"
        },
        "outputId": "2f6cf270-edf3-4a9d-83df-60300c3e8e93"
      },
      "execution_count": null,
      "outputs": [
        {
          "output_type": "stream",
          "name": "stdout",
          "text": [
            "<class 'pandas.core.frame.DataFrame'>\n",
            "RangeIndex: 5782 entries, 0 to 5781\n",
            "Data columns (total 6 columns):\n",
            " #   Column             Non-Null Count  Dtype \n",
            "---  ------             --------------  ----- \n",
            " 0   id                 5782 non-null   int64 \n",
            " 1   release_date       5782 non-null   object\n",
            " 2   movie              5782 non-null   object\n",
            " 3   production_budget  5782 non-null   object\n",
            " 4   domestic_gross     5782 non-null   object\n",
            " 5   worldwide_gross    5782 non-null   object\n",
            "dtypes: int64(1), object(5)\n",
            "memory usage: 271.2+ KB\n"
          ]
        }
      ]
    },
    {
      "cell_type": "markdown",
      "source": [
        "Next, we explore the `df_tmdf` dataset by displaying the first few rows. This dataset contains detailed information about movies from The Movie Database (TMDB). We can understand the structure of the dataset, the types of movie-related data it includes, and start to evaluate the quality and relevance of the information for our analysis."
      ],
      "metadata": {
        "id": "LYcuD0MRND6X"
      }
    },
    {
      "cell_type": "code",
      "source": [
        "# Yusuf Ali\n",
        "df_tmdf.head()"
      ],
      "metadata": {
        "id": "NBEKA_s3aWu2",
        "colab": {
          "base_uri": "https://localhost:8080/",
          "height": 258
        },
        "outputId": "f4a864e9-eddd-40de-c809-9fdbc0588042"
      },
      "execution_count": null,
      "outputs": [
        {
          "output_type": "execute_result",
          "data": {
            "text/plain": [
              "   Unnamed: 0            genre_ids     id original_language  \\\n",
              "0           0      [12, 14, 10751]  12444                en   \n",
              "1           1  [14, 12, 16, 10751]  10191                en   \n",
              "2           2        [12, 28, 878]  10138                en   \n",
              "3           3      [16, 35, 10751]    862                en   \n",
              "4           4        [28, 878, 12]  27205                en   \n",
              "\n",
              "                                 original_title  popularity release_date  \\\n",
              "0  Harry Potter and the Deathly Hallows: Part 1      33.533   2010-11-19   \n",
              "1                      How to Train Your Dragon      28.734   2010-03-26   \n",
              "2                                    Iron Man 2      28.515   2010-05-07   \n",
              "3                                     Toy Story      28.005   1995-11-22   \n",
              "4                                     Inception      27.920   2010-07-16   \n",
              "\n",
              "                                          title  vote_average  vote_count  \n",
              "0  Harry Potter and the Deathly Hallows: Part 1           7.7       10788  \n",
              "1                      How to Train Your Dragon           7.7        7610  \n",
              "2                                    Iron Man 2           6.8       12368  \n",
              "3                                     Toy Story           7.9       10174  \n",
              "4                                     Inception           8.3       22186  "
            ],
            "text/html": [
              "\n",
              "  <div id=\"df-4f9256bf-5c3f-46cf-a17a-746548ca59ca\" class=\"colab-df-container\">\n",
              "    <div>\n",
              "<style scoped>\n",
              "    .dataframe tbody tr th:only-of-type {\n",
              "        vertical-align: middle;\n",
              "    }\n",
              "\n",
              "    .dataframe tbody tr th {\n",
              "        vertical-align: top;\n",
              "    }\n",
              "\n",
              "    .dataframe thead th {\n",
              "        text-align: right;\n",
              "    }\n",
              "</style>\n",
              "<table border=\"1\" class=\"dataframe\">\n",
              "  <thead>\n",
              "    <tr style=\"text-align: right;\">\n",
              "      <th></th>\n",
              "      <th>Unnamed: 0</th>\n",
              "      <th>genre_ids</th>\n",
              "      <th>id</th>\n",
              "      <th>original_language</th>\n",
              "      <th>original_title</th>\n",
              "      <th>popularity</th>\n",
              "      <th>release_date</th>\n",
              "      <th>title</th>\n",
              "      <th>vote_average</th>\n",
              "      <th>vote_count</th>\n",
              "    </tr>\n",
              "  </thead>\n",
              "  <tbody>\n",
              "    <tr>\n",
              "      <th>0</th>\n",
              "      <td>0</td>\n",
              "      <td>[12, 14, 10751]</td>\n",
              "      <td>12444</td>\n",
              "      <td>en</td>\n",
              "      <td>Harry Potter and the Deathly Hallows: Part 1</td>\n",
              "      <td>33.533</td>\n",
              "      <td>2010-11-19</td>\n",
              "      <td>Harry Potter and the Deathly Hallows: Part 1</td>\n",
              "      <td>7.7</td>\n",
              "      <td>10788</td>\n",
              "    </tr>\n",
              "    <tr>\n",
              "      <th>1</th>\n",
              "      <td>1</td>\n",
              "      <td>[14, 12, 16, 10751]</td>\n",
              "      <td>10191</td>\n",
              "      <td>en</td>\n",
              "      <td>How to Train Your Dragon</td>\n",
              "      <td>28.734</td>\n",
              "      <td>2010-03-26</td>\n",
              "      <td>How to Train Your Dragon</td>\n",
              "      <td>7.7</td>\n",
              "      <td>7610</td>\n",
              "    </tr>\n",
              "    <tr>\n",
              "      <th>2</th>\n",
              "      <td>2</td>\n",
              "      <td>[12, 28, 878]</td>\n",
              "      <td>10138</td>\n",
              "      <td>en</td>\n",
              "      <td>Iron Man 2</td>\n",
              "      <td>28.515</td>\n",
              "      <td>2010-05-07</td>\n",
              "      <td>Iron Man 2</td>\n",
              "      <td>6.8</td>\n",
              "      <td>12368</td>\n",
              "    </tr>\n",
              "    <tr>\n",
              "      <th>3</th>\n",
              "      <td>3</td>\n",
              "      <td>[16, 35, 10751]</td>\n",
              "      <td>862</td>\n",
              "      <td>en</td>\n",
              "      <td>Toy Story</td>\n",
              "      <td>28.005</td>\n",
              "      <td>1995-11-22</td>\n",
              "      <td>Toy Story</td>\n",
              "      <td>7.9</td>\n",
              "      <td>10174</td>\n",
              "    </tr>\n",
              "    <tr>\n",
              "      <th>4</th>\n",
              "      <td>4</td>\n",
              "      <td>[28, 878, 12]</td>\n",
              "      <td>27205</td>\n",
              "      <td>en</td>\n",
              "      <td>Inception</td>\n",
              "      <td>27.920</td>\n",
              "      <td>2010-07-16</td>\n",
              "      <td>Inception</td>\n",
              "      <td>8.3</td>\n",
              "      <td>22186</td>\n",
              "    </tr>\n",
              "  </tbody>\n",
              "</table>\n",
              "</div>\n",
              "    <div class=\"colab-df-buttons\">\n",
              "\n",
              "  <div class=\"colab-df-container\">\n",
              "    <button class=\"colab-df-convert\" onclick=\"convertToInteractive('df-4f9256bf-5c3f-46cf-a17a-746548ca59ca')\"\n",
              "            title=\"Convert this dataframe to an interactive table.\"\n",
              "            style=\"display:none;\">\n",
              "\n",
              "  <svg xmlns=\"http://www.w3.org/2000/svg\" height=\"24px\" viewBox=\"0 -960 960 960\">\n",
              "    <path d=\"M120-120v-720h720v720H120Zm60-500h600v-160H180v160Zm220 220h160v-160H400v160Zm0 220h160v-160H400v160ZM180-400h160v-160H180v160Zm440 0h160v-160H620v160ZM180-180h160v-160H180v160Zm440 0h160v-160H620v160Z\"/>\n",
              "  </svg>\n",
              "    </button>\n",
              "\n",
              "  <style>\n",
              "    .colab-df-container {\n",
              "      display:flex;\n",
              "      gap: 12px;\n",
              "    }\n",
              "\n",
              "    .colab-df-convert {\n",
              "      background-color: #E8F0FE;\n",
              "      border: none;\n",
              "      border-radius: 50%;\n",
              "      cursor: pointer;\n",
              "      display: none;\n",
              "      fill: #1967D2;\n",
              "      height: 32px;\n",
              "      padding: 0 0 0 0;\n",
              "      width: 32px;\n",
              "    }\n",
              "\n",
              "    .colab-df-convert:hover {\n",
              "      background-color: #E2EBFA;\n",
              "      box-shadow: 0px 1px 2px rgba(60, 64, 67, 0.3), 0px 1px 3px 1px rgba(60, 64, 67, 0.15);\n",
              "      fill: #174EA6;\n",
              "    }\n",
              "\n",
              "    .colab-df-buttons div {\n",
              "      margin-bottom: 4px;\n",
              "    }\n",
              "\n",
              "    [theme=dark] .colab-df-convert {\n",
              "      background-color: #3B4455;\n",
              "      fill: #D2E3FC;\n",
              "    }\n",
              "\n",
              "    [theme=dark] .colab-df-convert:hover {\n",
              "      background-color: #434B5C;\n",
              "      box-shadow: 0px 1px 3px 1px rgba(0, 0, 0, 0.15);\n",
              "      filter: drop-shadow(0px 1px 2px rgba(0, 0, 0, 0.3));\n",
              "      fill: #FFFFFF;\n",
              "    }\n",
              "  </style>\n",
              "\n",
              "    <script>\n",
              "      const buttonEl =\n",
              "        document.querySelector('#df-4f9256bf-5c3f-46cf-a17a-746548ca59ca button.colab-df-convert');\n",
              "      buttonEl.style.display =\n",
              "        google.colab.kernel.accessAllowed ? 'block' : 'none';\n",
              "\n",
              "      async function convertToInteractive(key) {\n",
              "        const element = document.querySelector('#df-4f9256bf-5c3f-46cf-a17a-746548ca59ca');\n",
              "        const dataTable =\n",
              "          await google.colab.kernel.invokeFunction('convertToInteractive',\n",
              "                                                    [key], {});\n",
              "        if (!dataTable) return;\n",
              "\n",
              "        const docLinkHtml = 'Like what you see? Visit the ' +\n",
              "          '<a target=\"_blank\" href=https://colab.research.google.com/notebooks/data_table.ipynb>data table notebook</a>'\n",
              "          + ' to learn more about interactive tables.';\n",
              "        element.innerHTML = '';\n",
              "        dataTable['output_type'] = 'display_data';\n",
              "        await google.colab.output.renderOutput(dataTable, element);\n",
              "        const docLink = document.createElement('div');\n",
              "        docLink.innerHTML = docLinkHtml;\n",
              "        element.appendChild(docLink);\n",
              "      }\n",
              "    </script>\n",
              "  </div>\n",
              "\n",
              "\n",
              "<div id=\"df-04de334c-dc15-462d-b48b-33e4ca41c7a7\">\n",
              "  <button class=\"colab-df-quickchart\" onclick=\"quickchart('df-04de334c-dc15-462d-b48b-33e4ca41c7a7')\"\n",
              "            title=\"Suggest charts\"\n",
              "            style=\"display:none;\">\n",
              "\n",
              "<svg xmlns=\"http://www.w3.org/2000/svg\" height=\"24px\"viewBox=\"0 0 24 24\"\n",
              "     width=\"24px\">\n",
              "    <g>\n",
              "        <path d=\"M19 3H5c-1.1 0-2 .9-2 2v14c0 1.1.9 2 2 2h14c1.1 0 2-.9 2-2V5c0-1.1-.9-2-2-2zM9 17H7v-7h2v7zm4 0h-2V7h2v10zm4 0h-2v-4h2v4z\"/>\n",
              "    </g>\n",
              "</svg>\n",
              "  </button>\n",
              "\n",
              "<style>\n",
              "  .colab-df-quickchart {\n",
              "      --bg-color: #E8F0FE;\n",
              "      --fill-color: #1967D2;\n",
              "      --hover-bg-color: #E2EBFA;\n",
              "      --hover-fill-color: #174EA6;\n",
              "      --disabled-fill-color: #AAA;\n",
              "      --disabled-bg-color: #DDD;\n",
              "  }\n",
              "\n",
              "  [theme=dark] .colab-df-quickchart {\n",
              "      --bg-color: #3B4455;\n",
              "      --fill-color: #D2E3FC;\n",
              "      --hover-bg-color: #434B5C;\n",
              "      --hover-fill-color: #FFFFFF;\n",
              "      --disabled-bg-color: #3B4455;\n",
              "      --disabled-fill-color: #666;\n",
              "  }\n",
              "\n",
              "  .colab-df-quickchart {\n",
              "    background-color: var(--bg-color);\n",
              "    border: none;\n",
              "    border-radius: 50%;\n",
              "    cursor: pointer;\n",
              "    display: none;\n",
              "    fill: var(--fill-color);\n",
              "    height: 32px;\n",
              "    padding: 0;\n",
              "    width: 32px;\n",
              "  }\n",
              "\n",
              "  .colab-df-quickchart:hover {\n",
              "    background-color: var(--hover-bg-color);\n",
              "    box-shadow: 0 1px 2px rgba(60, 64, 67, 0.3), 0 1px 3px 1px rgba(60, 64, 67, 0.15);\n",
              "    fill: var(--button-hover-fill-color);\n",
              "  }\n",
              "\n",
              "  .colab-df-quickchart-complete:disabled,\n",
              "  .colab-df-quickchart-complete:disabled:hover {\n",
              "    background-color: var(--disabled-bg-color);\n",
              "    fill: var(--disabled-fill-color);\n",
              "    box-shadow: none;\n",
              "  }\n",
              "\n",
              "  .colab-df-spinner {\n",
              "    border: 2px solid var(--fill-color);\n",
              "    border-color: transparent;\n",
              "    border-bottom-color: var(--fill-color);\n",
              "    animation:\n",
              "      spin 1s steps(1) infinite;\n",
              "  }\n",
              "\n",
              "  @keyframes spin {\n",
              "    0% {\n",
              "      border-color: transparent;\n",
              "      border-bottom-color: var(--fill-color);\n",
              "      border-left-color: var(--fill-color);\n",
              "    }\n",
              "    20% {\n",
              "      border-color: transparent;\n",
              "      border-left-color: var(--fill-color);\n",
              "      border-top-color: var(--fill-color);\n",
              "    }\n",
              "    30% {\n",
              "      border-color: transparent;\n",
              "      border-left-color: var(--fill-color);\n",
              "      border-top-color: var(--fill-color);\n",
              "      border-right-color: var(--fill-color);\n",
              "    }\n",
              "    40% {\n",
              "      border-color: transparent;\n",
              "      border-right-color: var(--fill-color);\n",
              "      border-top-color: var(--fill-color);\n",
              "    }\n",
              "    60% {\n",
              "      border-color: transparent;\n",
              "      border-right-color: var(--fill-color);\n",
              "    }\n",
              "    80% {\n",
              "      border-color: transparent;\n",
              "      border-right-color: var(--fill-color);\n",
              "      border-bottom-color: var(--fill-color);\n",
              "    }\n",
              "    90% {\n",
              "      border-color: transparent;\n",
              "      border-bottom-color: var(--fill-color);\n",
              "    }\n",
              "  }\n",
              "</style>\n",
              "\n",
              "  <script>\n",
              "    async function quickchart(key) {\n",
              "      const quickchartButtonEl =\n",
              "        document.querySelector('#' + key + ' button');\n",
              "      quickchartButtonEl.disabled = true;  // To prevent multiple clicks.\n",
              "      quickchartButtonEl.classList.add('colab-df-spinner');\n",
              "      try {\n",
              "        const charts = await google.colab.kernel.invokeFunction(\n",
              "            'suggestCharts', [key], {});\n",
              "      } catch (error) {\n",
              "        console.error('Error during call to suggestCharts:', error);\n",
              "      }\n",
              "      quickchartButtonEl.classList.remove('colab-df-spinner');\n",
              "      quickchartButtonEl.classList.add('colab-df-quickchart-complete');\n",
              "    }\n",
              "    (() => {\n",
              "      let quickchartButtonEl =\n",
              "        document.querySelector('#df-04de334c-dc15-462d-b48b-33e4ca41c7a7 button');\n",
              "      quickchartButtonEl.style.display =\n",
              "        google.colab.kernel.accessAllowed ? 'block' : 'none';\n",
              "    })();\n",
              "  </script>\n",
              "</div>\n",
              "\n",
              "    </div>\n",
              "  </div>\n"
            ],
            "application/vnd.google.colaboratory.intrinsic+json": {
              "type": "dataframe",
              "variable_name": "df_tmdf",
              "summary": "{\n  \"name\": \"df_tmdf\",\n  \"rows\": 26517,\n  \"fields\": [\n    {\n      \"column\": \"Unnamed: 0\",\n      \"properties\": {\n        \"dtype\": \"number\",\n        \"std\": 7654,\n        \"min\": 0,\n        \"max\": 26516,\n        \"num_unique_values\": 26517,\n        \"samples\": [\n          26443,\n          25817,\n          25740\n        ],\n        \"semantic_type\": \"\",\n        \"description\": \"\"\n      }\n    },\n    {\n      \"column\": \"genre_ids\",\n      \"properties\": {\n        \"dtype\": \"category\",\n        \"num_unique_values\": 2477,\n        \"samples\": [\n          \"[80, 53, 27]\",\n          \"[27, 28, 53]\",\n          \"[28, 16, 12, 10751]\"\n        ],\n        \"semantic_type\": \"\",\n        \"description\": \"\"\n      }\n    },\n    {\n      \"column\": \"id\",\n      \"properties\": {\n        \"dtype\": \"number\",\n        \"std\": 153661,\n        \"min\": 27,\n        \"max\": 608444,\n        \"num_unique_values\": 25497,\n        \"samples\": [\n          198365,\n          135321,\n          339533\n        ],\n        \"semantic_type\": \"\",\n        \"description\": \"\"\n      }\n    },\n    {\n      \"column\": \"original_language\",\n      \"properties\": {\n        \"dtype\": \"category\",\n        \"num_unique_values\": 76,\n        \"samples\": [\n          \"sv\",\n          \"ro\",\n          \"zh\"\n        ],\n        \"semantic_type\": \"\",\n        \"description\": \"\"\n      }\n    },\n    {\n      \"column\": \"original_title\",\n      \"properties\": {\n        \"dtype\": \"string\",\n        \"num_unique_values\": 24835,\n        \"samples\": [\n          \"Le tout nouveau testament\",\n          \"Final Portrait\",\n          \"Bordering on Bad Behavior\"\n        ],\n        \"semantic_type\": \"\",\n        \"description\": \"\"\n      }\n    },\n    {\n      \"column\": \"popularity\",\n      \"properties\": {\n        \"dtype\": \"number\",\n        \"std\": 4.355229419064332,\n        \"min\": 0.6,\n        \"max\": 80.773,\n        \"num_unique_values\": 7425,\n        \"samples\": [\n          0.734,\n          4.244,\n          10.888\n        ],\n        \"semantic_type\": \"\",\n        \"description\": \"\"\n      }\n    },\n    {\n      \"column\": \"release_date\",\n      \"properties\": {\n        \"dtype\": \"object\",\n        \"num_unique_values\": 3433,\n        \"samples\": [\n          \"1967-03-16\",\n          \"2018-04-17\",\n          \"2013-06-01\"\n        ],\n        \"semantic_type\": \"\",\n        \"description\": \"\"\n      }\n    },\n    {\n      \"column\": \"title\",\n      \"properties\": {\n        \"dtype\": \"string\",\n        \"num_unique_values\": 24688,\n        \"samples\": [\n          \"Bitcoin: Boom or Bust\",\n          \"The Devil's Dozen\",\n          \"Valentine Road\"\n        ],\n        \"semantic_type\": \"\",\n        \"description\": \"\"\n      }\n    },\n    {\n      \"column\": \"vote_average\",\n      \"properties\": {\n        \"dtype\": \"number\",\n        \"std\": 1.852945942491333,\n        \"min\": 0.0,\n        \"max\": 10.0,\n        \"num_unique_values\": 91,\n        \"samples\": [\n          5.2,\n          6.5,\n          3.1\n        ],\n        \"semantic_type\": \"\",\n        \"description\": \"\"\n      }\n    },\n    {\n      \"column\": \"vote_count\",\n      \"properties\": {\n        \"dtype\": \"number\",\n        \"std\": 960,\n        \"min\": 1,\n        \"max\": 22186,\n        \"num_unique_values\": 1693,\n        \"samples\": [\n          1912,\n          599,\n          1267\n        ],\n        \"semantic_type\": \"\",\n        \"description\": \"\"\n      }\n    }\n  ]\n}"
            }
          },
          "metadata": {},
          "execution_count": 6
        }
      ]
    },
    {
      "cell_type": "code",
      "source": [
        "df_tmdf.info()"
      ],
      "metadata": {
        "id": "9Sf017Qcb5iZ",
        "colab": {
          "base_uri": "https://localhost:8080/"
        },
        "outputId": "afbba455-a16d-4013-cb82-5ac1a2fa836e"
      },
      "execution_count": null,
      "outputs": [
        {
          "output_type": "stream",
          "name": "stdout",
          "text": [
            "<class 'pandas.core.frame.DataFrame'>\n",
            "RangeIndex: 26517 entries, 0 to 26516\n",
            "Data columns (total 10 columns):\n",
            " #   Column             Non-Null Count  Dtype  \n",
            "---  ------             --------------  -----  \n",
            " 0   Unnamed: 0         26517 non-null  int64  \n",
            " 1   genre_ids          26517 non-null  object \n",
            " 2   id                 26517 non-null  int64  \n",
            " 3   original_language  26517 non-null  object \n",
            " 4   original_title     26517 non-null  object \n",
            " 5   popularity         26517 non-null  float64\n",
            " 6   release_date       26517 non-null  object \n",
            " 7   title              26517 non-null  object \n",
            " 8   vote_average       26517 non-null  float64\n",
            " 9   vote_count         26517 non-null  int64  \n",
            "dtypes: float64(2), int64(3), object(5)\n",
            "memory usage: 2.0+ MB\n"
          ]
        }
      ]
    },
    {
      "cell_type": "markdown",
      "source": [
        "We continue our data exploration by examining the first few rows of the `df_gross` dataset. This dataset contains information about the box office gross revenues of various movies. By looking at these initial rows, we can understand the structure of the dataset, the types of revenue-related data it includes, and assess its quality and completeness for our analysis."
      ],
      "metadata": {
        "id": "W83SNq9TNhR0"
      }
    },
    {
      "cell_type": "code",
      "source": [
        "# Yusuf Ali\n",
        "df_gross.head()"
      ],
      "metadata": {
        "id": "yMyf7P2ZaW1Z",
        "colab": {
          "base_uri": "https://localhost:8080/",
          "height": 206
        },
        "outputId": "5d35dc65-2cd3-452e-8fe9-67177a22cacf"
      },
      "execution_count": null,
      "outputs": [
        {
          "output_type": "execute_result",
          "data": {
            "text/plain": [
              "                                         title studio  domestic_gross  \\\n",
              "0                                  Toy Story 3     BV     415000000.0   \n",
              "1                   Alice in Wonderland (2010)     BV     334200000.0   \n",
              "2  Harry Potter and the Deathly Hallows Part 1     WB     296000000.0   \n",
              "3                                    Inception     WB     292600000.0   \n",
              "4                          Shrek Forever After   P/DW     238700000.0   \n",
              "\n",
              "  foreign_gross  year  \n",
              "0     652000000  2010  \n",
              "1     691300000  2010  \n",
              "2     664300000  2010  \n",
              "3     535700000  2010  \n",
              "4     513900000  2010  "
            ],
            "text/html": [
              "\n",
              "  <div id=\"df-8d5b80aa-ef77-41d3-b624-0c6e88f1ae7a\" class=\"colab-df-container\">\n",
              "    <div>\n",
              "<style scoped>\n",
              "    .dataframe tbody tr th:only-of-type {\n",
              "        vertical-align: middle;\n",
              "    }\n",
              "\n",
              "    .dataframe tbody tr th {\n",
              "        vertical-align: top;\n",
              "    }\n",
              "\n",
              "    .dataframe thead th {\n",
              "        text-align: right;\n",
              "    }\n",
              "</style>\n",
              "<table border=\"1\" class=\"dataframe\">\n",
              "  <thead>\n",
              "    <tr style=\"text-align: right;\">\n",
              "      <th></th>\n",
              "      <th>title</th>\n",
              "      <th>studio</th>\n",
              "      <th>domestic_gross</th>\n",
              "      <th>foreign_gross</th>\n",
              "      <th>year</th>\n",
              "    </tr>\n",
              "  </thead>\n",
              "  <tbody>\n",
              "    <tr>\n",
              "      <th>0</th>\n",
              "      <td>Toy Story 3</td>\n",
              "      <td>BV</td>\n",
              "      <td>415000000.0</td>\n",
              "      <td>652000000</td>\n",
              "      <td>2010</td>\n",
              "    </tr>\n",
              "    <tr>\n",
              "      <th>1</th>\n",
              "      <td>Alice in Wonderland (2010)</td>\n",
              "      <td>BV</td>\n",
              "      <td>334200000.0</td>\n",
              "      <td>691300000</td>\n",
              "      <td>2010</td>\n",
              "    </tr>\n",
              "    <tr>\n",
              "      <th>2</th>\n",
              "      <td>Harry Potter and the Deathly Hallows Part 1</td>\n",
              "      <td>WB</td>\n",
              "      <td>296000000.0</td>\n",
              "      <td>664300000</td>\n",
              "      <td>2010</td>\n",
              "    </tr>\n",
              "    <tr>\n",
              "      <th>3</th>\n",
              "      <td>Inception</td>\n",
              "      <td>WB</td>\n",
              "      <td>292600000.0</td>\n",
              "      <td>535700000</td>\n",
              "      <td>2010</td>\n",
              "    </tr>\n",
              "    <tr>\n",
              "      <th>4</th>\n",
              "      <td>Shrek Forever After</td>\n",
              "      <td>P/DW</td>\n",
              "      <td>238700000.0</td>\n",
              "      <td>513900000</td>\n",
              "      <td>2010</td>\n",
              "    </tr>\n",
              "  </tbody>\n",
              "</table>\n",
              "</div>\n",
              "    <div class=\"colab-df-buttons\">\n",
              "\n",
              "  <div class=\"colab-df-container\">\n",
              "    <button class=\"colab-df-convert\" onclick=\"convertToInteractive('df-8d5b80aa-ef77-41d3-b624-0c6e88f1ae7a')\"\n",
              "            title=\"Convert this dataframe to an interactive table.\"\n",
              "            style=\"display:none;\">\n",
              "\n",
              "  <svg xmlns=\"http://www.w3.org/2000/svg\" height=\"24px\" viewBox=\"0 -960 960 960\">\n",
              "    <path d=\"M120-120v-720h720v720H120Zm60-500h600v-160H180v160Zm220 220h160v-160H400v160Zm0 220h160v-160H400v160ZM180-400h160v-160H180v160Zm440 0h160v-160H620v160ZM180-180h160v-160H180v160Zm440 0h160v-160H620v160Z\"/>\n",
              "  </svg>\n",
              "    </button>\n",
              "\n",
              "  <style>\n",
              "    .colab-df-container {\n",
              "      display:flex;\n",
              "      gap: 12px;\n",
              "    }\n",
              "\n",
              "    .colab-df-convert {\n",
              "      background-color: #E8F0FE;\n",
              "      border: none;\n",
              "      border-radius: 50%;\n",
              "      cursor: pointer;\n",
              "      display: none;\n",
              "      fill: #1967D2;\n",
              "      height: 32px;\n",
              "      padding: 0 0 0 0;\n",
              "      width: 32px;\n",
              "    }\n",
              "\n",
              "    .colab-df-convert:hover {\n",
              "      background-color: #E2EBFA;\n",
              "      box-shadow: 0px 1px 2px rgba(60, 64, 67, 0.3), 0px 1px 3px 1px rgba(60, 64, 67, 0.15);\n",
              "      fill: #174EA6;\n",
              "    }\n",
              "\n",
              "    .colab-df-buttons div {\n",
              "      margin-bottom: 4px;\n",
              "    }\n",
              "\n",
              "    [theme=dark] .colab-df-convert {\n",
              "      background-color: #3B4455;\n",
              "      fill: #D2E3FC;\n",
              "    }\n",
              "\n",
              "    [theme=dark] .colab-df-convert:hover {\n",
              "      background-color: #434B5C;\n",
              "      box-shadow: 0px 1px 3px 1px rgba(0, 0, 0, 0.15);\n",
              "      filter: drop-shadow(0px 1px 2px rgba(0, 0, 0, 0.3));\n",
              "      fill: #FFFFFF;\n",
              "    }\n",
              "  </style>\n",
              "\n",
              "    <script>\n",
              "      const buttonEl =\n",
              "        document.querySelector('#df-8d5b80aa-ef77-41d3-b624-0c6e88f1ae7a button.colab-df-convert');\n",
              "      buttonEl.style.display =\n",
              "        google.colab.kernel.accessAllowed ? 'block' : 'none';\n",
              "\n",
              "      async function convertToInteractive(key) {\n",
              "        const element = document.querySelector('#df-8d5b80aa-ef77-41d3-b624-0c6e88f1ae7a');\n",
              "        const dataTable =\n",
              "          await google.colab.kernel.invokeFunction('convertToInteractive',\n",
              "                                                    [key], {});\n",
              "        if (!dataTable) return;\n",
              "\n",
              "        const docLinkHtml = 'Like what you see? Visit the ' +\n",
              "          '<a target=\"_blank\" href=https://colab.research.google.com/notebooks/data_table.ipynb>data table notebook</a>'\n",
              "          + ' to learn more about interactive tables.';\n",
              "        element.innerHTML = '';\n",
              "        dataTable['output_type'] = 'display_data';\n",
              "        await google.colab.output.renderOutput(dataTable, element);\n",
              "        const docLink = document.createElement('div');\n",
              "        docLink.innerHTML = docLinkHtml;\n",
              "        element.appendChild(docLink);\n",
              "      }\n",
              "    </script>\n",
              "  </div>\n",
              "\n",
              "\n",
              "<div id=\"df-425fb8db-e4ef-45b8-a10b-88bc02b296d5\">\n",
              "  <button class=\"colab-df-quickchart\" onclick=\"quickchart('df-425fb8db-e4ef-45b8-a10b-88bc02b296d5')\"\n",
              "            title=\"Suggest charts\"\n",
              "            style=\"display:none;\">\n",
              "\n",
              "<svg xmlns=\"http://www.w3.org/2000/svg\" height=\"24px\"viewBox=\"0 0 24 24\"\n",
              "     width=\"24px\">\n",
              "    <g>\n",
              "        <path d=\"M19 3H5c-1.1 0-2 .9-2 2v14c0 1.1.9 2 2 2h14c1.1 0 2-.9 2-2V5c0-1.1-.9-2-2-2zM9 17H7v-7h2v7zm4 0h-2V7h2v10zm4 0h-2v-4h2v4z\"/>\n",
              "    </g>\n",
              "</svg>\n",
              "  </button>\n",
              "\n",
              "<style>\n",
              "  .colab-df-quickchart {\n",
              "      --bg-color: #E8F0FE;\n",
              "      --fill-color: #1967D2;\n",
              "      --hover-bg-color: #E2EBFA;\n",
              "      --hover-fill-color: #174EA6;\n",
              "      --disabled-fill-color: #AAA;\n",
              "      --disabled-bg-color: #DDD;\n",
              "  }\n",
              "\n",
              "  [theme=dark] .colab-df-quickchart {\n",
              "      --bg-color: #3B4455;\n",
              "      --fill-color: #D2E3FC;\n",
              "      --hover-bg-color: #434B5C;\n",
              "      --hover-fill-color: #FFFFFF;\n",
              "      --disabled-bg-color: #3B4455;\n",
              "      --disabled-fill-color: #666;\n",
              "  }\n",
              "\n",
              "  .colab-df-quickchart {\n",
              "    background-color: var(--bg-color);\n",
              "    border: none;\n",
              "    border-radius: 50%;\n",
              "    cursor: pointer;\n",
              "    display: none;\n",
              "    fill: var(--fill-color);\n",
              "    height: 32px;\n",
              "    padding: 0;\n",
              "    width: 32px;\n",
              "  }\n",
              "\n",
              "  .colab-df-quickchart:hover {\n",
              "    background-color: var(--hover-bg-color);\n",
              "    box-shadow: 0 1px 2px rgba(60, 64, 67, 0.3), 0 1px 3px 1px rgba(60, 64, 67, 0.15);\n",
              "    fill: var(--button-hover-fill-color);\n",
              "  }\n",
              "\n",
              "  .colab-df-quickchart-complete:disabled,\n",
              "  .colab-df-quickchart-complete:disabled:hover {\n",
              "    background-color: var(--disabled-bg-color);\n",
              "    fill: var(--disabled-fill-color);\n",
              "    box-shadow: none;\n",
              "  }\n",
              "\n",
              "  .colab-df-spinner {\n",
              "    border: 2px solid var(--fill-color);\n",
              "    border-color: transparent;\n",
              "    border-bottom-color: var(--fill-color);\n",
              "    animation:\n",
              "      spin 1s steps(1) infinite;\n",
              "  }\n",
              "\n",
              "  @keyframes spin {\n",
              "    0% {\n",
              "      border-color: transparent;\n",
              "      border-bottom-color: var(--fill-color);\n",
              "      border-left-color: var(--fill-color);\n",
              "    }\n",
              "    20% {\n",
              "      border-color: transparent;\n",
              "      border-left-color: var(--fill-color);\n",
              "      border-top-color: var(--fill-color);\n",
              "    }\n",
              "    30% {\n",
              "      border-color: transparent;\n",
              "      border-left-color: var(--fill-color);\n",
              "      border-top-color: var(--fill-color);\n",
              "      border-right-color: var(--fill-color);\n",
              "    }\n",
              "    40% {\n",
              "      border-color: transparent;\n",
              "      border-right-color: var(--fill-color);\n",
              "      border-top-color: var(--fill-color);\n",
              "    }\n",
              "    60% {\n",
              "      border-color: transparent;\n",
              "      border-right-color: var(--fill-color);\n",
              "    }\n",
              "    80% {\n",
              "      border-color: transparent;\n",
              "      border-right-color: var(--fill-color);\n",
              "      border-bottom-color: var(--fill-color);\n",
              "    }\n",
              "    90% {\n",
              "      border-color: transparent;\n",
              "      border-bottom-color: var(--fill-color);\n",
              "    }\n",
              "  }\n",
              "</style>\n",
              "\n",
              "  <script>\n",
              "    async function quickchart(key) {\n",
              "      const quickchartButtonEl =\n",
              "        document.querySelector('#' + key + ' button');\n",
              "      quickchartButtonEl.disabled = true;  // To prevent multiple clicks.\n",
              "      quickchartButtonEl.classList.add('colab-df-spinner');\n",
              "      try {\n",
              "        const charts = await google.colab.kernel.invokeFunction(\n",
              "            'suggestCharts', [key], {});\n",
              "      } catch (error) {\n",
              "        console.error('Error during call to suggestCharts:', error);\n",
              "      }\n",
              "      quickchartButtonEl.classList.remove('colab-df-spinner');\n",
              "      quickchartButtonEl.classList.add('colab-df-quickchart-complete');\n",
              "    }\n",
              "    (() => {\n",
              "      let quickchartButtonEl =\n",
              "        document.querySelector('#df-425fb8db-e4ef-45b8-a10b-88bc02b296d5 button');\n",
              "      quickchartButtonEl.style.display =\n",
              "        google.colab.kernel.accessAllowed ? 'block' : 'none';\n",
              "    })();\n",
              "  </script>\n",
              "</div>\n",
              "\n",
              "    </div>\n",
              "  </div>\n"
            ],
            "application/vnd.google.colaboratory.intrinsic+json": {
              "type": "dataframe",
              "variable_name": "df_gross",
              "summary": "{\n  \"name\": \"df_gross\",\n  \"rows\": 3387,\n  \"fields\": [\n    {\n      \"column\": \"title\",\n      \"properties\": {\n        \"dtype\": \"string\",\n        \"num_unique_values\": 3386,\n        \"samples\": [\n          \"Season of the Witch\",\n          \"Picture Me\",\n          \"Jane Eyre\"\n        ],\n        \"semantic_type\": \"\",\n        \"description\": \"\"\n      }\n    },\n    {\n      \"column\": \"studio\",\n      \"properties\": {\n        \"dtype\": \"category\",\n        \"num_unique_values\": 257,\n        \"samples\": [\n          \"SEA\",\n          \"PBS\",\n          \"Cohen\"\n        ],\n        \"semantic_type\": \"\",\n        \"description\": \"\"\n      }\n    },\n    {\n      \"column\": \"domestic_gross\",\n      \"properties\": {\n        \"dtype\": \"number\",\n        \"std\": 66982498.23736456,\n        \"min\": 100.0,\n        \"max\": 936700000.0,\n        \"num_unique_values\": 1797,\n        \"samples\": [\n          153600000.0,\n          336000.0,\n          295000.0\n        ],\n        \"semantic_type\": \"\",\n        \"description\": \"\"\n      }\n    },\n    {\n      \"column\": \"foreign_gross\",\n      \"properties\": {\n        \"dtype\": \"category\",\n        \"num_unique_values\": 1204,\n        \"samples\": [\n          \"40000000\",\n          \"5400000\",\n          \"32000000\"\n        ],\n        \"semantic_type\": \"\",\n        \"description\": \"\"\n      }\n    },\n    {\n      \"column\": \"year\",\n      \"properties\": {\n        \"dtype\": \"number\",\n        \"std\": 2,\n        \"min\": 2010,\n        \"max\": 2018,\n        \"num_unique_values\": 9,\n        \"samples\": [\n          2017,\n          2011,\n          2015\n        ],\n        \"semantic_type\": \"\",\n        \"description\": \"\"\n      }\n    }\n  ]\n}"
            }
          },
          "metadata": {},
          "execution_count": 8
        }
      ]
    },
    {
      "cell_type": "code",
      "source": [
        "# Yusuf Ali\n",
        "df_imdb = pd.read_sql(\n",
        "    \"\"\"\n",
        "    SELECT *\n",
        "    FROM sqlite_master\n",
        "    \"\"\"\n",
        ", conn\n",
        ")\n",
        "\n",
        "df_imdb"
      ],
      "metadata": {
        "id": "tgwflA1ESrEG",
        "colab": {
          "base_uri": "https://localhost:8080/",
          "height": 143
        },
        "outputId": "43def16f-6177-4ecb-e557-fe192762a00d"
      },
      "execution_count": null,
      "outputs": [
        {
          "output_type": "execute_result",
          "data": {
            "text/plain": [
              "    type           name       tbl_name  rootpage  \\\n",
              "0  table   movie_basics   movie_basics         2   \n",
              "1  table     movie_akas     movie_akas         3   \n",
              "2  table  movie_ratings  movie_ratings         4   \n",
              "\n",
              "                                                 sql  \n",
              "0  CREATE TABLE \"movie_basics\" (\\n\"movie_id\" TEXT...  \n",
              "1  CREATE TABLE \"movie_akas\" (\\n\"movie_id\" TEXT,\\...  \n",
              "2  CREATE TABLE \"movie_ratings\" (\\n\"movie_id\" TEX...  "
            ],
            "text/html": [
              "\n",
              "  <div id=\"df-e75600c7-8c35-440f-947a-8f57a4f11c4c\" class=\"colab-df-container\">\n",
              "    <div>\n",
              "<style scoped>\n",
              "    .dataframe tbody tr th:only-of-type {\n",
              "        vertical-align: middle;\n",
              "    }\n",
              "\n",
              "    .dataframe tbody tr th {\n",
              "        vertical-align: top;\n",
              "    }\n",
              "\n",
              "    .dataframe thead th {\n",
              "        text-align: right;\n",
              "    }\n",
              "</style>\n",
              "<table border=\"1\" class=\"dataframe\">\n",
              "  <thead>\n",
              "    <tr style=\"text-align: right;\">\n",
              "      <th></th>\n",
              "      <th>type</th>\n",
              "      <th>name</th>\n",
              "      <th>tbl_name</th>\n",
              "      <th>rootpage</th>\n",
              "      <th>sql</th>\n",
              "    </tr>\n",
              "  </thead>\n",
              "  <tbody>\n",
              "    <tr>\n",
              "      <th>0</th>\n",
              "      <td>table</td>\n",
              "      <td>movie_basics</td>\n",
              "      <td>movie_basics</td>\n",
              "      <td>2</td>\n",
              "      <td>CREATE TABLE \"movie_basics\" (\\n\"movie_id\" TEXT...</td>\n",
              "    </tr>\n",
              "    <tr>\n",
              "      <th>1</th>\n",
              "      <td>table</td>\n",
              "      <td>movie_akas</td>\n",
              "      <td>movie_akas</td>\n",
              "      <td>3</td>\n",
              "      <td>CREATE TABLE \"movie_akas\" (\\n\"movie_id\" TEXT,\\...</td>\n",
              "    </tr>\n",
              "    <tr>\n",
              "      <th>2</th>\n",
              "      <td>table</td>\n",
              "      <td>movie_ratings</td>\n",
              "      <td>movie_ratings</td>\n",
              "      <td>4</td>\n",
              "      <td>CREATE TABLE \"movie_ratings\" (\\n\"movie_id\" TEX...</td>\n",
              "    </tr>\n",
              "  </tbody>\n",
              "</table>\n",
              "</div>\n",
              "    <div class=\"colab-df-buttons\">\n",
              "\n",
              "  <div class=\"colab-df-container\">\n",
              "    <button class=\"colab-df-convert\" onclick=\"convertToInteractive('df-e75600c7-8c35-440f-947a-8f57a4f11c4c')\"\n",
              "            title=\"Convert this dataframe to an interactive table.\"\n",
              "            style=\"display:none;\">\n",
              "\n",
              "  <svg xmlns=\"http://www.w3.org/2000/svg\" height=\"24px\" viewBox=\"0 -960 960 960\">\n",
              "    <path d=\"M120-120v-720h720v720H120Zm60-500h600v-160H180v160Zm220 220h160v-160H400v160Zm0 220h160v-160H400v160ZM180-400h160v-160H180v160Zm440 0h160v-160H620v160ZM180-180h160v-160H180v160Zm440 0h160v-160H620v160Z\"/>\n",
              "  </svg>\n",
              "    </button>\n",
              "\n",
              "  <style>\n",
              "    .colab-df-container {\n",
              "      display:flex;\n",
              "      gap: 12px;\n",
              "    }\n",
              "\n",
              "    .colab-df-convert {\n",
              "      background-color: #E8F0FE;\n",
              "      border: none;\n",
              "      border-radius: 50%;\n",
              "      cursor: pointer;\n",
              "      display: none;\n",
              "      fill: #1967D2;\n",
              "      height: 32px;\n",
              "      padding: 0 0 0 0;\n",
              "      width: 32px;\n",
              "    }\n",
              "\n",
              "    .colab-df-convert:hover {\n",
              "      background-color: #E2EBFA;\n",
              "      box-shadow: 0px 1px 2px rgba(60, 64, 67, 0.3), 0px 1px 3px 1px rgba(60, 64, 67, 0.15);\n",
              "      fill: #174EA6;\n",
              "    }\n",
              "\n",
              "    .colab-df-buttons div {\n",
              "      margin-bottom: 4px;\n",
              "    }\n",
              "\n",
              "    [theme=dark] .colab-df-convert {\n",
              "      background-color: #3B4455;\n",
              "      fill: #D2E3FC;\n",
              "    }\n",
              "\n",
              "    [theme=dark] .colab-df-convert:hover {\n",
              "      background-color: #434B5C;\n",
              "      box-shadow: 0px 1px 3px 1px rgba(0, 0, 0, 0.15);\n",
              "      filter: drop-shadow(0px 1px 2px rgba(0, 0, 0, 0.3));\n",
              "      fill: #FFFFFF;\n",
              "    }\n",
              "  </style>\n",
              "\n",
              "    <script>\n",
              "      const buttonEl =\n",
              "        document.querySelector('#df-e75600c7-8c35-440f-947a-8f57a4f11c4c button.colab-df-convert');\n",
              "      buttonEl.style.display =\n",
              "        google.colab.kernel.accessAllowed ? 'block' : 'none';\n",
              "\n",
              "      async function convertToInteractive(key) {\n",
              "        const element = document.querySelector('#df-e75600c7-8c35-440f-947a-8f57a4f11c4c');\n",
              "        const dataTable =\n",
              "          await google.colab.kernel.invokeFunction('convertToInteractive',\n",
              "                                                    [key], {});\n",
              "        if (!dataTable) return;\n",
              "\n",
              "        const docLinkHtml = 'Like what you see? Visit the ' +\n",
              "          '<a target=\"_blank\" href=https://colab.research.google.com/notebooks/data_table.ipynb>data table notebook</a>'\n",
              "          + ' to learn more about interactive tables.';\n",
              "        element.innerHTML = '';\n",
              "        dataTable['output_type'] = 'display_data';\n",
              "        await google.colab.output.renderOutput(dataTable, element);\n",
              "        const docLink = document.createElement('div');\n",
              "        docLink.innerHTML = docLinkHtml;\n",
              "        element.appendChild(docLink);\n",
              "      }\n",
              "    </script>\n",
              "  </div>\n",
              "\n",
              "\n",
              "<div id=\"df-a67effae-65dc-4855-b4ec-dde61edc814c\">\n",
              "  <button class=\"colab-df-quickchart\" onclick=\"quickchart('df-a67effae-65dc-4855-b4ec-dde61edc814c')\"\n",
              "            title=\"Suggest charts\"\n",
              "            style=\"display:none;\">\n",
              "\n",
              "<svg xmlns=\"http://www.w3.org/2000/svg\" height=\"24px\"viewBox=\"0 0 24 24\"\n",
              "     width=\"24px\">\n",
              "    <g>\n",
              "        <path d=\"M19 3H5c-1.1 0-2 .9-2 2v14c0 1.1.9 2 2 2h14c1.1 0 2-.9 2-2V5c0-1.1-.9-2-2-2zM9 17H7v-7h2v7zm4 0h-2V7h2v10zm4 0h-2v-4h2v4z\"/>\n",
              "    </g>\n",
              "</svg>\n",
              "  </button>\n",
              "\n",
              "<style>\n",
              "  .colab-df-quickchart {\n",
              "      --bg-color: #E8F0FE;\n",
              "      --fill-color: #1967D2;\n",
              "      --hover-bg-color: #E2EBFA;\n",
              "      --hover-fill-color: #174EA6;\n",
              "      --disabled-fill-color: #AAA;\n",
              "      --disabled-bg-color: #DDD;\n",
              "  }\n",
              "\n",
              "  [theme=dark] .colab-df-quickchart {\n",
              "      --bg-color: #3B4455;\n",
              "      --fill-color: #D2E3FC;\n",
              "      --hover-bg-color: #434B5C;\n",
              "      --hover-fill-color: #FFFFFF;\n",
              "      --disabled-bg-color: #3B4455;\n",
              "      --disabled-fill-color: #666;\n",
              "  }\n",
              "\n",
              "  .colab-df-quickchart {\n",
              "    background-color: var(--bg-color);\n",
              "    border: none;\n",
              "    border-radius: 50%;\n",
              "    cursor: pointer;\n",
              "    display: none;\n",
              "    fill: var(--fill-color);\n",
              "    height: 32px;\n",
              "    padding: 0;\n",
              "    width: 32px;\n",
              "  }\n",
              "\n",
              "  .colab-df-quickchart:hover {\n",
              "    background-color: var(--hover-bg-color);\n",
              "    box-shadow: 0 1px 2px rgba(60, 64, 67, 0.3), 0 1px 3px 1px rgba(60, 64, 67, 0.15);\n",
              "    fill: var(--button-hover-fill-color);\n",
              "  }\n",
              "\n",
              "  .colab-df-quickchart-complete:disabled,\n",
              "  .colab-df-quickchart-complete:disabled:hover {\n",
              "    background-color: var(--disabled-bg-color);\n",
              "    fill: var(--disabled-fill-color);\n",
              "    box-shadow: none;\n",
              "  }\n",
              "\n",
              "  .colab-df-spinner {\n",
              "    border: 2px solid var(--fill-color);\n",
              "    border-color: transparent;\n",
              "    border-bottom-color: var(--fill-color);\n",
              "    animation:\n",
              "      spin 1s steps(1) infinite;\n",
              "  }\n",
              "\n",
              "  @keyframes spin {\n",
              "    0% {\n",
              "      border-color: transparent;\n",
              "      border-bottom-color: var(--fill-color);\n",
              "      border-left-color: var(--fill-color);\n",
              "    }\n",
              "    20% {\n",
              "      border-color: transparent;\n",
              "      border-left-color: var(--fill-color);\n",
              "      border-top-color: var(--fill-color);\n",
              "    }\n",
              "    30% {\n",
              "      border-color: transparent;\n",
              "      border-left-color: var(--fill-color);\n",
              "      border-top-color: var(--fill-color);\n",
              "      border-right-color: var(--fill-color);\n",
              "    }\n",
              "    40% {\n",
              "      border-color: transparent;\n",
              "      border-right-color: var(--fill-color);\n",
              "      border-top-color: var(--fill-color);\n",
              "    }\n",
              "    60% {\n",
              "      border-color: transparent;\n",
              "      border-right-color: var(--fill-color);\n",
              "    }\n",
              "    80% {\n",
              "      border-color: transparent;\n",
              "      border-right-color: var(--fill-color);\n",
              "      border-bottom-color: var(--fill-color);\n",
              "    }\n",
              "    90% {\n",
              "      border-color: transparent;\n",
              "      border-bottom-color: var(--fill-color);\n",
              "    }\n",
              "  }\n",
              "</style>\n",
              "\n",
              "  <script>\n",
              "    async function quickchart(key) {\n",
              "      const quickchartButtonEl =\n",
              "        document.querySelector('#' + key + ' button');\n",
              "      quickchartButtonEl.disabled = true;  // To prevent multiple clicks.\n",
              "      quickchartButtonEl.classList.add('colab-df-spinner');\n",
              "      try {\n",
              "        const charts = await google.colab.kernel.invokeFunction(\n",
              "            'suggestCharts', [key], {});\n",
              "      } catch (error) {\n",
              "        console.error('Error during call to suggestCharts:', error);\n",
              "      }\n",
              "      quickchartButtonEl.classList.remove('colab-df-spinner');\n",
              "      quickchartButtonEl.classList.add('colab-df-quickchart-complete');\n",
              "    }\n",
              "    (() => {\n",
              "      let quickchartButtonEl =\n",
              "        document.querySelector('#df-a67effae-65dc-4855-b4ec-dde61edc814c button');\n",
              "      quickchartButtonEl.style.display =\n",
              "        google.colab.kernel.accessAllowed ? 'block' : 'none';\n",
              "    })();\n",
              "  </script>\n",
              "</div>\n",
              "\n",
              "  <div id=\"id_0fcc2314-243a-4f9c-bad0-187a970491dc\">\n",
              "    <style>\n",
              "      .colab-df-generate {\n",
              "        background-color: #E8F0FE;\n",
              "        border: none;\n",
              "        border-radius: 50%;\n",
              "        cursor: pointer;\n",
              "        display: none;\n",
              "        fill: #1967D2;\n",
              "        height: 32px;\n",
              "        padding: 0 0 0 0;\n",
              "        width: 32px;\n",
              "      }\n",
              "\n",
              "      .colab-df-generate:hover {\n",
              "        background-color: #E2EBFA;\n",
              "        box-shadow: 0px 1px 2px rgba(60, 64, 67, 0.3), 0px 1px 3px 1px rgba(60, 64, 67, 0.15);\n",
              "        fill: #174EA6;\n",
              "      }\n",
              "\n",
              "      [theme=dark] .colab-df-generate {\n",
              "        background-color: #3B4455;\n",
              "        fill: #D2E3FC;\n",
              "      }\n",
              "\n",
              "      [theme=dark] .colab-df-generate:hover {\n",
              "        background-color: #434B5C;\n",
              "        box-shadow: 0px 1px 3px 1px rgba(0, 0, 0, 0.15);\n",
              "        filter: drop-shadow(0px 1px 2px rgba(0, 0, 0, 0.3));\n",
              "        fill: #FFFFFF;\n",
              "      }\n",
              "    </style>\n",
              "    <button class=\"colab-df-generate\" onclick=\"generateWithVariable('df_imdb')\"\n",
              "            title=\"Generate code using this dataframe.\"\n",
              "            style=\"display:none;\">\n",
              "\n",
              "  <svg xmlns=\"http://www.w3.org/2000/svg\" height=\"24px\"viewBox=\"0 0 24 24\"\n",
              "       width=\"24px\">\n",
              "    <path d=\"M7,19H8.4L18.45,9,17,7.55,7,17.6ZM5,21V16.75L18.45,3.32a2,2,0,0,1,2.83,0l1.4,1.43a1.91,1.91,0,0,1,.58,1.4,1.91,1.91,0,0,1-.58,1.4L9.25,21ZM18.45,9,17,7.55Zm-12,3A5.31,5.31,0,0,0,4.9,8.1,5.31,5.31,0,0,0,1,6.5,5.31,5.31,0,0,0,4.9,4.9,5.31,5.31,0,0,0,6.5,1,5.31,5.31,0,0,0,8.1,4.9,5.31,5.31,0,0,0,12,6.5,5.46,5.46,0,0,0,6.5,12Z\"/>\n",
              "  </svg>\n",
              "    </button>\n",
              "    <script>\n",
              "      (() => {\n",
              "      const buttonEl =\n",
              "        document.querySelector('#id_0fcc2314-243a-4f9c-bad0-187a970491dc button.colab-df-generate');\n",
              "      buttonEl.style.display =\n",
              "        google.colab.kernel.accessAllowed ? 'block' : 'none';\n",
              "\n",
              "      buttonEl.onclick = () => {\n",
              "        google.colab.notebook.generateWithVariable('df_imdb');\n",
              "      }\n",
              "      })();\n",
              "    </script>\n",
              "  </div>\n",
              "\n",
              "    </div>\n",
              "  </div>\n"
            ],
            "application/vnd.google.colaboratory.intrinsic+json": {
              "type": "dataframe",
              "variable_name": "df_imdb",
              "summary": "{\n  \"name\": \"df_imdb\",\n  \"rows\": 3,\n  \"fields\": [\n    {\n      \"column\": \"type\",\n      \"properties\": {\n        \"dtype\": \"category\",\n        \"num_unique_values\": 1,\n        \"samples\": [\n          \"table\"\n        ],\n        \"semantic_type\": \"\",\n        \"description\": \"\"\n      }\n    },\n    {\n      \"column\": \"name\",\n      \"properties\": {\n        \"dtype\": \"string\",\n        \"num_unique_values\": 3,\n        \"samples\": [\n          \"movie_basics\"\n        ],\n        \"semantic_type\": \"\",\n        \"description\": \"\"\n      }\n    },\n    {\n      \"column\": \"tbl_name\",\n      \"properties\": {\n        \"dtype\": \"string\",\n        \"num_unique_values\": 3,\n        \"samples\": [\n          \"movie_basics\"\n        ],\n        \"semantic_type\": \"\",\n        \"description\": \"\"\n      }\n    },\n    {\n      \"column\": \"rootpage\",\n      \"properties\": {\n        \"dtype\": \"number\",\n        \"std\": 1,\n        \"min\": 2,\n        \"max\": 4,\n        \"num_unique_values\": 3,\n        \"samples\": [\n          2\n        ],\n        \"semantic_type\": \"\",\n        \"description\": \"\"\n      }\n    },\n    {\n      \"column\": \"sql\",\n      \"properties\": {\n        \"dtype\": \"string\",\n        \"num_unique_values\": 3,\n        \"samples\": [\n          \"CREATE TABLE \\\"movie_basics\\\" (\\n\\\"movie_id\\\" TEXT,\\n  \\\"primary_title\\\" TEXT,\\n  \\\"original_title\\\" TEXT,\\n  \\\"start_year\\\" INTEGER,\\n  \\\"runtime_minutes\\\" REAL,\\n  \\\"genres\\\" TEXT\\n)\"\n        ],\n        \"semantic_type\": \"\",\n        \"description\": \"\"\n      }\n    }\n  ]\n}"
            }
          },
          "metadata": {},
          "execution_count": 9
        }
      ]
    },
    {
      "cell_type": "code",
      "source": [
        "#Yusuf Ali\n",
        "query = \"\"\" SELECT *\n",
        "            FROM movie_ratings rat\n",
        "            JOIN  movie_akas ak\n",
        "            ON rat.movie_id = ak.movie_id\n",
        "            JOIN movie_basics mb\n",
        "            ON ak.movie_id = mb.movie_id \"\"\"\n",
        "df_imdb = pd.read_sql(query,conn)\n"
      ],
      "metadata": {
        "id": "2HuT8f9f1gSr"
      },
      "execution_count": null,
      "outputs": []
    },
    {
      "cell_type": "code",
      "source": [
        "print(type(df_imdb))"
      ],
      "metadata": {
        "id": "l-4O8CLG3ZtW",
        "colab": {
          "base_uri": "https://localhost:8080/"
        },
        "outputId": "e0177db6-e5b9-4cd6-a778-150f47272526"
      },
      "execution_count": null,
      "outputs": [
        {
          "output_type": "stream",
          "name": "stdout",
          "text": [
            "<class 'pandas.core.frame.DataFrame'>\n"
          ]
        }
      ]
    },
    {
      "cell_type": "markdown",
      "source": [
        "Dropping irrelevant columns in imdb dataset"
      ],
      "metadata": {
        "id": "ZK-6XdBIc85o"
      }
    },
    {
      "cell_type": "markdown",
      "source": [
        "We are now focusing on cleaning the `df_imdb` dataset by removing any duplicate columns and selecting only the relevant columns for our analysis."
      ],
      "metadata": {
        "id": "feHnQ4jMPExp"
      }
    },
    {
      "cell_type": "code",
      "source": [
        "#Yusuf Ali\n",
        "columns_to_keep = [ 'averagerating', 'numvotes', 'title', 'region', 'start_year', 'runtime_minutes', 'genres']\n",
        "df_imdb = df_imdb.loc[:,~df_imdb.columns.duplicated()]\n",
        "df_cleaned = df_imdb[columns_to_keep]\n",
        "df_cleaned.head()"
      ],
      "metadata": {
        "id": "niTQNPKD3JgU",
        "colab": {
          "base_uri": "https://localhost:8080/",
          "height": 206
        },
        "outputId": "6571d769-1177-4eb8-e9c5-b1aa4d8d650c"
      },
      "execution_count": null,
      "outputs": [
        {
          "output_type": "execute_result",
          "data": {
            "text/plain": [
              "   averagerating  numvotes                 title region  start_year  \\\n",
              "0            6.4        20             Just Inès   None        2010   \n",
              "1            6.4        20             Samo Ines     RS        2010   \n",
              "2            6.4        20             Just Inès     GB        2010   \n",
              "3            4.2     50352   Legenda lui Hercule     RO        2014   \n",
              "4            4.2     50352  La légende d'Hercule     FR        2014   \n",
              "\n",
              "   runtime_minutes                    genres  \n",
              "0             90.0                     Drama  \n",
              "1             90.0                     Drama  \n",
              "2             90.0                     Drama  \n",
              "3             99.0  Action,Adventure,Fantasy  \n",
              "4             99.0  Action,Adventure,Fantasy  "
            ],
            "text/html": [
              "\n",
              "  <div id=\"df-b040862c-763a-4526-9571-604d9a93aaca\" class=\"colab-df-container\">\n",
              "    <div>\n",
              "<style scoped>\n",
              "    .dataframe tbody tr th:only-of-type {\n",
              "        vertical-align: middle;\n",
              "    }\n",
              "\n",
              "    .dataframe tbody tr th {\n",
              "        vertical-align: top;\n",
              "    }\n",
              "\n",
              "    .dataframe thead th {\n",
              "        text-align: right;\n",
              "    }\n",
              "</style>\n",
              "<table border=\"1\" class=\"dataframe\">\n",
              "  <thead>\n",
              "    <tr style=\"text-align: right;\">\n",
              "      <th></th>\n",
              "      <th>averagerating</th>\n",
              "      <th>numvotes</th>\n",
              "      <th>title</th>\n",
              "      <th>region</th>\n",
              "      <th>start_year</th>\n",
              "      <th>runtime_minutes</th>\n",
              "      <th>genres</th>\n",
              "    </tr>\n",
              "  </thead>\n",
              "  <tbody>\n",
              "    <tr>\n",
              "      <th>0</th>\n",
              "      <td>6.4</td>\n",
              "      <td>20</td>\n",
              "      <td>Just Inès</td>\n",
              "      <td>None</td>\n",
              "      <td>2010</td>\n",
              "      <td>90.0</td>\n",
              "      <td>Drama</td>\n",
              "    </tr>\n",
              "    <tr>\n",
              "      <th>1</th>\n",
              "      <td>6.4</td>\n",
              "      <td>20</td>\n",
              "      <td>Samo Ines</td>\n",
              "      <td>RS</td>\n",
              "      <td>2010</td>\n",
              "      <td>90.0</td>\n",
              "      <td>Drama</td>\n",
              "    </tr>\n",
              "    <tr>\n",
              "      <th>2</th>\n",
              "      <td>6.4</td>\n",
              "      <td>20</td>\n",
              "      <td>Just Inès</td>\n",
              "      <td>GB</td>\n",
              "      <td>2010</td>\n",
              "      <td>90.0</td>\n",
              "      <td>Drama</td>\n",
              "    </tr>\n",
              "    <tr>\n",
              "      <th>3</th>\n",
              "      <td>4.2</td>\n",
              "      <td>50352</td>\n",
              "      <td>Legenda lui Hercule</td>\n",
              "      <td>RO</td>\n",
              "      <td>2014</td>\n",
              "      <td>99.0</td>\n",
              "      <td>Action,Adventure,Fantasy</td>\n",
              "    </tr>\n",
              "    <tr>\n",
              "      <th>4</th>\n",
              "      <td>4.2</td>\n",
              "      <td>50352</td>\n",
              "      <td>La légende d'Hercule</td>\n",
              "      <td>FR</td>\n",
              "      <td>2014</td>\n",
              "      <td>99.0</td>\n",
              "      <td>Action,Adventure,Fantasy</td>\n",
              "    </tr>\n",
              "  </tbody>\n",
              "</table>\n",
              "</div>\n",
              "    <div class=\"colab-df-buttons\">\n",
              "\n",
              "  <div class=\"colab-df-container\">\n",
              "    <button class=\"colab-df-convert\" onclick=\"convertToInteractive('df-b040862c-763a-4526-9571-604d9a93aaca')\"\n",
              "            title=\"Convert this dataframe to an interactive table.\"\n",
              "            style=\"display:none;\">\n",
              "\n",
              "  <svg xmlns=\"http://www.w3.org/2000/svg\" height=\"24px\" viewBox=\"0 -960 960 960\">\n",
              "    <path d=\"M120-120v-720h720v720H120Zm60-500h600v-160H180v160Zm220 220h160v-160H400v160Zm0 220h160v-160H400v160ZM180-400h160v-160H180v160Zm440 0h160v-160H620v160ZM180-180h160v-160H180v160Zm440 0h160v-160H620v160Z\"/>\n",
              "  </svg>\n",
              "    </button>\n",
              "\n",
              "  <style>\n",
              "    .colab-df-container {\n",
              "      display:flex;\n",
              "      gap: 12px;\n",
              "    }\n",
              "\n",
              "    .colab-df-convert {\n",
              "      background-color: #E8F0FE;\n",
              "      border: none;\n",
              "      border-radius: 50%;\n",
              "      cursor: pointer;\n",
              "      display: none;\n",
              "      fill: #1967D2;\n",
              "      height: 32px;\n",
              "      padding: 0 0 0 0;\n",
              "      width: 32px;\n",
              "    }\n",
              "\n",
              "    .colab-df-convert:hover {\n",
              "      background-color: #E2EBFA;\n",
              "      box-shadow: 0px 1px 2px rgba(60, 64, 67, 0.3), 0px 1px 3px 1px rgba(60, 64, 67, 0.15);\n",
              "      fill: #174EA6;\n",
              "    }\n",
              "\n",
              "    .colab-df-buttons div {\n",
              "      margin-bottom: 4px;\n",
              "    }\n",
              "\n",
              "    [theme=dark] .colab-df-convert {\n",
              "      background-color: #3B4455;\n",
              "      fill: #D2E3FC;\n",
              "    }\n",
              "\n",
              "    [theme=dark] .colab-df-convert:hover {\n",
              "      background-color: #434B5C;\n",
              "      box-shadow: 0px 1px 3px 1px rgba(0, 0, 0, 0.15);\n",
              "      filter: drop-shadow(0px 1px 2px rgba(0, 0, 0, 0.3));\n",
              "      fill: #FFFFFF;\n",
              "    }\n",
              "  </style>\n",
              "\n",
              "    <script>\n",
              "      const buttonEl =\n",
              "        document.querySelector('#df-b040862c-763a-4526-9571-604d9a93aaca button.colab-df-convert');\n",
              "      buttonEl.style.display =\n",
              "        google.colab.kernel.accessAllowed ? 'block' : 'none';\n",
              "\n",
              "      async function convertToInteractive(key) {\n",
              "        const element = document.querySelector('#df-b040862c-763a-4526-9571-604d9a93aaca');\n",
              "        const dataTable =\n",
              "          await google.colab.kernel.invokeFunction('convertToInteractive',\n",
              "                                                    [key], {});\n",
              "        if (!dataTable) return;\n",
              "\n",
              "        const docLinkHtml = 'Like what you see? Visit the ' +\n",
              "          '<a target=\"_blank\" href=https://colab.research.google.com/notebooks/data_table.ipynb>data table notebook</a>'\n",
              "          + ' to learn more about interactive tables.';\n",
              "        element.innerHTML = '';\n",
              "        dataTable['output_type'] = 'display_data';\n",
              "        await google.colab.output.renderOutput(dataTable, element);\n",
              "        const docLink = document.createElement('div');\n",
              "        docLink.innerHTML = docLinkHtml;\n",
              "        element.appendChild(docLink);\n",
              "      }\n",
              "    </script>\n",
              "  </div>\n",
              "\n",
              "\n",
              "<div id=\"df-e03b5ce5-118d-4248-9165-876421fd9df8\">\n",
              "  <button class=\"colab-df-quickchart\" onclick=\"quickchart('df-e03b5ce5-118d-4248-9165-876421fd9df8')\"\n",
              "            title=\"Suggest charts\"\n",
              "            style=\"display:none;\">\n",
              "\n",
              "<svg xmlns=\"http://www.w3.org/2000/svg\" height=\"24px\"viewBox=\"0 0 24 24\"\n",
              "     width=\"24px\">\n",
              "    <g>\n",
              "        <path d=\"M19 3H5c-1.1 0-2 .9-2 2v14c0 1.1.9 2 2 2h14c1.1 0 2-.9 2-2V5c0-1.1-.9-2-2-2zM9 17H7v-7h2v7zm4 0h-2V7h2v10zm4 0h-2v-4h2v4z\"/>\n",
              "    </g>\n",
              "</svg>\n",
              "  </button>\n",
              "\n",
              "<style>\n",
              "  .colab-df-quickchart {\n",
              "      --bg-color: #E8F0FE;\n",
              "      --fill-color: #1967D2;\n",
              "      --hover-bg-color: #E2EBFA;\n",
              "      --hover-fill-color: #174EA6;\n",
              "      --disabled-fill-color: #AAA;\n",
              "      --disabled-bg-color: #DDD;\n",
              "  }\n",
              "\n",
              "  [theme=dark] .colab-df-quickchart {\n",
              "      --bg-color: #3B4455;\n",
              "      --fill-color: #D2E3FC;\n",
              "      --hover-bg-color: #434B5C;\n",
              "      --hover-fill-color: #FFFFFF;\n",
              "      --disabled-bg-color: #3B4455;\n",
              "      --disabled-fill-color: #666;\n",
              "  }\n",
              "\n",
              "  .colab-df-quickchart {\n",
              "    background-color: var(--bg-color);\n",
              "    border: none;\n",
              "    border-radius: 50%;\n",
              "    cursor: pointer;\n",
              "    display: none;\n",
              "    fill: var(--fill-color);\n",
              "    height: 32px;\n",
              "    padding: 0;\n",
              "    width: 32px;\n",
              "  }\n",
              "\n",
              "  .colab-df-quickchart:hover {\n",
              "    background-color: var(--hover-bg-color);\n",
              "    box-shadow: 0 1px 2px rgba(60, 64, 67, 0.3), 0 1px 3px 1px rgba(60, 64, 67, 0.15);\n",
              "    fill: var(--button-hover-fill-color);\n",
              "  }\n",
              "\n",
              "  .colab-df-quickchart-complete:disabled,\n",
              "  .colab-df-quickchart-complete:disabled:hover {\n",
              "    background-color: var(--disabled-bg-color);\n",
              "    fill: var(--disabled-fill-color);\n",
              "    box-shadow: none;\n",
              "  }\n",
              "\n",
              "  .colab-df-spinner {\n",
              "    border: 2px solid var(--fill-color);\n",
              "    border-color: transparent;\n",
              "    border-bottom-color: var(--fill-color);\n",
              "    animation:\n",
              "      spin 1s steps(1) infinite;\n",
              "  }\n",
              "\n",
              "  @keyframes spin {\n",
              "    0% {\n",
              "      border-color: transparent;\n",
              "      border-bottom-color: var(--fill-color);\n",
              "      border-left-color: var(--fill-color);\n",
              "    }\n",
              "    20% {\n",
              "      border-color: transparent;\n",
              "      border-left-color: var(--fill-color);\n",
              "      border-top-color: var(--fill-color);\n",
              "    }\n",
              "    30% {\n",
              "      border-color: transparent;\n",
              "      border-left-color: var(--fill-color);\n",
              "      border-top-color: var(--fill-color);\n",
              "      border-right-color: var(--fill-color);\n",
              "    }\n",
              "    40% {\n",
              "      border-color: transparent;\n",
              "      border-right-color: var(--fill-color);\n",
              "      border-top-color: var(--fill-color);\n",
              "    }\n",
              "    60% {\n",
              "      border-color: transparent;\n",
              "      border-right-color: var(--fill-color);\n",
              "    }\n",
              "    80% {\n",
              "      border-color: transparent;\n",
              "      border-right-color: var(--fill-color);\n",
              "      border-bottom-color: var(--fill-color);\n",
              "    }\n",
              "    90% {\n",
              "      border-color: transparent;\n",
              "      border-bottom-color: var(--fill-color);\n",
              "    }\n",
              "  }\n",
              "</style>\n",
              "\n",
              "  <script>\n",
              "    async function quickchart(key) {\n",
              "      const quickchartButtonEl =\n",
              "        document.querySelector('#' + key + ' button');\n",
              "      quickchartButtonEl.disabled = true;  // To prevent multiple clicks.\n",
              "      quickchartButtonEl.classList.add('colab-df-spinner');\n",
              "      try {\n",
              "        const charts = await google.colab.kernel.invokeFunction(\n",
              "            'suggestCharts', [key], {});\n",
              "      } catch (error) {\n",
              "        console.error('Error during call to suggestCharts:', error);\n",
              "      }\n",
              "      quickchartButtonEl.classList.remove('colab-df-spinner');\n",
              "      quickchartButtonEl.classList.add('colab-df-quickchart-complete');\n",
              "    }\n",
              "    (() => {\n",
              "      let quickchartButtonEl =\n",
              "        document.querySelector('#df-e03b5ce5-118d-4248-9165-876421fd9df8 button');\n",
              "      quickchartButtonEl.style.display =\n",
              "        google.colab.kernel.accessAllowed ? 'block' : 'none';\n",
              "    })();\n",
              "  </script>\n",
              "</div>\n",
              "\n",
              "    </div>\n",
              "  </div>\n"
            ],
            "application/vnd.google.colaboratory.intrinsic+json": {
              "type": "dataframe",
              "variable_name": "df_cleaned"
            }
          },
          "metadata": {},
          "execution_count": 12
        }
      ]
    },
    {
      "cell_type": "markdown",
      "source": [
        "By displaying the first few rows of the cleaned dataset, we can verify that the correct columns have been retained and that the data is ready for further analysis."
      ],
      "metadata": {
        "id": "O76Jnq0DPJLL"
      }
    },
    {
      "cell_type": "code",
      "source": [
        "df_cleaned.info()"
      ],
      "metadata": {
        "id": "S9U7hcH9Lu6o",
        "colab": {
          "base_uri": "https://localhost:8080/"
        },
        "outputId": "f865f3ff-892f-4ee6-adbc-12bd7dd0d3c5"
      },
      "execution_count": null,
      "outputs": [
        {
          "output_type": "stream",
          "name": "stdout",
          "text": [
            "<class 'pandas.core.frame.DataFrame'>\n",
            "RangeIndex: 261806 entries, 0 to 261805\n",
            "Data columns (total 7 columns):\n",
            " #   Column           Non-Null Count   Dtype  \n",
            "---  ------           --------------   -----  \n",
            " 0   averagerating    261806 non-null  float64\n",
            " 1   numvotes         261806 non-null  int64  \n",
            " 2   title            261806 non-null  object \n",
            " 3   region           218341 non-null  object \n",
            " 4   start_year       261806 non-null  int64  \n",
            " 5   runtime_minutes  250553 non-null  float64\n",
            " 6   genres           260621 non-null  object \n",
            "dtypes: float64(2), int64(2), object(3)\n",
            "memory usage: 14.0+ MB\n"
          ]
        }
      ]
    },
    {
      "cell_type": "markdown",
      "source": [
        "### Merging Datasets"
      ],
      "metadata": {
        "id": "W7eswH_NoRi8"
      }
    },
    {
      "cell_type": "markdown",
      "source": [
        "In this step, we are merging multiple datasets to create a comprehensive DataFrame for analysis. The merging process involves:\n",
        "\n",
        "1. **Merging `df_budget` with `df_cleaned`:** The `df_budget` dataset is merged with `df_cleaned` on the `title` column to combine budget information with movie details.\n",
        "2. **Merging the result with `df_tmdf`:** The previously merged DataFrame is then merged with `df_tmdf` on the `title` column to include additional movie details from TMDB."
      ],
      "metadata": {
        "id": "wd7sH6q3QBOc"
      }
    },
    {
      "cell_type": "code",
      "source": [
        "#Yusuf Ali\n",
        "# Merging datasets\n",
        "merged_df = df_budget.merge(df_cleaned, left_on='movie', right_on='title', how='left')\n",
        "merged_df = merged_df.merge(df_tmdf, left_on='movie', right_on='title', how='left')\n",
        "merged_df.head()\n"
      ],
      "metadata": {
        "id": "9ryPnbQRRgae",
        "colab": {
          "base_uri": "https://localhost:8080/",
          "height": 568
        },
        "outputId": "29b0ef0d-9b7a-46cd-f760-bd7c225368cd"
      },
      "execution_count": null,
      "outputs": [
        {
          "output_type": "execute_result",
          "data": {
            "text/plain": [
              "   id_x release_date_x                                        movie  \\\n",
              "0     1   Dec 18, 2009                                       Avatar   \n",
              "1     2   May 20, 2011  Pirates of the Caribbean: On Stranger Tides   \n",
              "2     2   May 20, 2011  Pirates of the Caribbean: On Stranger Tides   \n",
              "3     2   May 20, 2011  Pirates of the Caribbean: On Stranger Tides   \n",
              "4     3    Jun 7, 2019                                 Dark Phoenix   \n",
              "\n",
              "  production_budget domestic_gross worldwide_gross  averagerating  numvotes  \\\n",
              "0      $425,000,000   $760,507,625  $2,776,345,279            6.1      43.0   \n",
              "1      $410,600,000   $241,063,875  $1,045,663,875            6.6  447624.0   \n",
              "2      $410,600,000   $241,063,875  $1,045,663,875            6.6  447624.0   \n",
              "3      $410,600,000   $241,063,875  $1,045,663,875            6.6  447624.0   \n",
              "4      $350,000,000    $42,762,350    $149,762,350            6.0   24451.0   \n",
              "\n",
              "                                       title_x region  ...  Unnamed: 0  \\\n",
              "0                                       Avatar    XWW  ...         6.0   \n",
              "1  Pirates of the Caribbean: On Stranger Tides     US  ...      2470.0   \n",
              "2  Pirates of the Caribbean: On Stranger Tides   None  ...      2470.0   \n",
              "3  Pirates of the Caribbean: On Stranger Tides     CA  ...      2470.0   \n",
              "4                                 Dark Phoenix     BD  ...         NaN   \n",
              "\n",
              "           genre_ids     id_y  original_language  \\\n",
              "0  [28, 12, 14, 878]  19995.0                 en   \n",
              "1       [12, 28, 14]   1865.0                 en   \n",
              "2       [12, 28, 14]   1865.0                 en   \n",
              "3       [12, 28, 14]   1865.0                 en   \n",
              "4                NaN      NaN                NaN   \n",
              "\n",
              "                                original_title  popularity release_date_y  \\\n",
              "0                                       Avatar      26.526     2009-12-18   \n",
              "1  Pirates of the Caribbean: On Stranger Tides      30.579     2011-05-20   \n",
              "2  Pirates of the Caribbean: On Stranger Tides      30.579     2011-05-20   \n",
              "3  Pirates of the Caribbean: On Stranger Tides      30.579     2011-05-20   \n",
              "4                                          NaN         NaN            NaN   \n",
              "\n",
              "                                       title_y  vote_average vote_count  \n",
              "0                                       Avatar           7.4    18676.0  \n",
              "1  Pirates of the Caribbean: On Stranger Tides           6.4     8571.0  \n",
              "2  Pirates of the Caribbean: On Stranger Tides           6.4     8571.0  \n",
              "3  Pirates of the Caribbean: On Stranger Tides           6.4     8571.0  \n",
              "4                                          NaN           NaN        NaN  \n",
              "\n",
              "[5 rows x 23 columns]"
            ],
            "text/html": [
              "\n",
              "  <div id=\"df-01cc8292-f4eb-4573-9e68-06a0283e5781\" class=\"colab-df-container\">\n",
              "    <div>\n",
              "<style scoped>\n",
              "    .dataframe tbody tr th:only-of-type {\n",
              "        vertical-align: middle;\n",
              "    }\n",
              "\n",
              "    .dataframe tbody tr th {\n",
              "        vertical-align: top;\n",
              "    }\n",
              "\n",
              "    .dataframe thead th {\n",
              "        text-align: right;\n",
              "    }\n",
              "</style>\n",
              "<table border=\"1\" class=\"dataframe\">\n",
              "  <thead>\n",
              "    <tr style=\"text-align: right;\">\n",
              "      <th></th>\n",
              "      <th>id_x</th>\n",
              "      <th>release_date_x</th>\n",
              "      <th>movie</th>\n",
              "      <th>production_budget</th>\n",
              "      <th>domestic_gross</th>\n",
              "      <th>worldwide_gross</th>\n",
              "      <th>averagerating</th>\n",
              "      <th>numvotes</th>\n",
              "      <th>title_x</th>\n",
              "      <th>region</th>\n",
              "      <th>...</th>\n",
              "      <th>Unnamed: 0</th>\n",
              "      <th>genre_ids</th>\n",
              "      <th>id_y</th>\n",
              "      <th>original_language</th>\n",
              "      <th>original_title</th>\n",
              "      <th>popularity</th>\n",
              "      <th>release_date_y</th>\n",
              "      <th>title_y</th>\n",
              "      <th>vote_average</th>\n",
              "      <th>vote_count</th>\n",
              "    </tr>\n",
              "  </thead>\n",
              "  <tbody>\n",
              "    <tr>\n",
              "      <th>0</th>\n",
              "      <td>1</td>\n",
              "      <td>Dec 18, 2009</td>\n",
              "      <td>Avatar</td>\n",
              "      <td>$425,000,000</td>\n",
              "      <td>$760,507,625</td>\n",
              "      <td>$2,776,345,279</td>\n",
              "      <td>6.1</td>\n",
              "      <td>43.0</td>\n",
              "      <td>Avatar</td>\n",
              "      <td>XWW</td>\n",
              "      <td>...</td>\n",
              "      <td>6.0</td>\n",
              "      <td>[28, 12, 14, 878]</td>\n",
              "      <td>19995.0</td>\n",
              "      <td>en</td>\n",
              "      <td>Avatar</td>\n",
              "      <td>26.526</td>\n",
              "      <td>2009-12-18</td>\n",
              "      <td>Avatar</td>\n",
              "      <td>7.4</td>\n",
              "      <td>18676.0</td>\n",
              "    </tr>\n",
              "    <tr>\n",
              "      <th>1</th>\n",
              "      <td>2</td>\n",
              "      <td>May 20, 2011</td>\n",
              "      <td>Pirates of the Caribbean: On Stranger Tides</td>\n",
              "      <td>$410,600,000</td>\n",
              "      <td>$241,063,875</td>\n",
              "      <td>$1,045,663,875</td>\n",
              "      <td>6.6</td>\n",
              "      <td>447624.0</td>\n",
              "      <td>Pirates of the Caribbean: On Stranger Tides</td>\n",
              "      <td>US</td>\n",
              "      <td>...</td>\n",
              "      <td>2470.0</td>\n",
              "      <td>[12, 28, 14]</td>\n",
              "      <td>1865.0</td>\n",
              "      <td>en</td>\n",
              "      <td>Pirates of the Caribbean: On Stranger Tides</td>\n",
              "      <td>30.579</td>\n",
              "      <td>2011-05-20</td>\n",
              "      <td>Pirates of the Caribbean: On Stranger Tides</td>\n",
              "      <td>6.4</td>\n",
              "      <td>8571.0</td>\n",
              "    </tr>\n",
              "    <tr>\n",
              "      <th>2</th>\n",
              "      <td>2</td>\n",
              "      <td>May 20, 2011</td>\n",
              "      <td>Pirates of the Caribbean: On Stranger Tides</td>\n",
              "      <td>$410,600,000</td>\n",
              "      <td>$241,063,875</td>\n",
              "      <td>$1,045,663,875</td>\n",
              "      <td>6.6</td>\n",
              "      <td>447624.0</td>\n",
              "      <td>Pirates of the Caribbean: On Stranger Tides</td>\n",
              "      <td>None</td>\n",
              "      <td>...</td>\n",
              "      <td>2470.0</td>\n",
              "      <td>[12, 28, 14]</td>\n",
              "      <td>1865.0</td>\n",
              "      <td>en</td>\n",
              "      <td>Pirates of the Caribbean: On Stranger Tides</td>\n",
              "      <td>30.579</td>\n",
              "      <td>2011-05-20</td>\n",
              "      <td>Pirates of the Caribbean: On Stranger Tides</td>\n",
              "      <td>6.4</td>\n",
              "      <td>8571.0</td>\n",
              "    </tr>\n",
              "    <tr>\n",
              "      <th>3</th>\n",
              "      <td>2</td>\n",
              "      <td>May 20, 2011</td>\n",
              "      <td>Pirates of the Caribbean: On Stranger Tides</td>\n",
              "      <td>$410,600,000</td>\n",
              "      <td>$241,063,875</td>\n",
              "      <td>$1,045,663,875</td>\n",
              "      <td>6.6</td>\n",
              "      <td>447624.0</td>\n",
              "      <td>Pirates of the Caribbean: On Stranger Tides</td>\n",
              "      <td>CA</td>\n",
              "      <td>...</td>\n",
              "      <td>2470.0</td>\n",
              "      <td>[12, 28, 14]</td>\n",
              "      <td>1865.0</td>\n",
              "      <td>en</td>\n",
              "      <td>Pirates of the Caribbean: On Stranger Tides</td>\n",
              "      <td>30.579</td>\n",
              "      <td>2011-05-20</td>\n",
              "      <td>Pirates of the Caribbean: On Stranger Tides</td>\n",
              "      <td>6.4</td>\n",
              "      <td>8571.0</td>\n",
              "    </tr>\n",
              "    <tr>\n",
              "      <th>4</th>\n",
              "      <td>3</td>\n",
              "      <td>Jun 7, 2019</td>\n",
              "      <td>Dark Phoenix</td>\n",
              "      <td>$350,000,000</td>\n",
              "      <td>$42,762,350</td>\n",
              "      <td>$149,762,350</td>\n",
              "      <td>6.0</td>\n",
              "      <td>24451.0</td>\n",
              "      <td>Dark Phoenix</td>\n",
              "      <td>BD</td>\n",
              "      <td>...</td>\n",
              "      <td>NaN</td>\n",
              "      <td>NaN</td>\n",
              "      <td>NaN</td>\n",
              "      <td>NaN</td>\n",
              "      <td>NaN</td>\n",
              "      <td>NaN</td>\n",
              "      <td>NaN</td>\n",
              "      <td>NaN</td>\n",
              "      <td>NaN</td>\n",
              "      <td>NaN</td>\n",
              "    </tr>\n",
              "  </tbody>\n",
              "</table>\n",
              "<p>5 rows × 23 columns</p>\n",
              "</div>\n",
              "    <div class=\"colab-df-buttons\">\n",
              "\n",
              "  <div class=\"colab-df-container\">\n",
              "    <button class=\"colab-df-convert\" onclick=\"convertToInteractive('df-01cc8292-f4eb-4573-9e68-06a0283e5781')\"\n",
              "            title=\"Convert this dataframe to an interactive table.\"\n",
              "            style=\"display:none;\">\n",
              "\n",
              "  <svg xmlns=\"http://www.w3.org/2000/svg\" height=\"24px\" viewBox=\"0 -960 960 960\">\n",
              "    <path d=\"M120-120v-720h720v720H120Zm60-500h600v-160H180v160Zm220 220h160v-160H400v160Zm0 220h160v-160H400v160ZM180-400h160v-160H180v160Zm440 0h160v-160H620v160ZM180-180h160v-160H180v160Zm440 0h160v-160H620v160Z\"/>\n",
              "  </svg>\n",
              "    </button>\n",
              "\n",
              "  <style>\n",
              "    .colab-df-container {\n",
              "      display:flex;\n",
              "      gap: 12px;\n",
              "    }\n",
              "\n",
              "    .colab-df-convert {\n",
              "      background-color: #E8F0FE;\n",
              "      border: none;\n",
              "      border-radius: 50%;\n",
              "      cursor: pointer;\n",
              "      display: none;\n",
              "      fill: #1967D2;\n",
              "      height: 32px;\n",
              "      padding: 0 0 0 0;\n",
              "      width: 32px;\n",
              "    }\n",
              "\n",
              "    .colab-df-convert:hover {\n",
              "      background-color: #E2EBFA;\n",
              "      box-shadow: 0px 1px 2px rgba(60, 64, 67, 0.3), 0px 1px 3px 1px rgba(60, 64, 67, 0.15);\n",
              "      fill: #174EA6;\n",
              "    }\n",
              "\n",
              "    .colab-df-buttons div {\n",
              "      margin-bottom: 4px;\n",
              "    }\n",
              "\n",
              "    [theme=dark] .colab-df-convert {\n",
              "      background-color: #3B4455;\n",
              "      fill: #D2E3FC;\n",
              "    }\n",
              "\n",
              "    [theme=dark] .colab-df-convert:hover {\n",
              "      background-color: #434B5C;\n",
              "      box-shadow: 0px 1px 3px 1px rgba(0, 0, 0, 0.15);\n",
              "      filter: drop-shadow(0px 1px 2px rgba(0, 0, 0, 0.3));\n",
              "      fill: #FFFFFF;\n",
              "    }\n",
              "  </style>\n",
              "\n",
              "    <script>\n",
              "      const buttonEl =\n",
              "        document.querySelector('#df-01cc8292-f4eb-4573-9e68-06a0283e5781 button.colab-df-convert');\n",
              "      buttonEl.style.display =\n",
              "        google.colab.kernel.accessAllowed ? 'block' : 'none';\n",
              "\n",
              "      async function convertToInteractive(key) {\n",
              "        const element = document.querySelector('#df-01cc8292-f4eb-4573-9e68-06a0283e5781');\n",
              "        const dataTable =\n",
              "          await google.colab.kernel.invokeFunction('convertToInteractive',\n",
              "                                                    [key], {});\n",
              "        if (!dataTable) return;\n",
              "\n",
              "        const docLinkHtml = 'Like what you see? Visit the ' +\n",
              "          '<a target=\"_blank\" href=https://colab.research.google.com/notebooks/data_table.ipynb>data table notebook</a>'\n",
              "          + ' to learn more about interactive tables.';\n",
              "        element.innerHTML = '';\n",
              "        dataTable['output_type'] = 'display_data';\n",
              "        await google.colab.output.renderOutput(dataTable, element);\n",
              "        const docLink = document.createElement('div');\n",
              "        docLink.innerHTML = docLinkHtml;\n",
              "        element.appendChild(docLink);\n",
              "      }\n",
              "    </script>\n",
              "  </div>\n",
              "\n",
              "\n",
              "<div id=\"df-66dc929f-8311-480d-8f2e-65395f54763c\">\n",
              "  <button class=\"colab-df-quickchart\" onclick=\"quickchart('df-66dc929f-8311-480d-8f2e-65395f54763c')\"\n",
              "            title=\"Suggest charts\"\n",
              "            style=\"display:none;\">\n",
              "\n",
              "<svg xmlns=\"http://www.w3.org/2000/svg\" height=\"24px\"viewBox=\"0 0 24 24\"\n",
              "     width=\"24px\">\n",
              "    <g>\n",
              "        <path d=\"M19 3H5c-1.1 0-2 .9-2 2v14c0 1.1.9 2 2 2h14c1.1 0 2-.9 2-2V5c0-1.1-.9-2-2-2zM9 17H7v-7h2v7zm4 0h-2V7h2v10zm4 0h-2v-4h2v4z\"/>\n",
              "    </g>\n",
              "</svg>\n",
              "  </button>\n",
              "\n",
              "<style>\n",
              "  .colab-df-quickchart {\n",
              "      --bg-color: #E8F0FE;\n",
              "      --fill-color: #1967D2;\n",
              "      --hover-bg-color: #E2EBFA;\n",
              "      --hover-fill-color: #174EA6;\n",
              "      --disabled-fill-color: #AAA;\n",
              "      --disabled-bg-color: #DDD;\n",
              "  }\n",
              "\n",
              "  [theme=dark] .colab-df-quickchart {\n",
              "      --bg-color: #3B4455;\n",
              "      --fill-color: #D2E3FC;\n",
              "      --hover-bg-color: #434B5C;\n",
              "      --hover-fill-color: #FFFFFF;\n",
              "      --disabled-bg-color: #3B4455;\n",
              "      --disabled-fill-color: #666;\n",
              "  }\n",
              "\n",
              "  .colab-df-quickchart {\n",
              "    background-color: var(--bg-color);\n",
              "    border: none;\n",
              "    border-radius: 50%;\n",
              "    cursor: pointer;\n",
              "    display: none;\n",
              "    fill: var(--fill-color);\n",
              "    height: 32px;\n",
              "    padding: 0;\n",
              "    width: 32px;\n",
              "  }\n",
              "\n",
              "  .colab-df-quickchart:hover {\n",
              "    background-color: var(--hover-bg-color);\n",
              "    box-shadow: 0 1px 2px rgba(60, 64, 67, 0.3), 0 1px 3px 1px rgba(60, 64, 67, 0.15);\n",
              "    fill: var(--button-hover-fill-color);\n",
              "  }\n",
              "\n",
              "  .colab-df-quickchart-complete:disabled,\n",
              "  .colab-df-quickchart-complete:disabled:hover {\n",
              "    background-color: var(--disabled-bg-color);\n",
              "    fill: var(--disabled-fill-color);\n",
              "    box-shadow: none;\n",
              "  }\n",
              "\n",
              "  .colab-df-spinner {\n",
              "    border: 2px solid var(--fill-color);\n",
              "    border-color: transparent;\n",
              "    border-bottom-color: var(--fill-color);\n",
              "    animation:\n",
              "      spin 1s steps(1) infinite;\n",
              "  }\n",
              "\n",
              "  @keyframes spin {\n",
              "    0% {\n",
              "      border-color: transparent;\n",
              "      border-bottom-color: var(--fill-color);\n",
              "      border-left-color: var(--fill-color);\n",
              "    }\n",
              "    20% {\n",
              "      border-color: transparent;\n",
              "      border-left-color: var(--fill-color);\n",
              "      border-top-color: var(--fill-color);\n",
              "    }\n",
              "    30% {\n",
              "      border-color: transparent;\n",
              "      border-left-color: var(--fill-color);\n",
              "      border-top-color: var(--fill-color);\n",
              "      border-right-color: var(--fill-color);\n",
              "    }\n",
              "    40% {\n",
              "      border-color: transparent;\n",
              "      border-right-color: var(--fill-color);\n",
              "      border-top-color: var(--fill-color);\n",
              "    }\n",
              "    60% {\n",
              "      border-color: transparent;\n",
              "      border-right-color: var(--fill-color);\n",
              "    }\n",
              "    80% {\n",
              "      border-color: transparent;\n",
              "      border-right-color: var(--fill-color);\n",
              "      border-bottom-color: var(--fill-color);\n",
              "    }\n",
              "    90% {\n",
              "      border-color: transparent;\n",
              "      border-bottom-color: var(--fill-color);\n",
              "    }\n",
              "  }\n",
              "</style>\n",
              "\n",
              "  <script>\n",
              "    async function quickchart(key) {\n",
              "      const quickchartButtonEl =\n",
              "        document.querySelector('#' + key + ' button');\n",
              "      quickchartButtonEl.disabled = true;  // To prevent multiple clicks.\n",
              "      quickchartButtonEl.classList.add('colab-df-spinner');\n",
              "      try {\n",
              "        const charts = await google.colab.kernel.invokeFunction(\n",
              "            'suggestCharts', [key], {});\n",
              "      } catch (error) {\n",
              "        console.error('Error during call to suggestCharts:', error);\n",
              "      }\n",
              "      quickchartButtonEl.classList.remove('colab-df-spinner');\n",
              "      quickchartButtonEl.classList.add('colab-df-quickchart-complete');\n",
              "    }\n",
              "    (() => {\n",
              "      let quickchartButtonEl =\n",
              "        document.querySelector('#df-66dc929f-8311-480d-8f2e-65395f54763c button');\n",
              "      quickchartButtonEl.style.display =\n",
              "        google.colab.kernel.accessAllowed ? 'block' : 'none';\n",
              "    })();\n",
              "  </script>\n",
              "</div>\n",
              "\n",
              "    </div>\n",
              "  </div>\n"
            ],
            "application/vnd.google.colaboratory.intrinsic+json": {
              "type": "dataframe",
              "variable_name": "merged_df"
            }
          },
          "metadata": {},
          "execution_count": 14
        }
      ]
    },
    {
      "cell_type": "markdown",
      "source": [
        "We are now examining the dimensions of the merged dataset by checking the number of rows and columns. This step provides an overview of the dataset's size before we proceed with any data cleaning or preprocessing. By understanding the dataset's shape, we can better plan the necessary cleaning steps and transformations."
      ],
      "metadata": {
        "id": "dbk7iwo1QgV4"
      }
    },
    {
      "cell_type": "code",
      "source": [
        "#Finding out how many rows and columns there are in the final dataset before cleaning\n",
        "merged_df.shape\n",
        "print(\"Number of rows: \", merged_df.shape[0])\n",
        "print(\"Number of Columns: \", merged_df.shape[1])"
      ],
      "metadata": {
        "id": "ODYRoNwlgvd_",
        "colab": {
          "base_uri": "https://localhost:8080/"
        },
        "outputId": "27edd493-277c-4691-f8f8-08ec2a8dfff8"
      },
      "execution_count": null,
      "outputs": [
        {
          "output_type": "stream",
          "name": "stdout",
          "text": [
            "Number of rows:  16096\n",
            "Number of Columns:  23\n"
          ]
        }
      ]
    },
    {
      "cell_type": "code",
      "source": [],
      "metadata": {
        "id": "eLgk0cMzg6Cr"
      },
      "execution_count": null,
      "outputs": []
    },
    {
      "cell_type": "markdown",
      "source": [
        "# Data Cleaning"
      ],
      "metadata": {
        "id": "0iV0spFcubBM"
      }
    },
    {
      "cell_type": "markdown",
      "source": [
        "Data cleaning is a crucial step in the data analysis process, aimed at ensuring that the dataset is accurate, consistent, and usable. It involves identifying and addressing issues such as missing values, duplicate entries, incorrect data types, and inconsistencies. Proper data cleaning enhances the quality of the data and ensures that the subsequent analysis is reliable and meaningful."
      ],
      "metadata": {
        "id": "Z-dCb31LQ-Gw"
      }
    },
    {
      "cell_type": "markdown",
      "source": [
        "### Dropping Columns"
      ],
      "metadata": {
        "id": "NNHP1VOioMTk"
      }
    },
    {
      "cell_type": "markdown",
      "source": [
        "In this step, we are refining the merged dataset by performing two key tasks:\n",
        "\n",
        "1. **Dropping Unnecessary Columns:** We remove columns that are not relevant to our analysis or contain redundant information.\n",
        "\n",
        "2. **Renaming Columns:** We rename certain columns to make them more descriptive and easier to interpret."
      ],
      "metadata": {
        "id": "3Oq9H7k4RTbr"
      }
    },
    {
      "cell_type": "code",
      "source": [
        "# Drop unnecessary columns\n",
        "columns_to_drop = [\n",
        "    'Unnamed: 0', 'title_x', 'title_y', 'id_y', 'id_x',\n",
        "    'original_title', 'genre_ids', 'start_year',\n",
        "    'vote_count', 'vote_average', 'release_date_y'\n",
        "]\n",
        "merged_df = merged_df.drop(columns=columns_to_drop)\n",
        "\n",
        "# Rename columns to be more descriptive\n",
        "merged_df = merged_df.rename(columns={\n",
        "    'movie': 'title',  # Assuming 'movie' is the main title column\n",
        "    'release_date_x': 'budget_release_date',\n",
        "    'production_budget': 'budget',\n",
        "    'domestic_gross': 'domestic_gross',\n",
        "    'worldwide_gross': 'worldwide_gross',\n",
        "    'averagerating': 'average_rating',\n",
        "    'numvotes': 'num_votes',\n",
        "    'region': 'region',\n",
        "    'language': 'language',\n",
        "    'runtime_minutes': 'runtime_minutes',\n",
        "    'genres': 'genres',\n",
        "    'original_language': 'original_language',\n",
        "    'popularity': 'popularity'\n",
        "})\n",
        "\n"
      ],
      "metadata": {
        "id": "SvHcHrdgSD16"
      },
      "execution_count": null,
      "outputs": []
    },
    {
      "cell_type": "markdown",
      "source": [
        "The above columns were dropped since they contain infromation that is irrelevant, redundant or unnecessary not needed in the analysis process"
      ],
      "metadata": {
        "id": "CIlbtujqghht"
      }
    },
    {
      "cell_type": "markdown",
      "source": [
        "### Handeling Duplicates"
      ],
      "metadata": {
        "id": "7Ka96aTeofAP"
      }
    },
    {
      "cell_type": "markdown",
      "source": [
        "We now address duplicate entries in the dataset to ensure each movie is represented only once. We perform the following actions:\n",
        "\n",
        "1. **Priority Assignment:** A temporary column `'priority'` is created to assign a priority value based on the `'region'` column. Movies from the 'US' region are given a lower priority (0), while others are assigned a higher priority (1).\n",
        "\n",
        "2. **Dropping Duplicates:** We then drop duplicate rows based on the `'title'` column, keeping only the first occurrence of each title.\n"
      ],
      "metadata": {
        "id": "PLC0mkvAR_DM"
      }
    },
    {
      "cell_type": "code",
      "source": [
        "# Remove any duplicate rows\n",
        "merged_df['priority'] = merged_df['region'].apply(lambda x: 0 if x == 'US' else 1)\n",
        "merged_df = merged_df.drop(columns='priority')\n",
        "\n",
        "# Drop duplicates based on the 'title' column, keeping the first occurrence\n",
        "merged_df = merged_df.drop_duplicates(subset='title', keep='first')"
      ],
      "metadata": {
        "id": "2ydE1g5tZFzt"
      },
      "execution_count": null,
      "outputs": []
    },
    {
      "cell_type": "code",
      "source": [
        "merged_df.head()"
      ],
      "metadata": {
        "id": "kt8Fi0olgRDm",
        "colab": {
          "base_uri": "https://localhost:8080/",
          "height": 417
        },
        "outputId": "3d8d91ef-a4a5-4c7e-a428-6e5ef5a99102"
      },
      "execution_count": null,
      "outputs": [
        {
          "output_type": "execute_result",
          "data": {
            "text/plain": [
              "   budget_release_date                                        title  \\\n",
              "0         Dec 18, 2009                                       Avatar   \n",
              "1         May 20, 2011  Pirates of the Caribbean: On Stranger Tides   \n",
              "4          Jun 7, 2019                                 Dark Phoenix   \n",
              "8          May 1, 2015                      Avengers: Age of Ultron   \n",
              "13        Dec 15, 2017            Star Wars Ep. VIII: The Last Jedi   \n",
              "\n",
              "          budget domestic_gross worldwide_gross  average_rating  num_votes  \\\n",
              "0   $425,000,000   $760,507,625  $2,776,345,279             6.1       43.0   \n",
              "1   $410,600,000   $241,063,875  $1,045,663,875             6.6   447624.0   \n",
              "4   $350,000,000    $42,762,350    $149,762,350             6.0    24451.0   \n",
              "8   $330,600,000   $459,005,868  $1,403,013,963             7.3   665594.0   \n",
              "13  $317,000,000   $620,181,382  $1,316,721,747             NaN        NaN   \n",
              "\n",
              "   region  runtime_minutes                    genres original_language  \\\n",
              "0     XWW             93.0                    Horror                en   \n",
              "1      US            136.0  Action,Adventure,Fantasy                en   \n",
              "4      BD            113.0   Action,Adventure,Sci-Fi               NaN   \n",
              "8      IT            141.0   Action,Adventure,Sci-Fi                en   \n",
              "13    NaN              NaN                       NaN               NaN   \n",
              "\n",
              "    popularity  \n",
              "0       26.526  \n",
              "1       30.579  \n",
              "4          NaN  \n",
              "8       44.383  \n",
              "13         NaN  "
            ],
            "text/html": [
              "\n",
              "  <div id=\"df-321541dc-0851-4b81-8d5d-06851404634d\" class=\"colab-df-container\">\n",
              "    <div>\n",
              "<style scoped>\n",
              "    .dataframe tbody tr th:only-of-type {\n",
              "        vertical-align: middle;\n",
              "    }\n",
              "\n",
              "    .dataframe tbody tr th {\n",
              "        vertical-align: top;\n",
              "    }\n",
              "\n",
              "    .dataframe thead th {\n",
              "        text-align: right;\n",
              "    }\n",
              "</style>\n",
              "<table border=\"1\" class=\"dataframe\">\n",
              "  <thead>\n",
              "    <tr style=\"text-align: right;\">\n",
              "      <th></th>\n",
              "      <th>budget_release_date</th>\n",
              "      <th>title</th>\n",
              "      <th>budget</th>\n",
              "      <th>domestic_gross</th>\n",
              "      <th>worldwide_gross</th>\n",
              "      <th>average_rating</th>\n",
              "      <th>num_votes</th>\n",
              "      <th>region</th>\n",
              "      <th>runtime_minutes</th>\n",
              "      <th>genres</th>\n",
              "      <th>original_language</th>\n",
              "      <th>popularity</th>\n",
              "    </tr>\n",
              "  </thead>\n",
              "  <tbody>\n",
              "    <tr>\n",
              "      <th>0</th>\n",
              "      <td>Dec 18, 2009</td>\n",
              "      <td>Avatar</td>\n",
              "      <td>$425,000,000</td>\n",
              "      <td>$760,507,625</td>\n",
              "      <td>$2,776,345,279</td>\n",
              "      <td>6.1</td>\n",
              "      <td>43.0</td>\n",
              "      <td>XWW</td>\n",
              "      <td>93.0</td>\n",
              "      <td>Horror</td>\n",
              "      <td>en</td>\n",
              "      <td>26.526</td>\n",
              "    </tr>\n",
              "    <tr>\n",
              "      <th>1</th>\n",
              "      <td>May 20, 2011</td>\n",
              "      <td>Pirates of the Caribbean: On Stranger Tides</td>\n",
              "      <td>$410,600,000</td>\n",
              "      <td>$241,063,875</td>\n",
              "      <td>$1,045,663,875</td>\n",
              "      <td>6.6</td>\n",
              "      <td>447624.0</td>\n",
              "      <td>US</td>\n",
              "      <td>136.0</td>\n",
              "      <td>Action,Adventure,Fantasy</td>\n",
              "      <td>en</td>\n",
              "      <td>30.579</td>\n",
              "    </tr>\n",
              "    <tr>\n",
              "      <th>4</th>\n",
              "      <td>Jun 7, 2019</td>\n",
              "      <td>Dark Phoenix</td>\n",
              "      <td>$350,000,000</td>\n",
              "      <td>$42,762,350</td>\n",
              "      <td>$149,762,350</td>\n",
              "      <td>6.0</td>\n",
              "      <td>24451.0</td>\n",
              "      <td>BD</td>\n",
              "      <td>113.0</td>\n",
              "      <td>Action,Adventure,Sci-Fi</td>\n",
              "      <td>NaN</td>\n",
              "      <td>NaN</td>\n",
              "    </tr>\n",
              "    <tr>\n",
              "      <th>8</th>\n",
              "      <td>May 1, 2015</td>\n",
              "      <td>Avengers: Age of Ultron</td>\n",
              "      <td>$330,600,000</td>\n",
              "      <td>$459,005,868</td>\n",
              "      <td>$1,403,013,963</td>\n",
              "      <td>7.3</td>\n",
              "      <td>665594.0</td>\n",
              "      <td>IT</td>\n",
              "      <td>141.0</td>\n",
              "      <td>Action,Adventure,Sci-Fi</td>\n",
              "      <td>en</td>\n",
              "      <td>44.383</td>\n",
              "    </tr>\n",
              "    <tr>\n",
              "      <th>13</th>\n",
              "      <td>Dec 15, 2017</td>\n",
              "      <td>Star Wars Ep. VIII: The Last Jedi</td>\n",
              "      <td>$317,000,000</td>\n",
              "      <td>$620,181,382</td>\n",
              "      <td>$1,316,721,747</td>\n",
              "      <td>NaN</td>\n",
              "      <td>NaN</td>\n",
              "      <td>NaN</td>\n",
              "      <td>NaN</td>\n",
              "      <td>NaN</td>\n",
              "      <td>NaN</td>\n",
              "      <td>NaN</td>\n",
              "    </tr>\n",
              "  </tbody>\n",
              "</table>\n",
              "</div>\n",
              "    <div class=\"colab-df-buttons\">\n",
              "\n",
              "  <div class=\"colab-df-container\">\n",
              "    <button class=\"colab-df-convert\" onclick=\"convertToInteractive('df-321541dc-0851-4b81-8d5d-06851404634d')\"\n",
              "            title=\"Convert this dataframe to an interactive table.\"\n",
              "            style=\"display:none;\">\n",
              "\n",
              "  <svg xmlns=\"http://www.w3.org/2000/svg\" height=\"24px\" viewBox=\"0 -960 960 960\">\n",
              "    <path d=\"M120-120v-720h720v720H120Zm60-500h600v-160H180v160Zm220 220h160v-160H400v160Zm0 220h160v-160H400v160ZM180-400h160v-160H180v160Zm440 0h160v-160H620v160ZM180-180h160v-160H180v160Zm440 0h160v-160H620v160Z\"/>\n",
              "  </svg>\n",
              "    </button>\n",
              "\n",
              "  <style>\n",
              "    .colab-df-container {\n",
              "      display:flex;\n",
              "      gap: 12px;\n",
              "    }\n",
              "\n",
              "    .colab-df-convert {\n",
              "      background-color: #E8F0FE;\n",
              "      border: none;\n",
              "      border-radius: 50%;\n",
              "      cursor: pointer;\n",
              "      display: none;\n",
              "      fill: #1967D2;\n",
              "      height: 32px;\n",
              "      padding: 0 0 0 0;\n",
              "      width: 32px;\n",
              "    }\n",
              "\n",
              "    .colab-df-convert:hover {\n",
              "      background-color: #E2EBFA;\n",
              "      box-shadow: 0px 1px 2px rgba(60, 64, 67, 0.3), 0px 1px 3px 1px rgba(60, 64, 67, 0.15);\n",
              "      fill: #174EA6;\n",
              "    }\n",
              "\n",
              "    .colab-df-buttons div {\n",
              "      margin-bottom: 4px;\n",
              "    }\n",
              "\n",
              "    [theme=dark] .colab-df-convert {\n",
              "      background-color: #3B4455;\n",
              "      fill: #D2E3FC;\n",
              "    }\n",
              "\n",
              "    [theme=dark] .colab-df-convert:hover {\n",
              "      background-color: #434B5C;\n",
              "      box-shadow: 0px 1px 3px 1px rgba(0, 0, 0, 0.15);\n",
              "      filter: drop-shadow(0px 1px 2px rgba(0, 0, 0, 0.3));\n",
              "      fill: #FFFFFF;\n",
              "    }\n",
              "  </style>\n",
              "\n",
              "    <script>\n",
              "      const buttonEl =\n",
              "        document.querySelector('#df-321541dc-0851-4b81-8d5d-06851404634d button.colab-df-convert');\n",
              "      buttonEl.style.display =\n",
              "        google.colab.kernel.accessAllowed ? 'block' : 'none';\n",
              "\n",
              "      async function convertToInteractive(key) {\n",
              "        const element = document.querySelector('#df-321541dc-0851-4b81-8d5d-06851404634d');\n",
              "        const dataTable =\n",
              "          await google.colab.kernel.invokeFunction('convertToInteractive',\n",
              "                                                    [key], {});\n",
              "        if (!dataTable) return;\n",
              "\n",
              "        const docLinkHtml = 'Like what you see? Visit the ' +\n",
              "          '<a target=\"_blank\" href=https://colab.research.google.com/notebooks/data_table.ipynb>data table notebook</a>'\n",
              "          + ' to learn more about interactive tables.';\n",
              "        element.innerHTML = '';\n",
              "        dataTable['output_type'] = 'display_data';\n",
              "        await google.colab.output.renderOutput(dataTable, element);\n",
              "        const docLink = document.createElement('div');\n",
              "        docLink.innerHTML = docLinkHtml;\n",
              "        element.appendChild(docLink);\n",
              "      }\n",
              "    </script>\n",
              "  </div>\n",
              "\n",
              "\n",
              "<div id=\"df-e85e3691-a763-4f59-ab8b-f684cb03c72e\">\n",
              "  <button class=\"colab-df-quickchart\" onclick=\"quickchart('df-e85e3691-a763-4f59-ab8b-f684cb03c72e')\"\n",
              "            title=\"Suggest charts\"\n",
              "            style=\"display:none;\">\n",
              "\n",
              "<svg xmlns=\"http://www.w3.org/2000/svg\" height=\"24px\"viewBox=\"0 0 24 24\"\n",
              "     width=\"24px\">\n",
              "    <g>\n",
              "        <path d=\"M19 3H5c-1.1 0-2 .9-2 2v14c0 1.1.9 2 2 2h14c1.1 0 2-.9 2-2V5c0-1.1-.9-2-2-2zM9 17H7v-7h2v7zm4 0h-2V7h2v10zm4 0h-2v-4h2v4z\"/>\n",
              "    </g>\n",
              "</svg>\n",
              "  </button>\n",
              "\n",
              "<style>\n",
              "  .colab-df-quickchart {\n",
              "      --bg-color: #E8F0FE;\n",
              "      --fill-color: #1967D2;\n",
              "      --hover-bg-color: #E2EBFA;\n",
              "      --hover-fill-color: #174EA6;\n",
              "      --disabled-fill-color: #AAA;\n",
              "      --disabled-bg-color: #DDD;\n",
              "  }\n",
              "\n",
              "  [theme=dark] .colab-df-quickchart {\n",
              "      --bg-color: #3B4455;\n",
              "      --fill-color: #D2E3FC;\n",
              "      --hover-bg-color: #434B5C;\n",
              "      --hover-fill-color: #FFFFFF;\n",
              "      --disabled-bg-color: #3B4455;\n",
              "      --disabled-fill-color: #666;\n",
              "  }\n",
              "\n",
              "  .colab-df-quickchart {\n",
              "    background-color: var(--bg-color);\n",
              "    border: none;\n",
              "    border-radius: 50%;\n",
              "    cursor: pointer;\n",
              "    display: none;\n",
              "    fill: var(--fill-color);\n",
              "    height: 32px;\n",
              "    padding: 0;\n",
              "    width: 32px;\n",
              "  }\n",
              "\n",
              "  .colab-df-quickchart:hover {\n",
              "    background-color: var(--hover-bg-color);\n",
              "    box-shadow: 0 1px 2px rgba(60, 64, 67, 0.3), 0 1px 3px 1px rgba(60, 64, 67, 0.15);\n",
              "    fill: var(--button-hover-fill-color);\n",
              "  }\n",
              "\n",
              "  .colab-df-quickchart-complete:disabled,\n",
              "  .colab-df-quickchart-complete:disabled:hover {\n",
              "    background-color: var(--disabled-bg-color);\n",
              "    fill: var(--disabled-fill-color);\n",
              "    box-shadow: none;\n",
              "  }\n",
              "\n",
              "  .colab-df-spinner {\n",
              "    border: 2px solid var(--fill-color);\n",
              "    border-color: transparent;\n",
              "    border-bottom-color: var(--fill-color);\n",
              "    animation:\n",
              "      spin 1s steps(1) infinite;\n",
              "  }\n",
              "\n",
              "  @keyframes spin {\n",
              "    0% {\n",
              "      border-color: transparent;\n",
              "      border-bottom-color: var(--fill-color);\n",
              "      border-left-color: var(--fill-color);\n",
              "    }\n",
              "    20% {\n",
              "      border-color: transparent;\n",
              "      border-left-color: var(--fill-color);\n",
              "      border-top-color: var(--fill-color);\n",
              "    }\n",
              "    30% {\n",
              "      border-color: transparent;\n",
              "      border-left-color: var(--fill-color);\n",
              "      border-top-color: var(--fill-color);\n",
              "      border-right-color: var(--fill-color);\n",
              "    }\n",
              "    40% {\n",
              "      border-color: transparent;\n",
              "      border-right-color: var(--fill-color);\n",
              "      border-top-color: var(--fill-color);\n",
              "    }\n",
              "    60% {\n",
              "      border-color: transparent;\n",
              "      border-right-color: var(--fill-color);\n",
              "    }\n",
              "    80% {\n",
              "      border-color: transparent;\n",
              "      border-right-color: var(--fill-color);\n",
              "      border-bottom-color: var(--fill-color);\n",
              "    }\n",
              "    90% {\n",
              "      border-color: transparent;\n",
              "      border-bottom-color: var(--fill-color);\n",
              "    }\n",
              "  }\n",
              "</style>\n",
              "\n",
              "  <script>\n",
              "    async function quickchart(key) {\n",
              "      const quickchartButtonEl =\n",
              "        document.querySelector('#' + key + ' button');\n",
              "      quickchartButtonEl.disabled = true;  // To prevent multiple clicks.\n",
              "      quickchartButtonEl.classList.add('colab-df-spinner');\n",
              "      try {\n",
              "        const charts = await google.colab.kernel.invokeFunction(\n",
              "            'suggestCharts', [key], {});\n",
              "      } catch (error) {\n",
              "        console.error('Error during call to suggestCharts:', error);\n",
              "      }\n",
              "      quickchartButtonEl.classList.remove('colab-df-spinner');\n",
              "      quickchartButtonEl.classList.add('colab-df-quickchart-complete');\n",
              "    }\n",
              "    (() => {\n",
              "      let quickchartButtonEl =\n",
              "        document.querySelector('#df-e85e3691-a763-4f59-ab8b-f684cb03c72e button');\n",
              "      quickchartButtonEl.style.display =\n",
              "        google.colab.kernel.accessAllowed ? 'block' : 'none';\n",
              "    })();\n",
              "  </script>\n",
              "</div>\n",
              "\n",
              "    </div>\n",
              "  </div>\n"
            ],
            "application/vnd.google.colaboratory.intrinsic+json": {
              "type": "dataframe",
              "variable_name": "merged_df",
              "summary": "{\n  \"name\": \"merged_df\",\n  \"rows\": 5698,\n  \"fields\": [\n    {\n      \"column\": \"budget_release_date\",\n      \"properties\": {\n        \"dtype\": \"object\",\n        \"num_unique_values\": 2373,\n        \"samples\": [\n          \"Feb 1, 2013\",\n          \"Jan 12, 1996\",\n          \"Nov 22, 2017\"\n        ],\n        \"semantic_type\": \"\",\n        \"description\": \"\"\n      }\n    },\n    {\n      \"column\": \"title\",\n      \"properties\": {\n        \"dtype\": \"string\",\n        \"num_unique_values\": 5698,\n        \"samples\": [\n          \"Medicine Man\",\n          \"The Sum of All Fears\",\n          \"A Christmas Story\"\n        ],\n        \"semantic_type\": \"\",\n        \"description\": \"\"\n      }\n    },\n    {\n      \"column\": \"budget\",\n      \"properties\": {\n        \"dtype\": \"category\",\n        \"num_unique_values\": 500,\n        \"samples\": [\n          \"$2,540,000\",\n          \"$103,300,000\",\n          \"$2,000,000\"\n        ],\n        \"semantic_type\": \"\",\n        \"description\": \"\"\n      }\n    },\n    {\n      \"column\": \"domestic_gross\",\n      \"properties\": {\n        \"dtype\": \"string\",\n        \"num_unique_values\": 5094,\n        \"samples\": [\n          \"$56,679,192\",\n          \"$7,582,065\",\n          \"$90,380,162\"\n        ],\n        \"semantic_type\": \"\",\n        \"description\": \"\"\n      }\n    },\n    {\n      \"column\": \"worldwide_gross\",\n      \"properties\": {\n        \"dtype\": \"string\",\n        \"num_unique_values\": 5285,\n        \"samples\": [\n          \"$22,281,732\",\n          \"$1,553,556\",\n          \"$286,192,091\"\n        ],\n        \"semantic_type\": \"\",\n        \"description\": \"\"\n      }\n    },\n    {\n      \"column\": \"average_rating\",\n      \"properties\": {\n        \"dtype\": \"number\",\n        \"std\": 1.1520639225681186,\n        \"min\": 1.6,\n        \"max\": 9.2,\n        \"num_unique_values\": 73,\n        \"samples\": [\n          8.5,\n          2.1,\n          5.7\n        ],\n        \"semantic_type\": \"\",\n        \"description\": \"\"\n      }\n    },\n    {\n      \"column\": \"num_votes\",\n      \"properties\": {\n        \"dtype\": \"number\",\n        \"std\": 140953.60465233453,\n        \"min\": 5.0,\n        \"max\": 1841066.0,\n        \"num_unique_values\": 1946,\n        \"samples\": [\n          107264.0,\n          20994.0,\n          77633.0\n        ],\n        \"semantic_type\": \"\",\n        \"description\": \"\"\n      }\n    },\n    {\n      \"column\": \"region\",\n      \"properties\": {\n        \"dtype\": \"category\",\n        \"num_unique_values\": 67,\n        \"samples\": [\n          \"HR\",\n          \"SK\",\n          \"AL\"\n        ],\n        \"semantic_type\": \"\",\n        \"description\": \"\"\n      }\n    },\n    {\n      \"column\": \"runtime_minutes\",\n      \"properties\": {\n        \"dtype\": \"number\",\n        \"std\": 19.41826712529307,\n        \"min\": 5.0,\n        \"max\": 217.0,\n        \"num_unique_values\": 127,\n        \"samples\": [\n          133.0,\n          217.0,\n          82.0\n        ],\n        \"semantic_type\": \"\",\n        \"description\": \"\"\n      }\n    },\n    {\n      \"column\": \"genres\",\n      \"properties\": {\n        \"dtype\": \"category\",\n        \"num_unique_values\": 292,\n        \"samples\": [\n          \"Crime,Horror,Thriller\",\n          \"Animation,Horror\",\n          \"Animation,Comedy,Family\"\n        ],\n        \"semantic_type\": \"\",\n        \"description\": \"\"\n      }\n    },\n    {\n      \"column\": \"original_language\",\n      \"properties\": {\n        \"dtype\": \"category\",\n        \"num_unique_values\": 28,\n        \"samples\": [\n          \"es\",\n          \"fa\",\n          \"ko\"\n        ],\n        \"semantic_type\": \"\",\n        \"description\": \"\"\n      }\n    },\n    {\n      \"column\": \"popularity\",\n      \"properties\": {\n        \"dtype\": \"number\",\n        \"std\": 8.011317952161432,\n        \"min\": 0.6,\n        \"max\": 80.773,\n        \"num_unique_values\": 1703,\n        \"samples\": [\n          10.078,\n          6.454,\n          15.478\n        ],\n        \"semantic_type\": \"\",\n        \"description\": \"\"\n      }\n    }\n  ]\n}"
            }
          },
          "metadata": {},
          "execution_count": 18
        }
      ]
    },
    {
      "cell_type": "code",
      "source": [
        "merged_df.info()"
      ],
      "metadata": {
        "id": "OGq9cH94kw8f",
        "colab": {
          "base_uri": "https://localhost:8080/"
        },
        "outputId": "84e9d352-cda3-4f05-ed4c-12cbab886758"
      },
      "execution_count": null,
      "outputs": [
        {
          "output_type": "stream",
          "name": "stdout",
          "text": [
            "<class 'pandas.core.frame.DataFrame'>\n",
            "Index: 5698 entries, 0 to 16095\n",
            "Data columns (total 12 columns):\n",
            " #   Column               Non-Null Count  Dtype  \n",
            "---  ------               --------------  -----  \n",
            " 0   budget_release_date  5698 non-null   object \n",
            " 1   title                5698 non-null   object \n",
            " 2   budget               5698 non-null   object \n",
            " 3   domestic_gross       5698 non-null   object \n",
            " 4   worldwide_gross      5698 non-null   object \n",
            " 5   average_rating       2313 non-null   float64\n",
            " 6   num_votes            2313 non-null   float64\n",
            " 7   region               1647 non-null   object \n",
            " 8   runtime_minutes      2255 non-null   float64\n",
            " 9   genres               2311 non-null   object \n",
            " 10  original_language    1924 non-null   object \n",
            " 11  popularity           1924 non-null   float64\n",
            "dtypes: float64(4), object(8)\n",
            "memory usage: 707.7+ KB\n"
          ]
        }
      ]
    },
    {
      "cell_type": "markdown",
      "source": [
        "## Changing Data types"
      ],
      "metadata": {
        "id": "KQUPcplWjKAJ"
      }
    },
    {
      "cell_type": "markdown",
      "source": [
        "As seen above the `domestic_gross`, `worldwide_gross` and `budget` columns are strings and need to be change to floats. the `budget_release_date`column needs to be changed to datetime datatype"
      ],
      "metadata": {
        "id": "eKPs4geAk428"
      }
    },
    {
      "cell_type": "markdown",
      "source": [
        "We focus on cleaning and transforming the specific columns to ensure data consistency and usability:\n",
        "\n",
        "1. **Cleaning Currency Columns:** We define a function `clean_currency` to convert currency values from string format to float. This function removes dollar signs and commas from the currency values and converts them into numerical format. The function is then applied to the following columns:\n",
        "   - `'budget'`\n",
        "   - `'domestic_gross'`\n",
        "   - `'worldwide_gross'`\n",
        "\n",
        "2. **Converting Date Columns:** The `'budget_release_date'` column is converted to datetime format using `pd.to_datetime()`. This transformation allows us to perform date-related operations and analyses more effectively."
      ],
      "metadata": {
        "id": "9HTTeTVsSpOG"
      }
    },
    {
      "cell_type": "code",
      "source": [
        "# Function to clean currency columns and convert to float\n",
        "def clean_currency(x):\n",
        "    if isinstance(x, str):\n",
        "        return float(x.replace('$', '').replace(',', ''))\n",
        "    return x\n",
        "\n",
        "# Applying the function to the relevant columns\n",
        "merged_df['budget'] = merged_df['budget'].apply(clean_currency)\n",
        "merged_df['domestic_gross'] = merged_df['domestic_gross'].apply(clean_currency)\n",
        "merged_df['worldwide_gross'] = merged_df['worldwide_gross'].apply(clean_currency)\n",
        "\n",
        "# Converting budget_release_date to datetime\n",
        "merged_df['budget_release_date'] = pd.to_datetime(merged_df['budget_release_date'])\n",
        "\n",
        "merged_df.info()"
      ],
      "metadata": {
        "id": "RvWtKPX4gONe",
        "colab": {
          "base_uri": "https://localhost:8080/"
        },
        "outputId": "eb793068-14aa-4dc6-e3c6-6db001a7e31d"
      },
      "execution_count": null,
      "outputs": [
        {
          "output_type": "stream",
          "name": "stdout",
          "text": [
            "<class 'pandas.core.frame.DataFrame'>\n",
            "Index: 5698 entries, 0 to 16095\n",
            "Data columns (total 12 columns):\n",
            " #   Column               Non-Null Count  Dtype         \n",
            "---  ------               --------------  -----         \n",
            " 0   budget_release_date  5698 non-null   datetime64[ns]\n",
            " 1   title                5698 non-null   object        \n",
            " 2   budget               5698 non-null   float64       \n",
            " 3   domestic_gross       5698 non-null   float64       \n",
            " 4   worldwide_gross      5698 non-null   float64       \n",
            " 5   average_rating       2313 non-null   float64       \n",
            " 6   num_votes            2313 non-null   float64       \n",
            " 7   region               1647 non-null   object        \n",
            " 8   runtime_minutes      2255 non-null   float64       \n",
            " 9   genres               2311 non-null   object        \n",
            " 10  original_language    1924 non-null   object        \n",
            " 11  popularity           1924 non-null   float64       \n",
            "dtypes: datetime64[ns](1), float64(7), object(4)\n",
            "memory usage: 707.7+ KB\n"
          ]
        }
      ]
    },
    {
      "cell_type": "markdown",
      "source": [
        "### Handeling Nulls"
      ],
      "metadata": {
        "id": "Ac9wzpBfoGVJ"
      }
    },
    {
      "cell_type": "markdown",
      "source": [
        "We are now evaluating the percentage of missing values in each column of the dataset. The `.isna().mean()*100` method calculates the proportion of missing values as a percentage for each column. This analysis helps us identify columns with significant amounts of missing data, which may require attention and remediation before proceeding with further analysis."
      ],
      "metadata": {
        "id": "qIYeosNYTsvW"
      }
    },
    {
      "cell_type": "code",
      "source": [
        "#finding out the percentage of duplicates each column has\n",
        "merged_df.isna().mean()*100"
      ],
      "metadata": {
        "id": "Nh7Rq9a6mlgp",
        "colab": {
          "base_uri": "https://localhost:8080/"
        },
        "outputId": "006fe3a6-37a0-41c9-b096-1cb0435f6f57"
      },
      "execution_count": null,
      "outputs": [
        {
          "output_type": "execute_result",
          "data": {
            "text/plain": [
              "budget_release_date     0.000000\n",
              "title                   0.000000\n",
              "budget                  0.000000\n",
              "domestic_gross          0.000000\n",
              "worldwide_gross         0.000000\n",
              "average_rating         59.406809\n",
              "num_votes              59.406809\n",
              "region                 71.095121\n",
              "runtime_minutes        60.424710\n",
              "genres                 59.441909\n",
              "original_language      66.233766\n",
              "popularity             66.233766\n",
              "dtype: float64"
            ]
          },
          "metadata": {},
          "execution_count": 21
        }
      ]
    },
    {
      "cell_type": "markdown",
      "source": [
        "As seen above most rows contain null values"
      ],
      "metadata": {
        "id": "luybGxGYBjqS"
      }
    },
    {
      "cell_type": "markdown",
      "source": [
        "Given the significant number of null values in certain columns, we take the following steps to address missing data:\n",
        "\n",
        "1. **Filling Missing Values in Specific Columns:** For columns with a high percentage of missing values, we fill these null values with the placeholder `'Unknown'`:\n",
        "   - `'region'`\n",
        "   - `'genres'`\n",
        "   - `'original_language'`\n",
        "\n",
        "2. **Removing Remaining Null Values:** We then remove rows with any remaining null values in the other columns of the dataset."
      ],
      "metadata": {
        "id": "TNg_dO_zUCdS"
      }
    },
    {
      "cell_type": "code",
      "source": [
        "#drop region columns since null values is too many\n",
        "\n",
        "merged_df['region'].fillna('Unknown', inplace=True)\n",
        "merged_df['genres'].fillna('Unknown', inplace=True)\n",
        "merged_df['original_language'].fillna('Unknown', inplace=True)\n",
        "\n",
        "# Remove rows with any null values in the remaining columns\n",
        "merged_df.dropna(inplace=True)"
      ],
      "metadata": {
        "id": "isggjpz4AY-1"
      },
      "execution_count": null,
      "outputs": []
    },
    {
      "cell_type": "code",
      "source": [
        "merged_df.isna().mean()*100"
      ],
      "metadata": {
        "id": "ng97XAtKBX5r",
        "colab": {
          "base_uri": "https://localhost:8080/"
        },
        "outputId": "84ddb186-c063-4107-ae73-4e48d0474164"
      },
      "execution_count": null,
      "outputs": [
        {
          "output_type": "execute_result",
          "data": {
            "text/plain": [
              "budget_release_date    0.0\n",
              "title                  0.0\n",
              "budget                 0.0\n",
              "domestic_gross         0.0\n",
              "worldwide_gross        0.0\n",
              "average_rating         0.0\n",
              "num_votes              0.0\n",
              "region                 0.0\n",
              "runtime_minutes        0.0\n",
              "genres                 0.0\n",
              "original_language      0.0\n",
              "popularity             0.0\n",
              "dtype: float64"
            ]
          },
          "metadata": {},
          "execution_count": 23
        }
      ]
    },
    {
      "cell_type": "markdown",
      "source": [
        "We should verify that the percentage of missing values is significantly reduced, and ensure that no critical columns are left with excessive missing data."
      ],
      "metadata": {
        "id": "Vw0JwOutUvRe"
      }
    },
    {
      "cell_type": "markdown",
      "source": [
        "To ensure the `'runtime_minutes'` column is properly formatted for analysis, we perform the following steps:\n",
        "\n",
        "1. **Convert to Numeric:** We convert the `'runtime_minutes'` column to numeric format using `pd.to_numeric()`\n",
        "\n",
        "2. **Calculate Mean Runtime:** We compute the mean of the `'runtime_minutes'` column, excluding `NaN` values. This provides a reference value to use for filling missing data.\n",
        "\n",
        "3. **Fill Missing Values:** We fill `NaN` values in the `'runtime_minutes'` column with the calculated mean runtime. This ensures that the dataset is complete and that the runtime information is consistently represented."
      ],
      "metadata": {
        "id": "6yhlTSdFVEOK"
      }
    },
    {
      "cell_type": "code",
      "source": [
        "# Convert runtime_minutes to numeric\n",
        "merged_df['runtime_minutes'] = pd.to_numeric(merged_df['runtime_minutes'], errors='coerce')\n",
        "\n",
        "# Calculate the mean of runtime_minutes, excluding NaNs\n",
        "mean_runtime = merged_df['runtime_minutes'].mean()\n",
        "\n",
        "# Fill NaNs in runtime_minutes with the mean\n",
        "merged_df['runtime_minutes'].fillna(mean_runtime, inplace=True)"
      ],
      "metadata": {
        "id": "bys-j0kHmSIi"
      },
      "execution_count": null,
      "outputs": []
    },
    {
      "cell_type": "markdown",
      "source": [
        "To facilitate analysis, we categorize the `'runtime_minutes'` column into discrete bins. This step helps in grouping movies into runtime categories, making it easier to analyze patterns and trends related to movie length."
      ],
      "metadata": {
        "id": "sxNCfx8SVkNi"
      }
    },
    {
      "cell_type": "code",
      "source": [
        "# Define bins and labels\n",
        "bins = [0, 90, 100, 120, 140, 160, 180, 200]\n",
        "labels = ['0-90', '91-100', '101-120', '121-140', '141-160', '161-180', '181-200']\n",
        "\n",
        "# Create a new column 'runtime_category'\n",
        "merged_df['runtime_category'] = pd.cut(merged_df['runtime_minutes'], bins=bins, labels=labels, right=False)\n"
      ],
      "metadata": {
        "id": "dYmRXZoAGQv2"
      },
      "execution_count": null,
      "outputs": []
    },
    {
      "cell_type": "markdown",
      "source": [
        "In the next step, we extract the year from the `'budget_release_date'` column to facilitate time-based analysis. By converting the release date into a separate `'Year'` column, we can analyze trends and patterns over different years more effectively. This is done using the `.dt.year` attribute of the datetime column.\n",
        "\n"
      ],
      "metadata": {
        "id": "-NREmXtgyHhC"
      }
    },
    {
      "cell_type": "code",
      "source": [
        "merged_df['Year'] = merged_df['budget_release_date'].dt.year"
      ],
      "metadata": {
        "id": "NYuUTIkHKSAp"
      },
      "execution_count": null,
      "outputs": []
    },
    {
      "cell_type": "code",
      "source": [
        "merged_df.head()"
      ],
      "metadata": {
        "id": "18V-chL0r5fG",
        "colab": {
          "base_uri": "https://localhost:8080/",
          "height": 400
        },
        "outputId": "237bf070-4b6b-44e5-ad3c-9d452dc04488"
      },
      "execution_count": null,
      "outputs": [
        {
          "output_type": "execute_result",
          "data": {
            "text/plain": [
              "   budget_release_date                                        title  \\\n",
              "0           2009-12-18                                       Avatar   \n",
              "1           2011-05-20  Pirates of the Caribbean: On Stranger Tides   \n",
              "8           2015-05-01                      Avengers: Age of Ultron   \n",
              "15          2018-04-27                       Avengers: Infinity War   \n",
              "29          2017-11-17                               Justice League   \n",
              "\n",
              "         budget  domestic_gross  worldwide_gross  average_rating  num_votes  \\\n",
              "0   425000000.0     760507625.0     2.776345e+09             6.1       43.0   \n",
              "1   410600000.0     241063875.0     1.045664e+09             6.6   447624.0   \n",
              "8   330600000.0     459005868.0     1.403014e+09             7.3   665594.0   \n",
              "15  300000000.0     678815482.0     2.048134e+09             8.5   670926.0   \n",
              "29  300000000.0     229024295.0     6.559452e+08             6.5   329135.0   \n",
              "\n",
              "   region  runtime_minutes                    genres original_language  \\\n",
              "0     XWW             93.0                    Horror                en   \n",
              "1      US            136.0  Action,Adventure,Fantasy                en   \n",
              "8      IT            141.0   Action,Adventure,Sci-Fi                en   \n",
              "15     AL            149.0   Action,Adventure,Sci-Fi                en   \n",
              "29     IT            120.0  Action,Adventure,Fantasy                en   \n",
              "\n",
              "    popularity runtime_category  Year  \n",
              "0       26.526           91-100  2009  \n",
              "1       30.579          121-140  2011  \n",
              "8       44.383          141-160  2015  \n",
              "15      80.773          141-160  2018  \n",
              "29      34.953          121-140  2017  "
            ],
            "text/html": [
              "\n",
              "  <div id=\"df-a7c5143b-403b-4c0c-9bb1-3207479c7e41\" class=\"colab-df-container\">\n",
              "    <div>\n",
              "<style scoped>\n",
              "    .dataframe tbody tr th:only-of-type {\n",
              "        vertical-align: middle;\n",
              "    }\n",
              "\n",
              "    .dataframe tbody tr th {\n",
              "        vertical-align: top;\n",
              "    }\n",
              "\n",
              "    .dataframe thead th {\n",
              "        text-align: right;\n",
              "    }\n",
              "</style>\n",
              "<table border=\"1\" class=\"dataframe\">\n",
              "  <thead>\n",
              "    <tr style=\"text-align: right;\">\n",
              "      <th></th>\n",
              "      <th>budget_release_date</th>\n",
              "      <th>title</th>\n",
              "      <th>budget</th>\n",
              "      <th>domestic_gross</th>\n",
              "      <th>worldwide_gross</th>\n",
              "      <th>average_rating</th>\n",
              "      <th>num_votes</th>\n",
              "      <th>region</th>\n",
              "      <th>runtime_minutes</th>\n",
              "      <th>genres</th>\n",
              "      <th>original_language</th>\n",
              "      <th>popularity</th>\n",
              "      <th>runtime_category</th>\n",
              "      <th>Year</th>\n",
              "    </tr>\n",
              "  </thead>\n",
              "  <tbody>\n",
              "    <tr>\n",
              "      <th>0</th>\n",
              "      <td>2009-12-18</td>\n",
              "      <td>Avatar</td>\n",
              "      <td>425000000.0</td>\n",
              "      <td>760507625.0</td>\n",
              "      <td>2.776345e+09</td>\n",
              "      <td>6.1</td>\n",
              "      <td>43.0</td>\n",
              "      <td>XWW</td>\n",
              "      <td>93.0</td>\n",
              "      <td>Horror</td>\n",
              "      <td>en</td>\n",
              "      <td>26.526</td>\n",
              "      <td>91-100</td>\n",
              "      <td>2009</td>\n",
              "    </tr>\n",
              "    <tr>\n",
              "      <th>1</th>\n",
              "      <td>2011-05-20</td>\n",
              "      <td>Pirates of the Caribbean: On Stranger Tides</td>\n",
              "      <td>410600000.0</td>\n",
              "      <td>241063875.0</td>\n",
              "      <td>1.045664e+09</td>\n",
              "      <td>6.6</td>\n",
              "      <td>447624.0</td>\n",
              "      <td>US</td>\n",
              "      <td>136.0</td>\n",
              "      <td>Action,Adventure,Fantasy</td>\n",
              "      <td>en</td>\n",
              "      <td>30.579</td>\n",
              "      <td>121-140</td>\n",
              "      <td>2011</td>\n",
              "    </tr>\n",
              "    <tr>\n",
              "      <th>8</th>\n",
              "      <td>2015-05-01</td>\n",
              "      <td>Avengers: Age of Ultron</td>\n",
              "      <td>330600000.0</td>\n",
              "      <td>459005868.0</td>\n",
              "      <td>1.403014e+09</td>\n",
              "      <td>7.3</td>\n",
              "      <td>665594.0</td>\n",
              "      <td>IT</td>\n",
              "      <td>141.0</td>\n",
              "      <td>Action,Adventure,Sci-Fi</td>\n",
              "      <td>en</td>\n",
              "      <td>44.383</td>\n",
              "      <td>141-160</td>\n",
              "      <td>2015</td>\n",
              "    </tr>\n",
              "    <tr>\n",
              "      <th>15</th>\n",
              "      <td>2018-04-27</td>\n",
              "      <td>Avengers: Infinity War</td>\n",
              "      <td>300000000.0</td>\n",
              "      <td>678815482.0</td>\n",
              "      <td>2.048134e+09</td>\n",
              "      <td>8.5</td>\n",
              "      <td>670926.0</td>\n",
              "      <td>AL</td>\n",
              "      <td>149.0</td>\n",
              "      <td>Action,Adventure,Sci-Fi</td>\n",
              "      <td>en</td>\n",
              "      <td>80.773</td>\n",
              "      <td>141-160</td>\n",
              "      <td>2018</td>\n",
              "    </tr>\n",
              "    <tr>\n",
              "      <th>29</th>\n",
              "      <td>2017-11-17</td>\n",
              "      <td>Justice League</td>\n",
              "      <td>300000000.0</td>\n",
              "      <td>229024295.0</td>\n",
              "      <td>6.559452e+08</td>\n",
              "      <td>6.5</td>\n",
              "      <td>329135.0</td>\n",
              "      <td>IT</td>\n",
              "      <td>120.0</td>\n",
              "      <td>Action,Adventure,Fantasy</td>\n",
              "      <td>en</td>\n",
              "      <td>34.953</td>\n",
              "      <td>121-140</td>\n",
              "      <td>2017</td>\n",
              "    </tr>\n",
              "  </tbody>\n",
              "</table>\n",
              "</div>\n",
              "    <div class=\"colab-df-buttons\">\n",
              "\n",
              "  <div class=\"colab-df-container\">\n",
              "    <button class=\"colab-df-convert\" onclick=\"convertToInteractive('df-a7c5143b-403b-4c0c-9bb1-3207479c7e41')\"\n",
              "            title=\"Convert this dataframe to an interactive table.\"\n",
              "            style=\"display:none;\">\n",
              "\n",
              "  <svg xmlns=\"http://www.w3.org/2000/svg\" height=\"24px\" viewBox=\"0 -960 960 960\">\n",
              "    <path d=\"M120-120v-720h720v720H120Zm60-500h600v-160H180v160Zm220 220h160v-160H400v160Zm0 220h160v-160H400v160ZM180-400h160v-160H180v160Zm440 0h160v-160H620v160ZM180-180h160v-160H180v160Zm440 0h160v-160H620v160Z\"/>\n",
              "  </svg>\n",
              "    </button>\n",
              "\n",
              "  <style>\n",
              "    .colab-df-container {\n",
              "      display:flex;\n",
              "      gap: 12px;\n",
              "    }\n",
              "\n",
              "    .colab-df-convert {\n",
              "      background-color: #E8F0FE;\n",
              "      border: none;\n",
              "      border-radius: 50%;\n",
              "      cursor: pointer;\n",
              "      display: none;\n",
              "      fill: #1967D2;\n",
              "      height: 32px;\n",
              "      padding: 0 0 0 0;\n",
              "      width: 32px;\n",
              "    }\n",
              "\n",
              "    .colab-df-convert:hover {\n",
              "      background-color: #E2EBFA;\n",
              "      box-shadow: 0px 1px 2px rgba(60, 64, 67, 0.3), 0px 1px 3px 1px rgba(60, 64, 67, 0.15);\n",
              "      fill: #174EA6;\n",
              "    }\n",
              "\n",
              "    .colab-df-buttons div {\n",
              "      margin-bottom: 4px;\n",
              "    }\n",
              "\n",
              "    [theme=dark] .colab-df-convert {\n",
              "      background-color: #3B4455;\n",
              "      fill: #D2E3FC;\n",
              "    }\n",
              "\n",
              "    [theme=dark] .colab-df-convert:hover {\n",
              "      background-color: #434B5C;\n",
              "      box-shadow: 0px 1px 3px 1px rgba(0, 0, 0, 0.15);\n",
              "      filter: drop-shadow(0px 1px 2px rgba(0, 0, 0, 0.3));\n",
              "      fill: #FFFFFF;\n",
              "    }\n",
              "  </style>\n",
              "\n",
              "    <script>\n",
              "      const buttonEl =\n",
              "        document.querySelector('#df-a7c5143b-403b-4c0c-9bb1-3207479c7e41 button.colab-df-convert');\n",
              "      buttonEl.style.display =\n",
              "        google.colab.kernel.accessAllowed ? 'block' : 'none';\n",
              "\n",
              "      async function convertToInteractive(key) {\n",
              "        const element = document.querySelector('#df-a7c5143b-403b-4c0c-9bb1-3207479c7e41');\n",
              "        const dataTable =\n",
              "          await google.colab.kernel.invokeFunction('convertToInteractive',\n",
              "                                                    [key], {});\n",
              "        if (!dataTable) return;\n",
              "\n",
              "        const docLinkHtml = 'Like what you see? Visit the ' +\n",
              "          '<a target=\"_blank\" href=https://colab.research.google.com/notebooks/data_table.ipynb>data table notebook</a>'\n",
              "          + ' to learn more about interactive tables.';\n",
              "        element.innerHTML = '';\n",
              "        dataTable['output_type'] = 'display_data';\n",
              "        await google.colab.output.renderOutput(dataTable, element);\n",
              "        const docLink = document.createElement('div');\n",
              "        docLink.innerHTML = docLinkHtml;\n",
              "        element.appendChild(docLink);\n",
              "      }\n",
              "    </script>\n",
              "  </div>\n",
              "\n",
              "\n",
              "<div id=\"df-71f8a517-1877-4fc1-a583-696ad6560541\">\n",
              "  <button class=\"colab-df-quickchart\" onclick=\"quickchart('df-71f8a517-1877-4fc1-a583-696ad6560541')\"\n",
              "            title=\"Suggest charts\"\n",
              "            style=\"display:none;\">\n",
              "\n",
              "<svg xmlns=\"http://www.w3.org/2000/svg\" height=\"24px\"viewBox=\"0 0 24 24\"\n",
              "     width=\"24px\">\n",
              "    <g>\n",
              "        <path d=\"M19 3H5c-1.1 0-2 .9-2 2v14c0 1.1.9 2 2 2h14c1.1 0 2-.9 2-2V5c0-1.1-.9-2-2-2zM9 17H7v-7h2v7zm4 0h-2V7h2v10zm4 0h-2v-4h2v4z\"/>\n",
              "    </g>\n",
              "</svg>\n",
              "  </button>\n",
              "\n",
              "<style>\n",
              "  .colab-df-quickchart {\n",
              "      --bg-color: #E8F0FE;\n",
              "      --fill-color: #1967D2;\n",
              "      --hover-bg-color: #E2EBFA;\n",
              "      --hover-fill-color: #174EA6;\n",
              "      --disabled-fill-color: #AAA;\n",
              "      --disabled-bg-color: #DDD;\n",
              "  }\n",
              "\n",
              "  [theme=dark] .colab-df-quickchart {\n",
              "      --bg-color: #3B4455;\n",
              "      --fill-color: #D2E3FC;\n",
              "      --hover-bg-color: #434B5C;\n",
              "      --hover-fill-color: #FFFFFF;\n",
              "      --disabled-bg-color: #3B4455;\n",
              "      --disabled-fill-color: #666;\n",
              "  }\n",
              "\n",
              "  .colab-df-quickchart {\n",
              "    background-color: var(--bg-color);\n",
              "    border: none;\n",
              "    border-radius: 50%;\n",
              "    cursor: pointer;\n",
              "    display: none;\n",
              "    fill: var(--fill-color);\n",
              "    height: 32px;\n",
              "    padding: 0;\n",
              "    width: 32px;\n",
              "  }\n",
              "\n",
              "  .colab-df-quickchart:hover {\n",
              "    background-color: var(--hover-bg-color);\n",
              "    box-shadow: 0 1px 2px rgba(60, 64, 67, 0.3), 0 1px 3px 1px rgba(60, 64, 67, 0.15);\n",
              "    fill: var(--button-hover-fill-color);\n",
              "  }\n",
              "\n",
              "  .colab-df-quickchart-complete:disabled,\n",
              "  .colab-df-quickchart-complete:disabled:hover {\n",
              "    background-color: var(--disabled-bg-color);\n",
              "    fill: var(--disabled-fill-color);\n",
              "    box-shadow: none;\n",
              "  }\n",
              "\n",
              "  .colab-df-spinner {\n",
              "    border: 2px solid var(--fill-color);\n",
              "    border-color: transparent;\n",
              "    border-bottom-color: var(--fill-color);\n",
              "    animation:\n",
              "      spin 1s steps(1) infinite;\n",
              "  }\n",
              "\n",
              "  @keyframes spin {\n",
              "    0% {\n",
              "      border-color: transparent;\n",
              "      border-bottom-color: var(--fill-color);\n",
              "      border-left-color: var(--fill-color);\n",
              "    }\n",
              "    20% {\n",
              "      border-color: transparent;\n",
              "      border-left-color: var(--fill-color);\n",
              "      border-top-color: var(--fill-color);\n",
              "    }\n",
              "    30% {\n",
              "      border-color: transparent;\n",
              "      border-left-color: var(--fill-color);\n",
              "      border-top-color: var(--fill-color);\n",
              "      border-right-color: var(--fill-color);\n",
              "    }\n",
              "    40% {\n",
              "      border-color: transparent;\n",
              "      border-right-color: var(--fill-color);\n",
              "      border-top-color: var(--fill-color);\n",
              "    }\n",
              "    60% {\n",
              "      border-color: transparent;\n",
              "      border-right-color: var(--fill-color);\n",
              "    }\n",
              "    80% {\n",
              "      border-color: transparent;\n",
              "      border-right-color: var(--fill-color);\n",
              "      border-bottom-color: var(--fill-color);\n",
              "    }\n",
              "    90% {\n",
              "      border-color: transparent;\n",
              "      border-bottom-color: var(--fill-color);\n",
              "    }\n",
              "  }\n",
              "</style>\n",
              "\n",
              "  <script>\n",
              "    async function quickchart(key) {\n",
              "      const quickchartButtonEl =\n",
              "        document.querySelector('#' + key + ' button');\n",
              "      quickchartButtonEl.disabled = true;  // To prevent multiple clicks.\n",
              "      quickchartButtonEl.classList.add('colab-df-spinner');\n",
              "      try {\n",
              "        const charts = await google.colab.kernel.invokeFunction(\n",
              "            'suggestCharts', [key], {});\n",
              "      } catch (error) {\n",
              "        console.error('Error during call to suggestCharts:', error);\n",
              "      }\n",
              "      quickchartButtonEl.classList.remove('colab-df-spinner');\n",
              "      quickchartButtonEl.classList.add('colab-df-quickchart-complete');\n",
              "    }\n",
              "    (() => {\n",
              "      let quickchartButtonEl =\n",
              "        document.querySelector('#df-71f8a517-1877-4fc1-a583-696ad6560541 button');\n",
              "      quickchartButtonEl.style.display =\n",
              "        google.colab.kernel.accessAllowed ? 'block' : 'none';\n",
              "    })();\n",
              "  </script>\n",
              "</div>\n",
              "\n",
              "    </div>\n",
              "  </div>\n"
            ],
            "application/vnd.google.colaboratory.intrinsic+json": {
              "type": "dataframe",
              "variable_name": "merged_df",
              "summary": "{\n  \"name\": \"merged_df\",\n  \"rows\": 1788,\n  \"fields\": [\n    {\n      \"column\": \"budget_release_date\",\n      \"properties\": {\n        \"dtype\": \"date\",\n        \"min\": \"1927-08-12 00:00:00\",\n        \"max\": \"2019-12-31 00:00:00\",\n        \"num_unique_values\": 759,\n        \"samples\": [\n          \"2014-06-20 00:00:00\",\n          \"2011-09-16 00:00:00\",\n          \"2017-06-02 00:00:00\"\n        ],\n        \"semantic_type\": \"\",\n        \"description\": \"\"\n      }\n    },\n    {\n      \"column\": \"title\",\n      \"properties\": {\n        \"dtype\": \"string\",\n        \"num_unique_values\": 1788,\n        \"samples\": [\n          \"Eddie: The Sleepwalking Cannibal\",\n          \"Honey\",\n          \"Charlie St. Cloud\"\n        ],\n        \"semantic_type\": \"\",\n        \"description\": \"\"\n      }\n    },\n    {\n      \"column\": \"budget\",\n      \"properties\": {\n        \"dtype\": \"number\",\n        \"std\": 52664160.74704537,\n        \"min\": 9000.0,\n        \"max\": 425000000.0,\n        \"num_unique_values\": 279,\n        \"samples\": [\n          144000000.0,\n          27000000.0,\n          4600000.0\n        ],\n        \"semantic_type\": \"\",\n        \"description\": \"\"\n      }\n    },\n    {\n      \"column\": \"domestic_gross\",\n      \"properties\": {\n        \"dtype\": \"number\",\n        \"std\": 80943832.29619884,\n        \"min\": 0.0,\n        \"max\": 760507625.0,\n        \"num_unique_values\": 1574,\n        \"samples\": [\n          14597405.0,\n          30080225.0,\n          14431633.0\n        ],\n        \"semantic_type\": \"\",\n        \"description\": \"\"\n      }\n    },\n    {\n      \"column\": \"worldwide_gross\",\n      \"properties\": {\n        \"dtype\": \"number\",\n        \"std\": 226260967.36440742,\n        \"min\": 0.0,\n        \"max\": 2776345279.0,\n        \"num_unique_values\": 1639,\n        \"samples\": [\n          48575965.0,\n          680914.0,\n          50003303.0\n        ],\n        \"semantic_type\": \"\",\n        \"description\": \"\"\n      }\n    },\n    {\n      \"column\": \"average_rating\",\n      \"properties\": {\n        \"dtype\": \"number\",\n        \"std\": 1.1119344324748601,\n        \"min\": 1.6,\n        \"max\": 9.2,\n        \"num_unique_values\": 70,\n        \"samples\": [\n          8.0,\n          6.1,\n          4.5\n        ],\n        \"semantic_type\": \"\",\n        \"description\": \"\"\n      }\n    },\n    {\n      \"column\": \"num_votes\",\n      \"properties\": {\n        \"dtype\": \"number\",\n        \"std\": 152874.64890983936,\n        \"min\": 5.0,\n        \"max\": 1841066.0,\n        \"num_unique_values\": 1674,\n        \"samples\": [\n          45799.0,\n          77440.0,\n          183387.0\n        ],\n        \"semantic_type\": \"\",\n        \"description\": \"\"\n      }\n    },\n    {\n      \"column\": \"region\",\n      \"properties\": {\n        \"dtype\": \"category\",\n        \"num_unique_values\": 59,\n        \"samples\": [\n          \"XWW\",\n          \"Unknown\",\n          \"CL\"\n        ],\n        \"semantic_type\": \"\",\n        \"description\": \"\"\n      }\n    },\n    {\n      \"column\": \"runtime_minutes\",\n      \"properties\": {\n        \"dtype\": \"number\",\n        \"std\": 18.144649537797456,\n        \"min\": 41.0,\n        \"max\": 192.0,\n        \"num_unique_values\": 119,\n        \"samples\": [\n          99.0,\n          66.0,\n          120.0\n        ],\n        \"semantic_type\": \"\",\n        \"description\": \"\"\n      }\n    },\n    {\n      \"column\": \"genres\",\n      \"properties\": {\n        \"dtype\": \"category\",\n        \"num_unique_values\": 260,\n        \"samples\": [\n          \"Documentary\",\n          \"Biography,Documentary\",\n          \"Biography,Family,Sport\"\n        ],\n        \"semantic_type\": \"\",\n        \"description\": \"\"\n      }\n    },\n    {\n      \"column\": \"original_language\",\n      \"properties\": {\n        \"dtype\": \"category\",\n        \"num_unique_values\": 28,\n        \"samples\": [\n          \"hu\",\n          \"fa\",\n          \"es\"\n        ],\n        \"semantic_type\": \"\",\n        \"description\": \"\"\n      }\n    },\n    {\n      \"column\": \"popularity\",\n      \"properties\": {\n        \"dtype\": \"number\",\n        \"std\": 8.045637770504293,\n        \"min\": 0.6,\n        \"max\": 80.773,\n        \"num_unique_values\": 1607,\n        \"samples\": [\n          14.623,\n          2.433,\n          17.851\n        ],\n        \"semantic_type\": \"\",\n        \"description\": \"\"\n      }\n    },\n    {\n      \"column\": \"runtime_category\",\n      \"properties\": {\n        \"dtype\": \"category\",\n        \"num_unique_values\": 7,\n        \"samples\": [\n          \"91-100\",\n          \"121-140\",\n          \"0-90\"\n        ],\n        \"semantic_type\": \"\",\n        \"description\": \"\"\n      }\n    },\n    {\n      \"column\": \"Year\",\n      \"properties\": {\n        \"dtype\": \"int32\",\n        \"num_unique_values\": 46,\n        \"samples\": [\n          1978,\n          1986,\n          1990\n        ],\n        \"semantic_type\": \"\",\n        \"description\": \"\"\n      }\n    }\n  ]\n}"
            }
          },
          "metadata": {},
          "execution_count": 27
        }
      ]
    },
    {
      "cell_type": "markdown",
      "source": [
        "*Add Observation*"
      ],
      "metadata": {
        "id": "KN3r-KBlzxw2"
      }
    },
    {
      "cell_type": "markdown",
      "source": [
        "# **EDA(Exploritary Data Analysis)**"
      ],
      "metadata": {
        "id": "fmaOk5kWupYa"
      }
    },
    {
      "cell_type": "markdown",
      "source": [
        "Exploratory Data Analysis (EDA) is a crucial step that helps us understand the dataset's main characteristics. The EDA will involve:\n",
        "\n",
        "- **Univariate Analysis:** Examining the distribution of individual variables.\n",
        "- **Bivariate Analysis:** Exploring relationships between two variables.\n",
        "- **Multivariate Analysis:** Investigating interactions among multiple variables.\n",
        "\n",
        "Through visualizations and summary statistics, EDA helps uncover patterns, trends, and anomalies, guiding further analysis and decision-making."
      ],
      "metadata": {
        "id": "BEBuugBLzbdn"
      }
    },
    {
      "cell_type": "markdown",
      "source": [
        "## **Univariate Analysis**"
      ],
      "metadata": {
        "id": "dwtJOPJ-uxGw"
      }
    },
    {
      "cell_type": "markdown",
      "source": [
        "This type of analysis will help us understand the basic properties of individual variables, such as central tendency, dispersion, and the shape of the distribution. Common techniques for univariate analysis include summary statistics, frequency distributions, and visualizations like histograms, box plots, and bar charts."
      ],
      "metadata": {
        "id": "GY9AdLtx18JD"
      }
    },
    {
      "cell_type": "markdown",
      "source": [
        "### **Frequency of Each genre**"
      ],
      "metadata": {
        "id": "ZiA6CiC9JxxM"
      }
    },
    {
      "cell_type": "markdown",
      "source": [
        "In this analysis, we examine the distribution of movie genres in our dataset. By splitting the `'genres'` column, we can count the frequency of each genre and identify the most common ones. This helps us understand which genres are most prevalent in the dataset, providing insights into genre trends in movie production."
      ],
      "metadata": {
        "id": "EZDPB1Xv2RyS"
      }
    },
    {
      "cell_type": "code",
      "source": [
        "# Split the 'genres' column and count each genre's frequency\n",
        "genres_split = merged_df['genres'].str.split(',', expand=True).stack()\n",
        "genre_counts = genres_split.value_counts()\n",
        "\n",
        "# Identify the most frequent genre\n",
        "most_frequent_genre = genre_counts.idxmax()\n",
        "most_frequent_count = genre_counts.max()\n",
        "\n",
        "# Plot the frequency of each genre\n",
        "plt.figure(figsize=(10, 6))\n",
        "genre_counts.plot(kind='bar', color='purple')\n",
        "plt.title('Frequency of Each Genre')\n",
        "plt.xlabel('Genre')\n",
        "plt.ylabel('Count')\n",
        "plt.xticks(rotation=45, ha='right')\n",
        "plt.tight_layout()\n",
        "plt.show()\n",
        "\n"
      ],
      "metadata": {
        "id": "BEpzRuZRjWmX",
        "colab": {
          "base_uri": "https://localhost:8080/",
          "height": 607
        },
        "outputId": "e887b139-e9c8-42c3-aa6f-e1382b2ecab9"
      },
      "execution_count": null,
      "outputs": [
        {
          "output_type": "display_data",
          "data": {
            "text/plain": [
              "<Figure size 1000x600 with 1 Axes>"
            ],
            "image/png": "[encoded data removed]"
          },
          "metadata": {}
        }
      ]
    },
    {
      "cell_type": "markdown",
      "source": [
        "- The most frequent genres, each with over `400` occurrences, are `Action, Comedy, and Drama.`\n",
        "- Among these, `Comedy` is the most frequent with over `800` occurrences.\n",
        "- The three least frequent genres are News, Musical, and Western, in descending order.\n",
        "- The high frequency of `Action, Comedy, and Drama` genres indicates strong market demand and safer investment opportunities, while the low frequency of News, Musical, and Western suggests a need for targeted marketing to attract niche audiences."
      ],
      "metadata": {
        "id": "_GtdmaQY5Zf3"
      }
    },
    {
      "cell_type": "markdown",
      "source": [
        "### **Frequency of Each runtime**"
      ],
      "metadata": {
        "id": "VM9yUb1YJr1w"
      }
    },
    {
      "cell_type": "markdown",
      "source": [
        "Next we explore the distribution of movies across different runtime categories. By categorizing the movies based on their runtime, we can count the number of movies that fall into each category and visualize their distribution. This helps us understand the common lengths of movies in the dataset."
      ],
      "metadata": {
        "id": "-tpUx4GW5zkZ"
      }
    },
    {
      "cell_type": "code",
      "source": [
        "runtime_category_counts = merged_df['runtime_category'].value_counts().sort_index()\n",
        "\n",
        "# Plot the frequency of each runtime category\n",
        "plt.figure(figsize=(10, 6))\n",
        "runtime_category_counts.plot(kind='bar', color='purple')\n",
        "plt.title('Frequency of Each Runtime')\n",
        "plt.xlabel('Runtime Category (minutes)')\n",
        "plt.ylabel('Count')\n",
        "plt.xticks(rotation=45, ha='right')\n",
        "plt.tight_layout()\n",
        "plt.show()\n",
        "\n"
      ],
      "metadata": {
        "id": "BpoxpnuJvPQc",
        "colab": {
          "base_uri": "https://localhost:8080/",
          "height": 607
        },
        "outputId": "f1927536-06dd-4611-ee5e-c4a3fa567b80"
      },
      "execution_count": null,
      "outputs": [
        {
          "output_type": "display_data",
          "data": {
            "text/plain": [
              "<Figure size 1000x600 with 1 Axes>"
            ],
            "image/png": "[encoded data removed]"
          },
          "metadata": {}
        }
      ]
    },
    {
      "cell_type": "markdown",
      "source": [
        "- `Popular Runtime`: Movies with a runtime of 101-120 minutes have the highest frequency at approximately 700, indicating strong audience preference.\n",
        "- `Longer Movies Less Frequent`: Films with runtimes of 141-160, 161-180, and 181-200 minutes each have frequencies below 100.\n",
        "- `Audience Preference`: The data suggests audiences generally prefer shorter movies over extended viewing times."
      ],
      "metadata": {
        "id": "HW2WOjx36BbQ"
      }
    },
    {
      "cell_type": "markdown",
      "source": [
        "### **Frequency of Each region**"
      ],
      "metadata": {
        "id": "-bb6lHMQJXWx"
      }
    },
    {
      "cell_type": "markdown",
      "source": [
        "We also need to examine the distribution of movies across different regions. By focusing on the top 5 regions and excluding unknown regions, we can count and visualize the frequency of movies produced or released in each region."
      ],
      "metadata": {
        "id": "Pfvuov-46dy7"
      }
    },
    {
      "cell_type": "code",
      "source": [
        "\n",
        "\n",
        "#get the top 5 regins\n",
        "\n",
        "top_5_regions = merged_df['region'].value_counts().head(5).index\n",
        "\n",
        "# Filter the DataFrame to exclude unknown regions\n",
        "filtered_regions_df = merged_df[(merged_df['region'] != 'Unknown')]\n",
        "\n",
        "region_df = filtered_regions_df[merged_df['region'].isin(top_5_regions)]\n",
        "\n",
        "# Count the frequency of each region in the filtered DataFrame\n",
        "\n",
        "region_counts = region_df['region'].value_counts().sort_index().sort_values(ascending=False)\n",
        "\n",
        "\n",
        "plt.figure(figsize=(10, 6))\n",
        "region_counts.plot(kind='bar', color='purple')\n",
        "plt.title('Frequency of Each region ')\n",
        "plt.xlabel('frequency region)')\n",
        "plt.ylabel('Count')\n",
        "plt.xticks(rotation=45, ha='right')\n",
        "plt.tight_layout()\n",
        "plt.show()\n",
        "\n"
      ],
      "metadata": {
        "id": "l3j6Z6jobbWC",
        "colab": {
          "base_uri": "https://localhost:8080/",
          "height": 607
        },
        "outputId": "e9c4ac59-82d3-4fa9-9edf-db45bc46213e"
      },
      "execution_count": null,
      "outputs": [
        {
          "output_type": "display_data",
          "data": {
            "text/plain": [
              "<Figure size 1000x600 with 1 Axes>"
            ],
            "image/png": "[encoded data removed]"
          },
          "metadata": {}
        }
      ]
    },
    {
      "cell_type": "markdown",
      "source": [
        "- `High Frequency Region`: The USA has the highest frequency with over 500 occurrences, indicating it is the most prominent region for movies.\n",
        "- `Low Frequency Regions`: France and Canada have the lowest frequencies, each with below 100 occurrences.\n",
        "- `Viewer Preference`: The data suggests that most viewers favor movies from the USA over those from France and Canada."
      ],
      "metadata": {
        "id": "IjMFhx2c6n05"
      }
    },
    {
      "cell_type": "markdown",
      "source": [
        "## **Bivariate Analysis**"
      ],
      "metadata": {
        "id": "Qrz5lShKu4VZ"
      }
    },
    {
      "cell_type": "markdown",
      "source": [
        "This type of analysis helps us understand how one variable influences or is associated with another. By exploring these relationships, we can uncover patterns, correlations, and potential causations that provide deeper insights into the data."
      ],
      "metadata": {
        "id": "OhV8vmU37QDf"
      }
    },
    {
      "cell_type": "markdown",
      "source": [
        "###**Top 10 genres vs budget/worldwide gross**"
      ],
      "metadata": {
        "id": "hQ-r0JVZJRTY"
      }
    },
    {
      "cell_type": "markdown",
      "source": [
        "The first analysis in this section will explore the relationship between movie genres and their financial performance, focusing on budget and worldwide gross. By analyzing the top 10 genres based on these financial metrics, we gain insights into which genres tend to have higher budgets and generate more revenue."
      ],
      "metadata": {
        "id": "FuDBQAjg8ZUE"
      }
    },
    {
      "cell_type": "code",
      "source": [
        "# Split genres and create a new DataFrame with individual genres\n",
        "genre_split = merged_df['genres'].str.split(',', expand=True).stack().reset_index(drop=True)\n",
        "genre_df = merged_df.drop(columns='genres').join(genre_split.rename('genre'))\n",
        "\n",
        "# Aggregate by genre for budget and worldwide gross\n",
        "genre_budget = genre_df.groupby('genre')['budget'].mean().sort_values(ascending=False)\n",
        "# Calculate average worldwide gross by genre\n",
        "genre_worldwide_gross = genre_df.groupby('genre')['worldwide_gross'].mean().sort_values(ascending=False)\n",
        "fig, (ax1, ax2) = plt.subplots(1, 2, figsize=(19, 6))\n",
        "#Top 10 Genres by average Budget\n",
        "genre_budget.head(10).plot(kind='bar', color='purple', ax=ax2)\n",
        "ax1.set_title('Top 10 Genres by average Budget (In millions)')\n",
        "ax1.set_xlabel('Genre')\n",
        "ax1.set_ylabel(' Budget')\n",
        "ax1.set_xticklabels(genre_budget.head(10).index, rotation=45, ha='right')\n",
        "#Top 10 Genres by average Worldwide Gross\n",
        "genre_worldwide_gross.head(10).plot(kind='bar', color='blue', ax=ax1)\n",
        "ax2.set_title('Top 10 Genres by average Worldwide Gross (In billions)')\n",
        "ax2.set_xlabel('Genre')\n",
        "ax2.set_ylabel(' Worldwide Gross')\n",
        "ax2.set_xticklabels(genre_worldwide_gross.head(10).index, rotation=45, ha='right')\n",
        ";"
      ],
      "metadata": {
        "colab": {
          "base_uri": "https://localhost:8080/",
          "height": 605
        },
        "id": "mQgv8qwGEhY_",
        "outputId": "49e44e6a-b5a5-4810-c3aa-5bbf7c3c75c5"
      },
      "execution_count": null,
      "outputs": [
        {
          "output_type": "execute_result",
          "data": {
            "text/plain": [
              "''"
            ],
            "application/vnd.google.colaboratory.intrinsic+json": {
              "type": "string"
            }
          },
          "metadata": {},
          "execution_count": 31
        },
        {
          "output_type": "display_data",
          "data": {
            "text/plain": [
              "<Figure size 1900x600 with 2 Axes>"
            ],
            "image/png": "[encoded data removed]"
          },
          "metadata": {}
        }
      ]
    },
    {
      "cell_type": "markdown",
      "source": [
        "- `Adventure, Action` and `Animation`: Leads in both worldwide gross and budget, indicating it generates the highest revenue and requires significant investment among the top 10 genres.\n",
        "- `Comedy, Thriller, and Family`: Rank lowest in worldwide gross and budget, suggesting these genres may face challenges in achieving high revenue and require fewer resources for production."
      ],
      "metadata": {
        "id": "L8L3K_S38pB1"
      }
    },
    {
      "cell_type": "markdown",
      "source": [
        "### **Average Profit Margin by Genre**"
      ],
      "metadata": {
        "id": "DatbgjGBPgwA"
      }
    },
    {
      "cell_type": "markdown",
      "source": [
        "Next, we examine the relationship between movie genres and their average profit margins. By calculating the profit margin for each movie and then averaging these margins by genre, we can identify which genres are the most profitable."
      ],
      "metadata": {
        "id": "eN9svvM79Mp5"
      }
    },
    {
      "cell_type": "code",
      "source": [
        "merged_df['profit_margin'] = ((merged_df['worldwide_gross'] - merged_df['budget']) / merged_df['budget']) * 100\n",
        "\n",
        "genre_split = merged_df['genres'].str.split(',', expand=True).stack().reset_index(drop=True)\n",
        "genre_df = merged_df.drop(columns='genres').join(genre_split.rename('genre'))\n",
        "genre_profit_margin = genre_df.groupby('genre')['profit_margin'].mean().sort_values(ascending=False)\n",
        "# Create a bar plot for profit margin by genre\n",
        "plt.figure(figsize=(12, 8))\n",
        "genre_profit_margin.plot(kind='bar', color='teal')\n",
        "plt.title('Average Profit Margin by Genre')\n",
        "plt.xlabel('Genre')\n",
        "plt.ylabel('Average Profit Margin (%)')\n",
        "plt.xticks(rotation=45, ha='right')\n",
        "plt.tight_layout()\n",
        "plt.show()\n"
      ],
      "metadata": {
        "id": "HcowQBNpOCf4",
        "colab": {
          "base_uri": "https://localhost:8080/",
          "height": 807
        },
        "outputId": "bca7026a-7735-41a8-bf33-cfcc69e2227e"
      },
      "execution_count": null,
      "outputs": [
        {
          "output_type": "display_data",
          "data": {
            "text/plain": [
              "<Figure size 1200x800 with 1 Axes>"
            ],
            "image/png": "[encoded data removed]"
          },
          "metadata": {}
        }
      ]
    },
    {
      "cell_type": "markdown",
      "source": [
        "- `High-Profit Genres`: Investing in Adventure, History, Mystery, and Music genres is likely to yield higher returns, with Adventure being the most profitable.\n",
        "- `Low-Profit Genre`: Westerns tend to have lower profitability, indicating a potential riskier investment.\n",
        "- `Strategic Focus`: To maximize profit margins, the production strategy should prioritize high-margin genres while carefully evaluating the potential and marketing strategies for Westerns."
      ],
      "metadata": {
        "id": "2Ti_g3N_9Vb5"
      }
    },
    {
      "cell_type": "markdown",
      "source": [
        "###**Top runtime vs budget/worldwide gross**"
      ],
      "metadata": {
        "id": "DS9NhoXHJDqL"
      }
    },
    {
      "cell_type": "markdown",
      "source": [
        "In this bivariate analysis, we get to see the relationship between movie runtime categories and their financial performance, focusing on budget and worldwide gross. By analyzing the top runtime categories based on these metrics, we gain insights into how runtime impacts financial outcomes."
      ],
      "metadata": {
        "id": "EuY706Zt9uOK"
      }
    },
    {
      "cell_type": "code",
      "source": [
        "# Get runtime category counts\n",
        "runtime_category_counts = merged_df['runtime_category'].value_counts().sort_index()\n",
        "\n",
        "# Aggregate by runtime category for budget\n",
        "runtime_budget = merged_df.groupby('runtime_category')['budget'].mean().sort_values(ascending=False)\n",
        "\n",
        "# Aggregate by runtime category for worldwide gross\n",
        "runtime_worldwide_gross = merged_df.groupby('runtime_category')['worldwide_gross'].mean().sort_values(ascending=False)\n",
        "\n",
        "fig, (ax1, ax2) = plt.subplots(1, 2, figsize=(19, 6))\n",
        "\n",
        "#Top 10 Runtime Categories by Average Budget\n",
        "runtime_budget.head(10).plot(kind='bar', color='blue', ax=ax1)\n",
        "ax1.set_title('Top  Runtime Categories by Average Budget (in millions)')\n",
        "ax1.set_xlabel('Runtime Category')\n",
        "ax1.set_ylabel(' Budget')\n",
        "ax1.set_xticklabels(runtime_budget.head(10).index, rotation=45, ha='right')\n",
        "\n",
        "# Top 10 Runtime Categories by Average Worldwide Gross\n",
        "runtime_worldwide_gross.head(10).plot(kind='bar', color='purple', ax=ax2)\n",
        "ax2.set_title('Top  Runtime Categories by Average Worldwide Gross (in billions)')\n",
        "ax2.set_xlabel('Runtime Category')\n",
        "ax2.set_ylabel(' Worldwide Gross')\n",
        "ax2.set_xticklabels(runtime_worldwide_gross.head(10).index, rotation=45, ha='right');\n"
      ],
      "metadata": {
        "id": "6jmUKYqoDvJh",
        "colab": {
          "base_uri": "https://localhost:8080/",
          "height": 562
        },
        "outputId": "a0d97738-b38f-45a8-e438-3b4812bc4f75"
      },
      "execution_count": null,
      "outputs": [
        {
          "output_type": "display_data",
          "data": {
            "text/plain": [
              "<Figure size 1900x600 with 2 Axes>"
            ],
            "image/png": "[encoded data removed]"
          },
          "metadata": {}
        }
      ]
    },
    {
      "cell_type": "markdown",
      "source": [
        "- `Highest Profit Margins`: Movies with runtimes of 0-90 minutes and 161-180 minutes have the highest average profit margins.\n",
        "\n",
        "- `Lowest Profit Margin`: Movies with runtimes of 91-100 minutes have the lowest profit margin.\n",
        "\n",
        "- `Runtime Impact`: Shorter and longer movies tend to be more profitable, while medium-length movies show lower profitability.\n",
        "\n",
        "- `Strategic Implication`: To optimize profit margins, focus on producing either shorter or longer films and investigate factors affecting profitability in medium-length movies."
      ],
      "metadata": {
        "id": "svv3yjrp94aB"
      }
    },
    {
      "cell_type": "markdown",
      "source": [
        "### **Average profit margin by runtime**"
      ],
      "metadata": {
        "id": "E2iyLcqJPqnw"
      }
    },
    {
      "cell_type": "markdown",
      "source": [
        "We will now investigate the relationship between movie runtime categories and their average profit margins. By calculating the average profit margin for each runtime category, we can identify which runtime lengths tend to be the most profitable."
      ],
      "metadata": {
        "id": "iRCZHgUy-SFq"
      }
    },
    {
      "cell_type": "code",
      "source": [
        "runtime_profit_margin = merged_df.groupby('runtime_category')['profit_margin'].mean().sort_values(ascending=False)\n",
        "# Create a bar plot for profit margin by runtime\n",
        "plt.figure(figsize=(12, 8))\n",
        "runtime_profit_margin.plot(kind='bar', color='teal')\n",
        "plt.title('Average Profit Margin by runtime_profit_margin')\n",
        "plt.xlabel('Runtime')\n",
        "plt.ylabel('Average Profit Margin (%)')\n",
        "plt.xticks(rotation=45, ha='right')\n",
        "plt.tight_layout()\n",
        "plt.show()\n"
      ],
      "metadata": {
        "id": "qIWbox5APwUw",
        "colab": {
          "base_uri": "https://localhost:8080/",
          "height": 807
        },
        "outputId": "2eff83cf-61eb-419b-cfbb-736ffd98be9f"
      },
      "execution_count": null,
      "outputs": [
        {
          "output_type": "display_data",
          "data": {
            "text/plain": [
              "<Figure size 1200x800 with 1 Axes>"
            ],
            "image/png": "[encoded data removed]"
          },
          "metadata": {}
        }
      ]
    },
    {
      "cell_type": "markdown",
      "source": [
        "- `Popular Runtime`: Movies with a runtime of `101-120` minutes have the highest frequency at approximately `700`, indicating strong audience preference.\n",
        "- `Longer Movies Less Frequent`: Films with runtimes of `141-160, 161-180, and 181-200` minutes each have frequencies below `100.`\n",
        "- `Audience Preference`: The data suggests audiences generally prefer shorter movies over extended viewing times."
      ],
      "metadata": {
        "id": "zfdeb3Zt-ZQu"
      }
    },
    {
      "cell_type": "markdown",
      "source": [
        "###**Budget vs Worldwide Gross**"
      ],
      "metadata": {
        "id": "gA6C-mKJIz-3"
      }
    },
    {
      "cell_type": "markdown",
      "source": [
        "The relationship between movie budgets and their worldwide gross revenues is also important. By plotting a scatter plot of budget against worldwide gross, we can visually assess how variations in budget correlate with financial performance."
      ],
      "metadata": {
        "id": "xEp1zzSx-1Ds"
      }
    },
    {
      "cell_type": "code",
      "source": [
        "# Scatter plot of budget vs worldwide gross\n",
        "plt.figure(figsize=(10, 6))\n",
        "plt.scatter(merged_df['budget'], merged_df['worldwide_gross'], color='teal', alpha=0.7)\n",
        "plt.title('Budget vs Worldwide Gross')\n",
        "plt.xlabel('Budget (in billions)')\n",
        "plt.ylabel('Worldwide Gross (in billions)')\n",
        "\n",
        "plt.show()\n"
      ],
      "metadata": {
        "id": "JKcXtBicFszt",
        "colab": {
          "base_uri": "https://localhost:8080/",
          "height": 564
        },
        "outputId": "3084b33d-f21a-4574-c4d9-f19abf17983b"
      },
      "execution_count": null,
      "outputs": [
        {
          "output_type": "display_data",
          "data": {
            "text/plain": [
              "<Figure size 1000x600 with 1 Axes>"
            ],
            "image/png": "[encoded data removed]"
          },
          "metadata": {}
        }
      ]
    },
    {
      "cell_type": "markdown",
      "source": [
        "- General Trend: There is a positive correlation between budget and worldwide gross. This suggests that movies with higher budgets tend to earn more revenue.\n"
      ],
      "metadata": {
        "id": "NnS_9NalrWYL"
      }
    },
    {
      "cell_type": "markdown",
      "source": [
        "## Multivariate Analysis"
      ],
      "metadata": {
        "id": "xdJEr5Uau4dz"
      }
    },
    {
      "cell_type": "markdown",
      "source": [
        "This type of analysis helps us understand the complex interactions and dependencies among multiple variables, providing deeper insights into the data. Techniques such as multiple regression, factor analysis, and clustering are used in multivariate analysis to uncover patterns and relationships that cannot be seen when considering variables individually."
      ],
      "metadata": {
        "id": "zR9J0r1WKmpy"
      }
    },
    {
      "cell_type": "markdown",
      "source": [
        "###**Top 10 Genres by Total Budget, Domestic Gross, and Worldwide Gross**"
      ],
      "metadata": {
        "id": "TUo-U0YvKwVP"
      }
    },
    {
      "cell_type": "markdown",
      "source": [
        "In this multivariate analysis, we examine the financial performance of the top 10 movie genres by considering three key financial metrics: budget, domestic gross, and worldwide gross. This analysis helps us understand the comprehensive financial impact of different genres."
      ],
      "metadata": {
        "id": "PiAoJNosLtBs"
      }
    },
    {
      "cell_type": "code",
      "source": [
        "#winny\n",
        "\n",
        "# Split genres and create a new DataFrame with individual genres\n",
        "genre_split = merged_df['genres'].str.split(',', expand=True).stack().reset_index(level=1, drop=True).rename('genre')\n",
        "genre_df = merged_df.drop(columns='genres').join(genre_split)\n",
        "\n",
        "# Aggregate by genre for budget, domestic gross, and worldwide gross\n",
        "genre_agg = genre_df.groupby('genre')[['budget', 'domestic_gross', 'worldwide_gross']].sum()\n",
        "\n",
        "# Select the top 10 genres based on worldwide_gross\n",
        "top_10_genres = genre_agg.nlargest(10, 'worldwide_gross')\n",
        "\n",
        "fig, ax = plt.subplots(figsize=(14, 8))\n",
        "colors = ['blue', 'teal', 'purple']\n",
        "\n",
        "top_10_genres.plot(kind='bar', ax=ax, color = colors)\n",
        "\n",
        "# Top 10 Genres by Total Budget, Domestic Gross, and Worldwide Gross\n",
        "ax.set_title('Top 10 Genres by Total Budget, Domestic Gross, and Worldwide Gross', fontsize=16)\n",
        "ax.set_xlabel('Genre', fontsize=14)\n",
        "ax.set_ylabel('Amount in USD', fontsize=14)\n",
        "ax.legend(title='Metrics')\n",
        "\n",
        "plt.xticks(rotation=45, ha='right')\n",
        "\n",
        "plt.tight_layout()\n",
        "plt.show()\n",
        "\n"
      ],
      "metadata": {
        "id": "_DsZ8t9eujkL",
        "colab": {
          "base_uri": "https://localhost:8080/",
          "height": 807
        },
        "outputId": "302ced53-e006-4888-a2a1-501f48a4fd85"
      },
      "execution_count": null,
      "outputs": [
        {
          "output_type": "display_data",
          "data": {
            "text/plain": [
              "<Figure size 1400x800 with 1 Axes>"
            ],
            "image/png": "[encoded data removed]"
          },
          "metadata": {}
        }
      ]
    },
    {
      "cell_type": "markdown",
      "source": [
        "- `Highest`: Adventure ranks highest in domestic gross, worldwide gross, and budget, followed by Action in second place.\n",
        "\n",
        "- `Lowest`: Family ranks lowest among the top 10 genres in these metrics.\n",
        "\n",
        "- `Implication`: Prioritize investment in Adventure and Action genres for better financial returns, while exploring ways to enhance the performance of Family films."
      ],
      "metadata": {
        "id": "cQA7qGOvOWwk"
      }
    },
    {
      "cell_type": "markdown",
      "source": [
        "##**Correlation Heatmap of Numeric Features**"
      ],
      "metadata": {
        "id": "1GTXkDJ4MIrX"
      }
    },
    {
      "cell_type": "markdown",
      "source": [
        "We explore the relationships between various numeric features of the dataset by computing and visualizing their correlation matrix. Correlation analysis helps us understand the strength and direction of linear relationships between pairs of variables.\n"
      ],
      "metadata": {
        "id": "VdFkYb9WMOKv"
      }
    },
    {
      "cell_type": "code",
      "source": [
        "#winny\n",
        "# Select only the numeric columns\n",
        "numeric_cols = ['budget', 'domestic_gross', 'worldwide_gross', 'average_rating', 'num_votes', 'runtime_minutes', 'popularity']\n",
        "\n",
        "# Ensure the columns exist in the DataFrame\n",
        "numeric_df = merged_df[numeric_cols]\n",
        "\n",
        "# Compute the correlation matrix\n",
        "corr_matrix = numeric_df.corr()\n",
        "\n",
        "# Create a heatmap\n",
        "plt.figure(figsize=(10, 8))\n",
        "sns.heatmap(corr_matrix, annot=True, cmap='coolwarm', vmin=-1, vmax=1, center=0)\n",
        "plt.title('Correlation Heatmap')\n",
        "plt.show()"
      ],
      "metadata": {
        "id": "IXVKo2_iujqz",
        "colab": {
          "base_uri": "https://localhost:8080/",
          "height": 802
        },
        "outputId": "6f329dc3-421f-49a1-de99-14729100c2df"
      },
      "execution_count": null,
      "outputs": [
        {
          "output_type": "display_data",
          "data": {
            "text/plain": [
              "<Figure size 1000x800 with 2 Axes>"
            ],
            "image/png": "[encoded data removed]"
          },
          "metadata": {}
        }
      ]
    },
    {
      "cell_type": "markdown",
      "source": [
        "\n",
        "> This heatmap allows us to quickly identify strong positive or negative correlations, as well as any weak or negligible relationships, helping us understand how different numeric features interact with each other.\n",
        "\n"
      ],
      "metadata": {
        "id": "SeYF8j0gMhNM"
      }
    },
    {
      "cell_type": "markdown",
      "source": [
        "- `Budget and worldwide_gross` has correlation of `0.802889` This indicates a strong positive correlation, meaning higher budgets tend to be associated with higher worldwide gross.\n",
        "- `Domestic_gross and worldwide_gross` also has strong corrleation of `0.947102` which shows very high correlation suggests that movies that perform well domestically also perform well worldwide.\n",
        "- `num_votes and popularity` also has moderate correlation of `0.584154` indicating a strong positive correlation, suggesting that movies with more votes tend to be more popular.\n",
        "\n",
        "- `Budget and domestic_gross`  has a high corrleation of `0.739963`\n",
        "- Finally `budget and popularity` has moderate correlation of `0.591660` showcasing a higher-budget movies tend to be more popular.\n",
        "- On the other side `average_rating` has lower correlations with most other variables, indicating that the average rating is less influenced by budget, gross, etc.\n",
        "- From here the best potential predictors for the model are\n",
        "1. `budget`\n",
        "2. `num_votes`\n",
        "2. `runtime_minutes`\n",
        "4. `popularity`  \n",
        "- Since  `domestic_gross` and `worldwide_gross` are highly correlated, we will choose the latter as target varible."
      ],
      "metadata": {
        "id": "sAsPyUMuJ3eR"
      }
    },
    {
      "cell_type": "markdown",
      "source": [
        "## Linear regression Model"
      ],
      "metadata": {
        "id": "rinLHfpdl3BB"
      }
    },
    {
      "cell_type": "markdown",
      "source": [
        "We build a linear regression model to predict the worldwide gross of movies based on several numeric features. Linear regression is a statistical method used to model the relationship between a dependent variable and one or more independent variables."
      ],
      "metadata": {
        "id": "AqQ-rUyCN1_l"
      }
    },
    {
      "cell_type": "code",
      "source": [
        "\n",
        "# Select only the relevant numeric columns\n",
        "numeric_columns = ['budget', 'num_votes', 'runtime_minutes', 'popularity']\n",
        "data = merged_df[numeric_columns + ['worldwide_gross']].dropna()\n",
        "\n",
        "# Define features (X) and target variable (y)\n",
        "X = data[numeric_columns]\n",
        "y = data['worldwide_gross']\n",
        "\n",
        "# Add constant term for intercept\n",
        "X_with_const = sm.add_constant(X)\n",
        "\n",
        "# Create and fit the OLS model\n",
        "model = sm.OLS(y, X_with_const).fit()\n",
        "\n",
        "# Print the model summary\n",
        "print(model.summary())\n"
      ],
      "metadata": {
        "id": "QkooAwHnl7ql",
        "colab": {
          "base_uri": "https://localhost:8080/"
        },
        "outputId": "11a41730-ce84-49cc-d113-d94d04bae6f0"
      },
      "execution_count": null,
      "outputs": [
        {
          "output_type": "stream",
          "name": "stdout",
          "text": [
            "                            OLS Regression Results                            \n",
            "==============================================================================\n",
            "Dep. Variable:        worldwide_gross   R-squared:                       0.693\n",
            "Model:                            OLS   Adj. R-squared:                  0.692\n",
            "Method:                 Least Squares   F-statistic:                     1006.\n",
            "Date:                Thu, 25 Jul 2024   Prob (F-statistic):               0.00\n",
            "Time:                        11:28:56   Log-Likelihood:                -35877.\n",
            "No. Observations:                1788   AIC:                         7.176e+04\n",
            "Df Residuals:                    1783   BIC:                         7.179e+04\n",
            "Df Model:                           4                                         \n",
            "Covariance Type:            nonrobust                                         \n",
            "===================================================================================\n",
            "                      coef    std err          t      P>|t|      [0.025      0.975]\n",
            "-----------------------------------------------------------------------------------\n",
            "const            3.625e+07   1.87e+07      1.936      0.053   -4.65e+05     7.3e+07\n",
            "budget              2.7687      0.074     37.478      0.000       2.624       2.914\n",
            "num_votes         344.1919     26.117     13.179      0.000     292.968     395.416\n",
            "runtime_minutes -7.855e+05   1.87e+05     -4.211      0.000   -1.15e+06    -4.2e+05\n",
            "popularity       2.552e+06   4.99e+05      5.114      0.000    1.57e+06    3.53e+06\n",
            "==============================================================================\n",
            "Omnibus:                     1330.281   Durbin-Watson:                   1.393\n",
            "Prob(Omnibus):                  0.000   Jarque-Bera (JB):            52987.368\n",
            "Skew:                           3.052   Prob(JB):                         0.00\n",
            "Kurtosis:                      28.961   Cond. No.                     4.14e+08\n",
            "==============================================================================\n",
            "\n",
            "Notes:\n",
            "[1] Standard Errors assume that the covariance matrix of the errors is correctly specified.\n",
            "[2] The condition number is large, 4.14e+08. This might indicate that there are\n",
            "strong multicollinearity or other numerical problems.\n"
          ]
        }
      ]
    },
    {
      "cell_type": "markdown",
      "source": [
        "- `R-squared = 0.693` means that approximately `69.3%` of the variance in the target variable `worldwide_gross` can be explained by the predictors in the model. This indicates a good fit, showing that the model explains a substantial portion of the variability in `worldwide_gross.`\n",
        "- `Intercept`: The p-value of `0.053` indicates that the intercept is not close to being statistically significant at the 5% level hence not significant in this context.\n",
        "\n",
        "- `Budget`: The p-value of `0.000` shows that budget is a highly significant predictor of worldwide_gross, with a strong positive effect.\n",
        "\n",
        "- `Num_votes:` The p-value of `0.000` indicates that num_votes is a highly significant predictor of worldwide_gross, with a strong positive effect.\n",
        "\n",
        "- `Runtime_minutes`: The p-value of `0.000`   signifies that runtime_minutes is a highly significant predictor of worldwide_gross, with a strong negative effect.\n",
        "\n",
        "- `Popularity`: The p-value of `0.000` shows that popularity is a highly significant predictor of worldwide_gross, with a strong positive effect."
      ],
      "metadata": {
        "id": "r8aynayJMP9-"
      }
    },
    {
      "cell_type": "markdown",
      "source": [
        "# Conclusions"
      ],
      "metadata": {
        "id": "FjiKhMWQvj5S"
      }
    },
    {
      "cell_type": "markdown",
      "source": [
        "\n",
        "\n",
        "1.   increase in budget leads to an increase in worldwide gross\n",
        "2.   Movies with a runtime between 141 to 180 have the highest budget and the highest worldwide gross\n",
        "3.   Adventure movies have the highest budget, highest gross and the highest profit margin folowed by Action movies\n",
        "4.  Most of the highest grossing movies are made in the USA\n",
        "5. Movies with a low runtime have the highest gross margin due to the fact they are cheap to produce\n",
        "\n",
        "\n"
      ],
      "metadata": {
        "id": "7rUNBl9QvrVT"
      }
    },
    {
      "cell_type": "markdown",
      "source": [
        "# Recommendations"
      ],
      "metadata": {
        "id": "FrEYA2IBvnrc"
      }
    },
    {
      "cell_type": "markdown",
      "source": [
        "## 1. High-Budget Adventure and Action Movies\n",
        "- **Reason**: Adventure movies, followed by Action movies, have demonstrated the highest budgets, gross earnings, and profit margins. Investing in high-budget productions within these genres can capitalize on their established financial success and popularity.\n",
        "- **Example**: Consider creating large-scale adventure films similar to franchises like \"Indiana Jones\" or \"Jurassic Park,\" and action films akin to \"The Avengers\" or \"Mission Impossible.\"\n",
        "\n",
        "## 2. Mid to High Budget Movies with a Runtime of 141 to 180 Minutes\n",
        "- **Reason**: Movies within the 141 to 180-minute runtime bracket show the highest budgets and worldwide gross. These films often offer expansive storytelling that can attract larger audiences and generate significant revenue.\n",
        "- **Example**: Epic narratives like \"The Lord of the Rings\" series or \"Avatar,\" which have longer runtimes and significant box office success.\n",
        "\n",
        "## 3. Low-Budget, Short Runtime Films\n",
        "- **Reason**: Films with shorter runtimes have shown the highest gross margins due to lower production costs. These movies can yield high profitability by minimizing expenses while still appealing to specific audience segments.\n",
        "- **Example**: Focus on genres such as comedies, horror, or independent dramas that typically have shorter runtimes but can attract dedicated audiences. Films like \"Paranormal Activity\" or \"Get Out\" demonstrate how low-budget films can achieve high profitability.\n",
        "\n",
        "## Additional Consideration\n",
        "- **Location**: Since most high-grossing movies are made in the USA, ensuring production in or collaboration with studios in the USA can further enhance the chances of success.\n"
      ],
      "metadata": {
        "id": "XkDTWsF9pC9A"
      }
    }
  ]
}