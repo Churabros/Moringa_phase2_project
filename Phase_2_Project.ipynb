{
  "nbformat": 4,
  "nbformat_minor": 0,
  "metadata": {
    "colab": {
      "provenance": [],
      "include_colab_link": true
    },
    "kernelspec": {
      "name": "python3",
      "display_name": "Python 3"
    },
    "language_info": {
      "name": "python"
    }
  },
  "cells": [
    {
      "cell_type": "markdown",
      "metadata": {
        "id": "view-in-github",
        "colab_type": "text"
      },
      "source": [
        "<a href=\"https://colab.research.google.com/github/Churabros/Moringa_phase2_project/blob/main/Phase_2_Project.ipynb\" target=\"_parent\"><img src=\"https://colab.research.google.com/assets/colab-badge.svg\" alt=\"Open In Colab\"/></a>"
      ]
    },
    {
      "cell_type": "markdown",
      "source": [
        "# Phase 3 Project\n",
        "##Group Members\n",
        "\n",
        "\n",
        "1.   Yusuf Ali\n",
        "2.   Winny Chepkoech\n",
        "3.   Festus Muchemi\n",
        "4.   Krop Leonard\n",
        "\n"
      ],
      "metadata": {
        "id": "SJULmS0tbVpf"
      }
    },
    {
      "cell_type": "markdown",
      "source": [
        "# winny\n",
        "# overview\n",
        "In the evolving landscape of the entertainment industry, major companies are increasingly investing in original video content to capture audience attention and secure market share. Following this trend, our company has decided to venture into the movie production business by establishing a new movie studio. However, given our lack of experience in this domain, it is crucial to understand the current dynamics of the box office to make informed decisions about the types of films to produce. This analysis will help our company’s new movie studio to strategically plan and create films that are more likely to perform well at the box office, thereby ensuring a competitive edge in the market.\n",
        "\n"
      ],
      "metadata": {
        "id": "4riEZYZ6qUXG"
      }
    },
    {
      "cell_type": "markdown",
      "source": [
        "# Business understanding\n",
        "The film industry is a highly competitive and dynamic sector, where the success of a movie depends on various factors, including genre, budget, cast, marketing, and release timing. By analyzing these factors, we can gain insights into what makes a movie successful and use this knowledge to guide our production choices. Understanding the preferences and behaviors of moviegoers, as well as the strategies employed by successful films, will be critical in shaping our studio's content creation strategy.\n",
        "\n"
      ],
      "metadata": {
        "id": "j5Srx_OjsAsg"
      }
    },
    {
      "cell_type": "markdown",
      "source": [
        "#Objectives  \n",
        "1.\tIdentify leading movie studios by analyzing performance metrics to determine which consistently produce high-performing films.\n",
        "2.\tCompare production costs to revenue to identify optimal investment strategies for maximizing return on investment.\n",
        "3.\tAnalyze movie ratings and audience preferences to understand what elements contribute to higher viewer satisfaction.\n",
        "4.\tBenchmark against competitors by investigating their successful strategies and practices in the movie production industry.\n"
      ],
      "metadata": {
        "id": "IAS9l-f5ECKZ"
      }
    },
    {
      "cell_type": "markdown",
      "source": [
        "#Data Understanding\n",
        "The Data that was used for this analysis will be pulled from Three Diffrent sources\n",
        "\n",
        "`tn.movie_budgets.csv`\n",
        "\n",
        "* **Source**: Blank\n",
        "* **Contents**: Blank\n",
        "* **Format**: Blank\n",
        "\n",
        "`tmdb.movies.csv`\n",
        "\n",
        "* **Source**: Blank\n",
        "* **Contents**: Blank\n",
        "* **Format**: Blank\n",
        "\n",
        "`rt.movie_info.tsv`\n",
        "\n",
        "* **Source**: Blank\n",
        "* **Contents**: Blank\n",
        "* **Format**: Blank\n",
        "\n"
      ],
      "metadata": {
        "id": "Uv0M1IXTsnd2"
      }
    },
    {
      "cell_type": "markdown",
      "source": [
        "**Inserting Relevant Libraries to help in analysing the data**"
      ],
      "metadata": {
        "id": "NUHDnvKlt4eq"
      }
    },
    {
      "cell_type": "code",
      "execution_count": null,
      "metadata": {
        "id": "LW9ZXG3JGSSL"
      },
      "outputs": [],
      "source": [
        "import pandas as pd\n",
        "import numpy as np\n",
        "import matplotlib.pyplot as plt\n",
        "from math import sqrt\n",
        "import seaborn as sns\n",
        "import sqlite3"
      ]
    },
    {
      "cell_type": "markdown",
      "source": [
        "**Import Relevant Libraries That will be used in the analysis**"
      ],
      "metadata": {
        "id": "h0Yk00yuuA_T"
      }
    },
    {
      "cell_type": "code",
      "source": [
        "#Imported Datasets\n",
        "df_budget = pd.read_csv('/content/tn.movie_budgets.csv.gz')\n",
        "df_tmdf = pd.read_csv('/content/tmdb.movies.csv.gz')\n",
        "df_gross = pd.read_csv('/content/bom.movie_gross.csv.gz')\n",
        "df_rev = pd.read_csv('/content/rt.reviews.tsv.gz', sep='\\t', encoding='latin1') # Try using 'latin1' encoding\n",
        "df_info = pd.read_csv('/content/rt.movie_info.tsv.gz', sep='\\t')\n",
        "path = '/content/im.db'\n",
        "conn = sqlite3.connect(path)"
      ],
      "metadata": {
        "id": "XyRtGfK6TuAq"
      },
      "execution_count": null,
      "outputs": []
    },
    {
      "cell_type": "markdown",
      "source": [
        "#Data Exploration"
      ],
      "metadata": {
        "id": "aAcKurCTsKKk"
      }
    },
    {
      "cell_type": "code",
      "source": [
        "df_info.head()"
      ],
      "metadata": {
        "id": "R2wNgjOF5ZQH"
      },
      "execution_count": null,
      "outputs": []
    },
    {
      "cell_type": "code",
      "source": [
        "# Yusuf Ali\n",
        "df_budget.head()"
      ],
      "metadata": {
        "id": "MVHcdbzuaVrV"
      },
      "execution_count": null,
      "outputs": []
    },
    {
      "cell_type": "code",
      "source": [
        "df_budget.info()"
      ],
      "metadata": {
        "id": "NDpM1sIob3B8"
      },
      "execution_count": null,
      "outputs": []
    },
    {
      "cell_type": "code",
      "source": [
        "# Yusuf Ali\n",
        "df_tmdf.head()"
      ],
      "metadata": {
        "id": "NBEKA_s3aWu2"
      },
      "execution_count": null,
      "outputs": []
    },
    {
      "cell_type": "code",
      "source": [
        "df_tmdf.info()"
      ],
      "metadata": {
        "id": "9Sf017Qcb5iZ"
      },
      "execution_count": null,
      "outputs": []
    },
    {
      "cell_type": "code",
      "source": [
        "# Yusuf Ali\n",
        "df_gross.head()"
      ],
      "metadata": {
        "id": "yMyf7P2ZaW1Z"
      },
      "execution_count": null,
      "outputs": []
    },
    {
      "cell_type": "code",
      "source": [
        "# Yusuf Ali\n",
        "df_imdb = pd.read_sql(\n",
        "    \"\"\"\n",
        "    SELECT *\n",
        "    FROM sqlite_master\n",
        "    \"\"\"\n",
        ", conn\n",
        ")\n",
        "\n",
        "df_imdb"
      ],
      "metadata": {
        "id": "tgwflA1ESrEG"
      },
      "execution_count": null,
      "outputs": []
    },
    {
      "cell_type": "code",
      "source": [
        "#Yusuf Ali\n",
        "query = \"\"\" SELECT *\n",
        "            FROM movie_ratings rat\n",
        "            JOIN  movie_akas ak\n",
        "            ON rat.movie_id = ak.movie_id\n",
        "            JOIN movie_basics mb\n",
        "            ON ak.movie_id = mb.movie_id \"\"\"\n",
        "df_imdb = pd.read_sql(query,conn)\n"
      ],
      "metadata": {
        "id": "2HuT8f9f1gSr"
      },
      "execution_count": null,
      "outputs": []
    },
    {
      "cell_type": "code",
      "source": [
        "print(type(df_imdb))"
      ],
      "metadata": {
        "id": "l-4O8CLG3ZtW"
      },
      "execution_count": null,
      "outputs": []
    },
    {
      "cell_type": "code",
      "source": [
        "columns_to_keep = [ 'averagerating', 'numvotes', 'title', 'region', 'language', 'types', 'start_year', 'runtime_minutes', 'genres']\n",
        "df_imdb = df_imdb.loc[:,~df_imdb.columns.duplicated()]\n",
        "df_cleaned = df_imdb[columns_to_keep]\n",
        "df_cleaned.head()"
      ],
      "metadata": {
        "id": "niTQNPKD3JgU"
      },
      "execution_count": null,
      "outputs": []
    },
    {
      "cell_type": "code",
      "source": [
        "df_cleaned.info()"
      ],
      "metadata": {
        "id": "S9U7hcH9Lu6o"
      },
      "execution_count": null,
      "outputs": []
    },
    {
      "cell_type": "markdown",
      "source": [
        "# Data Cleaning\n",
        "\n",
        "Blank"
      ],
      "metadata": {
        "id": "0iV0spFcubBM"
      }
    },
    {
      "cell_type": "markdown",
      "source": [
        "### Merging Datasets"
      ],
      "metadata": {
        "id": "W7eswH_NoRi8"
      }
    },
    {
      "cell_type": "code",
      "source": [
        "#Yusuf Ali\n",
        "# Merging df_budget with df_cleaned on 'movie' and 'title'\n",
        "merged_df = df_budget.merge(df_cleaned, left_on='movie', right_on='title', how='left')\n",
        "\n",
        "# Then merging the result with df_tmdf on 'title'\n",
        "merged_df = merged_df.merge(df_tmdf, left_on='movie', right_on='title', how='left')\n",
        "# Checking the first few rows of the merged dataframe\n",
        "merged_df.head()\n"
      ],
      "metadata": {
        "id": "9ryPnbQRRgae"
      },
      "execution_count": null,
      "outputs": []
    },
    {
      "cell_type": "markdown",
      "source": [
        "### Dropping Columns"
      ],
      "metadata": {
        "id": "NNHP1VOioMTk"
      }
    },
    {
      "cell_type": "code",
      "source": [
        "# Drop unnecessary columns\n",
        "columns_to_drop = [\n",
        "    'Unnamed: 0', 'title_x', 'title_y', 'id_y', 'id_x',\n",
        "    'original_title', 'types', 'genre_ids', 'start_year',\n",
        "    'vote_count', 'vote_average', 'release_date_y'\n",
        "]\n",
        "merged_df = merged_df.drop(columns=columns_to_drop)\n",
        "\n",
        "# Rename columns to be more descriptive (if necessary)\n",
        "merged_df = merged_df.rename(columns={\n",
        "    'movie': 'title',  # Assuming 'movie' is the main title column\n",
        "    'release_date_x': 'budget_release_date',\n",
        "    'production_budget': 'budget',\n",
        "    'domestic_gross': 'domestic_gross',\n",
        "    'worldwide_gross': 'worldwide_gross',\n",
        "    'averagerating': 'average_rating',\n",
        "    'numvotes': 'num_votes',\n",
        "    'region': 'region',\n",
        "    'language': 'language',\n",
        "    'runtime_minutes': 'runtime_minutes',\n",
        "    'genres': 'genres',\n",
        "    'original_language': 'original_language',\n",
        "    'popularity': 'popularity'\n",
        "})\n",
        "\n"
      ],
      "metadata": {
        "id": "SvHcHrdgSD16"
      },
      "execution_count": null,
      "outputs": []
    },
    {
      "cell_type": "markdown",
      "source": [
        "### Handeling Duplicates"
      ],
      "metadata": {
        "id": "7Ka96aTeofAP"
      }
    },
    {
      "cell_type": "code",
      "source": [
        "# Remove any duplicate rows\n",
        "merged_df['priority'] = merged_df['region'].apply(lambda x: 0 if x == 'US' else 1)\n",
        "merged_df = merged_df.drop(columns='priority')\n",
        "\n",
        "# Drop duplicates based on the 'title' column, keeping the first occurrence\n",
        "merged_df = merged_df.drop_duplicates(subset='title', keep='first')"
      ],
      "metadata": {
        "id": "2ydE1g5tZFzt"
      },
      "execution_count": null,
      "outputs": []
    },
    {
      "cell_type": "code",
      "source": [
        "merged_df.info()"
      ],
      "metadata": {
        "id": "kt8Fi0olgRDm"
      },
      "execution_count": null,
      "outputs": []
    },
    {
      "cell_type": "markdown",
      "source": [
        "### Handeling Nulls"
      ],
      "metadata": {
        "id": "Ac9wzpBfoGVJ"
      }
    },
    {
      "cell_type": "code",
      "source": [
        "# Convert runtime_minutes to numeric, forcing errors to NaN (in case there are any non-numeric values)\n",
        "merged_df['runtime_minutes'] = pd.to_numeric(merged_df['runtime_minutes'], errors='coerce')\n",
        "\n",
        "# Calculate the mean of runtime_minutes, excluding NaNs\n",
        "mean_runtime = merged_df['runtime_minutes'].mean()\n",
        "\n",
        "# Fill NaNs in runtime_minutes with the mean\n",
        "merged_df['runtime_minutes'].fillna(mean_runtime, inplace=True)"
      ],
      "metadata": {
        "id": "bys-j0kHmSIi"
      },
      "execution_count": null,
      "outputs": []
    },
    {
      "cell_type": "code",
      "source": [
        "merged_df.info()"
      ],
      "metadata": {
        "id": "18V-chL0r5fG"
      },
      "execution_count": null,
      "outputs": []
    },
    {
      "cell_type": "markdown",
      "source": [],
      "metadata": {
        "id": "zMYAzs4z-Ptq"
      }
    },
    {
      "cell_type": "code",
      "source": [
        "merged_df[merged_df['genres'].isna()]"
      ],
      "metadata": {
        "id": "BEpzRuZRjWmX"
      },
      "execution_count": null,
      "outputs": []
    },
    {
      "cell_type": "markdown",
      "source": [],
      "metadata": {
        "id": "lALdV0E5uhvu"
      }
    },
    {
      "cell_type": "markdown",
      "source": [
        "# EDA(Exploritary data analysis)"
      ],
      "metadata": {
        "id": "fmaOk5kWupYa"
      }
    },
    {
      "cell_type": "markdown",
      "source": [
        "## Univariate Analysis"
      ],
      "metadata": {
        "id": "dwtJOPJ-uxGw"
      }
    },
    {
      "cell_type": "code",
      "source": [],
      "metadata": {
        "id": "BpoxpnuJvPQc"
      },
      "execution_count": null,
      "outputs": []
    },
    {
      "cell_type": "markdown",
      "source": [
        "## Bivariate Analysis"
      ],
      "metadata": {
        "id": "Qrz5lShKu4VZ"
      }
    },
    {
      "cell_type": "code",
      "source": [],
      "metadata": {
        "id": "EyIwRWxIvTsD"
      },
      "execution_count": null,
      "outputs": []
    },
    {
      "cell_type": "markdown",
      "source": [
        "## multivariate Analysis"
      ],
      "metadata": {
        "id": "xdJEr5Uau4dz"
      }
    },
    {
      "cell_type": "code",
      "source": [
        "!git status\n"
      ],
      "metadata": {
        "id": "_DsZ8t9eujkL"
      },
      "execution_count": null,
      "outputs": []
    },
    {
      "cell_type": "code",
      "source": [],
      "metadata": {
        "id": "IXVKo2_iujqz"
      },
      "execution_count": null,
      "outputs": []
    },
    {
      "cell_type": "markdown",
      "source": [
        "# Conclusions"
      ],
      "metadata": {
        "id": "FjiKhMWQvj5S"
      }
    },
    {
      "cell_type": "markdown",
      "source": [],
      "metadata": {
        "id": "7rUNBl9QvrVT"
      }
    },
    {
      "cell_type": "markdown",
      "source": [
        "# Reccomendations"
      ],
      "metadata": {
        "id": "FrEYA2IBvnrc"
      }
    },
    {
      "cell_type": "code",
      "source": [],
      "metadata": {
        "id": "0GB-dr7Sujyq"
      },
      "execution_count": null,
      "outputs": []
    },
    {
      "cell_type": "code",
      "source": [],
      "metadata": {
        "id": "R59xsIvGuj3p"
      },
      "execution_count": null,
      "outputs": []
    },
    {
      "cell_type": "code",
      "source": [],
      "metadata": {
        "id": "csnopIzCuj7A"
      },
      "execution_count": null,
      "outputs": []
    },
    {
      "cell_type": "code",
      "source": [],
      "metadata": {
        "id": "SVj42BTzukBO"
      },
      "execution_count": null,
      "outputs": []
    },
    {
      "cell_type": "code",
      "source": [],
      "metadata": {
        "id": "12qJEf22ukHT"
      },
      "execution_count": null,
      "outputs": []
    },
    {
      "cell_type": "code",
      "source": [],
      "metadata": {
        "id": "6sXvOMvLukNQ"
      },
      "execution_count": null,
      "outputs": []
    }
  ]
}